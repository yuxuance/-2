{
 "cells": [
  {
   "cell_type": "markdown",
   "id": "8a708873",
   "metadata": {},
   "source": [
    "# 遍历整个列表"
   ]
  },
  {
   "cell_type": "code",
   "execution_count": 3,
   "id": "29d93cd4",
   "metadata": {
    "scrolled": true
   },
   "outputs": [
    {
     "name": "stdout",
     "output_type": "stream",
     "text": [
      "alice\n",
      "david\n",
      "carolina\n"
     ]
    }
   ],
   "source": [
    "magicians=[\"alice\",\"david\",\"carolina\"]\n",
    "for magician in magicians:\n",
    "     print(magician)"
   ]
  },
  {
   "cell_type": "code",
   "execution_count": 4,
   "id": "1436a479",
   "metadata": {},
   "outputs": [
    {
     "name": "stdout",
     "output_type": "stream",
     "text": [
      "Alice,that was a great trick!\n",
      "David,that was a great trick!\n",
      "Carolina,that was a great trick!\n"
     ]
    }
   ],
   "source": [
    "magicians=[\"alice\",\"david\",\"carolina\"]\n",
    "for magician in magicians:\n",
    "    print(f\"{magician.title()},that was a great trick!\")"
   ]
  },
  {
   "cell_type": "code",
   "execution_count": 6,
   "id": "6f01b050",
   "metadata": {},
   "outputs": [
    {
     "name": "stdout",
     "output_type": "stream",
     "text": [
      "Alice,that was a great trick!\n",
      "I can't wait to see your next trick,Alice.\n",
      "\n",
      "David,that was a great trick!\n",
      "I can't wait to see your next trick,David.\n",
      "\n",
      "Carolina,that was a great trick!\n",
      "I can't wait to see your next trick,Carolina.\n",
      "\n"
     ]
    }
   ],
   "source": [
    " magicians=[\"alice\",\"david\",\"carolina\"]\n",
    "for magician in magicians:\n",
    "    print(f\"{magician.title()},that was a great trick!\")\n",
    "    print(f\"I can't wait to see your next trick,{magician.title()}.\\n\")"
   ]
  },
  {
   "cell_type": "code",
   "execution_count": 7,
   "id": "0364f76e",
   "metadata": {},
   "outputs": [
    {
     "name": "stdout",
     "output_type": "stream",
     "text": [
      "Alice,that was a great trick!\n",
      "I can't wait to see your next trick,Alice.\n",
      "\n",
      "David,that was a great trick!\n",
      "I can't wait to see your next trick,David.\n",
      "\n",
      "Carolina,that was a great trick!\n",
      "I can't wait to see your next trick,Carolina.\n",
      "\n",
      "Thank you,everyone. That was a great maic show!\n"
     ]
    }
   ],
   "source": [
    " magicians=[\"alice\",\"david\",\"carolina\"]\n",
    "for magician in magicians:\n",
    "    print(f\"{magician.title()},that was a great trick!\")\n",
    "    print(f\"I can't wait to see your next trick,{magician.title()}.\\n\")\n",
    "    \n",
    "print(\"Thank you,everyone. That was a great maic show!\")    "
   ]
  },
  {
   "cell_type": "markdown",
   "id": "60bc450c",
   "metadata": {},
   "source": [
    "# 4.3 创建数值列表"
   ]
  },
  {
   "cell_type": "code",
   "execution_count": 14,
   "id": "8d6479cb",
   "metadata": {},
   "outputs": [
    {
     "name": "stdout",
     "output_type": "stream",
     "text": [
      "1\n",
      "2\n",
      "3\n",
      "4\n"
     ]
    }
   ],
   "source": [
    "for value in range(1,5):\n",
    "    print(value)"
   ]
  },
  {
   "cell_type": "code",
   "execution_count": 15,
   "id": "7bc54f30",
   "metadata": {},
   "outputs": [
    {
     "name": "stdout",
     "output_type": "stream",
     "text": [
      "[1, 2, 3, 4, 5]\n"
     ]
    }
   ],
   "source": [
    "number=list(range(1,6))\n",
    "print(number)"
   ]
  },
  {
   "cell_type": "code",
   "execution_count": 16,
   "id": "bd38f218",
   "metadata": {},
   "outputs": [
    {
     "name": "stdout",
     "output_type": "stream",
     "text": [
      "[2, 4, 6, 8, 10]\n"
     ]
    }
   ],
   "source": [
    "even_number= list(range(2,11,2))\n",
    "print(even_number)"
   ]
  },
  {
   "cell_type": "code",
   "execution_count": 20,
   "id": "d0cb01f0",
   "metadata": {},
   "outputs": [
    {
     "name": "stdout",
     "output_type": "stream",
     "text": [
      "[1, 4, 9, 16, 25, 36, 49, 64, 81, 100]\n"
     ]
    }
   ],
   "source": [
    "squares=[]\n",
    "for value in range(1,11):\n",
    "    square=value**2\n",
    "    squares.append(square)\n",
    "    \n",
    "print(squares)"
   ]
  },
  {
   "cell_type": "code",
   "execution_count": 27,
   "id": "6675b392",
   "metadata": {},
   "outputs": [
    {
     "name": "stdout",
     "output_type": "stream",
     "text": [
      "[1, 4, 9, 16, 25, 36, 49, 64, 81, 100, 1, 4, 9, 16, 25, 36, 49, 64, 81, 100, 1, 4, 9, 16, 25, 36, 49, 64, 81, 100, 1, 4, 9, 16, 25, 36, 49, 64, 81, 100, 1, 4, 9, 16, 25, 36, 49, 64, 81, 100, 1, 4, 9, 16, 25, 36, 49, 64, 81, 100, 1, 4, 9, 16, 25, 36, 49, 64, 81, 100, 1, 4, 9, 16, 25, 36, 49, 64, 81, 100]\n"
     ]
    }
   ],
   "source": [
    "square=[]\n",
    "for value in range(1,11):\n",
    "    squares.append(value**2) \n",
    "    \n",
    "print(squares)"
   ]
  },
  {
   "cell_type": "markdown",
   "id": "72b51b87",
   "metadata": {},
   "source": [
    "# 4.3.3 对数值列表执行简单的统计计算"
   ]
  },
  {
   "cell_type": "code",
   "execution_count": 30,
   "id": "a0bf6eda",
   "metadata": {},
   "outputs": [
    {
     "data": {
      "text/plain": [
       "45"
      ]
     },
     "execution_count": 30,
     "metadata": {},
     "output_type": "execute_result"
    }
   ],
   "source": [
    "digits=[1,2,3,4,5,6,7,8,9,0]\n",
    "min(digits)"
   ]
  },
  {
   "cell_type": "code",
   "execution_count": 31,
   "id": "7d728ce9",
   "metadata": {},
   "outputs": [
    {
     "data": {
      "text/plain": [
       "9"
      ]
     },
     "execution_count": 31,
     "metadata": {},
     "output_type": "execute_result"
    }
   ],
   "source": [
    "digits=[1,2,3,4,5,6,7,8,9,0]\n",
    "max(digits)"
   ]
  },
  {
   "cell_type": "code",
   "execution_count": 32,
   "id": "2e30084b",
   "metadata": {},
   "outputs": [
    {
     "data": {
      "text/plain": [
       "45"
      ]
     },
     "execution_count": 32,
     "metadata": {},
     "output_type": "execute_result"
    }
   ],
   "source": [
    "digits=[1,2,3,4,5,6,7,8,9,0]\n",
    "sum(digits)"
   ]
  },
  {
   "cell_type": "code",
   "execution_count": 33,
   "id": "7195dc38",
   "metadata": {},
   "outputs": [
    {
     "name": "stdout",
     "output_type": "stream",
     "text": [
      "[1, 4, 9, 16, 25, 36, 49, 64, 81, 100]\n"
     ]
    }
   ],
   "source": [
    "squares=[value**2 for value in range(1,11)]\n",
    "print(squares)"
   ]
  },
  {
   "cell_type": "code",
   "execution_count": 35,
   "id": "b35e2928",
   "metadata": {},
   "outputs": [
    {
     "name": "stdout",
     "output_type": "stream",
     "text": [
      "['charles', 'martina', 'michael']\n"
     ]
    }
   ],
   "source": [
    "players=[\"charles\",\"martina\",\"michael\",\"florence\",\"eli\"]\n",
    "print(players[0:3])"
   ]
  },
  {
   "cell_type": "code",
   "execution_count": 36,
   "id": "8f447704",
   "metadata": {},
   "outputs": [
    {
     "name": "stdout",
     "output_type": "stream",
     "text": [
      "['martina', 'michael', 'florence']\n"
     ]
    }
   ],
   "source": [
    "players=[\"charles\",\"martina\",\"michael\",\"florence\",\"eli\"]\n",
    "print(players[1:4])"
   ]
  },
  {
   "cell_type": "code",
   "execution_count": 37,
   "id": "fa5cc7e7",
   "metadata": {},
   "outputs": [
    {
     "name": "stdout",
     "output_type": "stream",
     "text": [
      "['charles', 'martina', 'michael', 'florence']\n"
     ]
    }
   ],
   "source": [
    "players=[\"charles\",\"martina\",\"michael\",\"florence\",\"eli\"]\n",
    "print(players[:4])"
   ]
  },
  {
   "cell_type": "code",
   "execution_count": 38,
   "id": "b536ca0b",
   "metadata": {},
   "outputs": [
    {
     "name": "stdout",
     "output_type": "stream",
     "text": [
      "['michael', 'florence', 'eli']\n"
     ]
    }
   ],
   "source": [
    "players=[\"charles\",\"martina\",\"michael\",\"florence\",\"eli\"]\n",
    "print(players[2:])"
   ]
  },
  {
   "cell_type": "code",
   "execution_count": 39,
   "id": "b9a42da8",
   "metadata": {},
   "outputs": [
    {
     "name": "stdout",
     "output_type": "stream",
     "text": [
      "['michael', 'florence', 'eli']\n"
     ]
    }
   ],
   "source": [
    "players=[\"charles\",\"martina\",\"michael\",\"florence\",\"eli\"]\n",
    "print(players[-3:])"
   ]
  },
  {
   "cell_type": "code",
   "execution_count": 43,
   "id": "5d939d3d",
   "metadata": {},
   "outputs": [
    {
     "name": "stdout",
     "output_type": "stream",
     "text": [
      "Here are the first three players on my team:\n",
      "Charles\n",
      "Martina\n",
      "Michael\n"
     ]
    }
   ],
   "source": [
    "players=[\"charles\",\"martina\",\"michael\",\"florence\",\"eli\"]\n",
    "\n",
    "print(\"Here are the first three players on my team:\")\n",
    "for player in players[:3]:\n",
    "    print(player.title())"
   ]
  },
  {
   "cell_type": "markdown",
   "id": "7e712001",
   "metadata": {},
   "source": [
    "# 4.4.3 复制列表"
   ]
  },
  {
   "cell_type": "code",
   "execution_count": 44,
   "id": "ce030897",
   "metadata": {},
   "outputs": [
    {
     "name": "stdout",
     "output_type": "stream",
     "text": [
      "My favorite foods are:\n",
      "['pizza', 'falafel', 'carrot cake']\n",
      "\n",
      "My friend's favorite foiods are:\n",
      "['pizza', 'falafel', 'carrot cake']\n"
     ]
    }
   ],
   "source": [
    "my_foods=[\"pizza\",\"falafel\",\"carrot cake\"]\n",
    "friend_foods=my_foods[:]\n",
    "\n",
    "print(\"My favorite foods are:\")\n",
    "print(my_foods)\n",
    "\n",
    "print(\"\\nMy friend's favorite foiods are:\")\n",
    "print(friend_foods)"
   ]
  },
  {
   "cell_type": "code",
   "execution_count": 46,
   "id": "cb71d431",
   "metadata": {},
   "outputs": [
    {
     "name": "stdout",
     "output_type": "stream",
     "text": [
      "My favorite foods are:\n",
      "['pizza', 'falafel', 'carrot cake', 'cannoli']\n",
      "\n",
      "My friend's favorite foiods are:\n",
      "['pizza', 'falafel', 'carrot cake', 'ice cream']\n"
     ]
    }
   ],
   "source": [
    "my_foods=[\"pizza\",\"falafel\",\"carrot cake\"]\n",
    "friend_foods=my_foods[:]\n",
    "\n",
    "my_foods.append(\"cannoli\")\n",
    "friend_foods.append(\"ice cream\")\n",
    "\n",
    "print(\"My favorite foods are:\")\n",
    "print(my_foods)\n",
    "\n",
    "print(\"\\nMy friend's favorite foiods are:\")\n",
    "print(friend_foods)"
   ]
  },
  {
   "cell_type": "code",
   "execution_count": 50,
   "id": "00ad2276",
   "metadata": {},
   "outputs": [
    {
     "name": "stdout",
     "output_type": "stream",
     "text": [
      "200\n",
      "5\n"
     ]
    }
   ],
   "source": [
    "dimensions=(200,5)\n",
    "print(dimensions[0])\n",
    "print(dimensions[1])"
   ]
  },
  {
   "cell_type": "code",
   "execution_count": 51,
   "id": "0027d8e7",
   "metadata": {},
   "outputs": [
    {
     "name": "stdout",
     "output_type": "stream",
     "text": [
      "200\n",
      "5\n"
     ]
    }
   ],
   "source": [
    "dimensions=(200,5)\n",
    "for dimension in dimensions:\n",
    "    print(dimension)"
   ]
  },
  {
   "cell_type": "code",
   "execution_count": 52,
   "id": "ee7df3e4",
   "metadata": {},
   "outputs": [
    {
     "name": "stdout",
     "output_type": "stream",
     "text": [
      "Original dimensions:\n",
      "200\n",
      "5\n",
      "\n",
      "Modified dimensions:\n",
      "400\n",
      "100\n"
     ]
    }
   ],
   "source": [
    "dimensions=(200,5)\n",
    "print(\"Original dimensions:\")\n",
    "for dimension in dimensions:\n",
    "    print(dimension)\n",
    "    \n",
    "dimensions=(400,100)\n",
    "print(\"\\nModified dimensions:\")\n",
    "for dimension in dimensions:\n",
    "    print(dimension)"
   ]
  },
  {
   "cell_type": "code",
   "execution_count": null,
   "id": "082548f3",
   "metadata": {},
   "outputs": [],
   "source": []
  }
 ],
 "metadata": {
  "kernelspec": {
   "display_name": "Python 3 (ipykernel)",
   "language": "python",
   "name": "python3"
  },
  "language_info": {
   "codemirror_mode": {
    "name": "ipython",
    "version": 3
   },
   "file_extension": ".py",
   "mimetype": "text/x-python",
   "name": "python",
   "nbconvert_exporter": "python",
   "pygments_lexer": "ipython3",
   "version": "3.9.13"
  }
 },
 "nbformat": 4,
 "nbformat_minor": 5
}
