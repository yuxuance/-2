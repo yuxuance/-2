{
 "cells": [
  {
   "cell_type": "code",
   "execution_count": 1,
   "id": "d94de577",
   "metadata": {},
   "outputs": [
    {
     "name": "stdout",
     "output_type": "stream",
     "text": [
      "3.1415926535\n",
      "8979323846\n",
      "2643383279\n"
     ]
    }
   ],
   "source": [
    "#10.1.1读取文件的全部内容\n",
    "from pathlib import Path\n",
    "path=Path('pi_digits.txt')\n",
    "contents=path.read_text()\n",
    "print(contents)"
   ]
  },
  {
   "cell_type": "code",
   "execution_count": 2,
   "id": "c99bfbaa",
   "metadata": {},
   "outputs": [
    {
     "name": "stdout",
     "output_type": "stream",
     "text": [
      "3.1415926535\n",
      "8979323846\n",
      "2643383279\n"
     ]
    }
   ],
   "source": [
    "#相比于原始文件，该输出唯一不同的地方是末尾多了一个空行。\n",
    "#要删除这个多出来的空行，可对字符串变量contents调用rstrip（）\n",
    "from pathlib import Path\n",
    "path=Path('pi_digits.txt')\n",
    "contents=path.read_text()\n",
    "contents=contents.rstrip()\n",
    "print(contents)"
   ]
  },
  {
   "cell_type": "code",
   "execution_count": null,
   "id": "5af51183",
   "metadata": {},
   "outputs": [],
   "source": [
    "#10.1.2相对文件路径和绝对文件路径\n",
    "path=Path('text_files/filename.text')#相对文件路径，python会以python_work为起点进行文件查找\n",
    "path=Path('/home/eric/date_files/text_files/filename.txt')#绝对文件路径，python会以根目录为起点进行文件查找，用于文件与python不在同一个文件夹中时"
   ]
  },
  {
   "cell_type": "code",
   "execution_count": 5,
   "id": "c41e6a70",
   "metadata": {},
   "outputs": [
    {
     "name": "stdout",
     "output_type": "stream",
     "text": [
      "3.1415926535\n",
      "8979323846\n",
      "2643383279\n"
     ]
    }
   ],
   "source": [
    "#10.1.3访问文件中的各行\n",
    "#在使用文件时，经常需要检查其中的每一行：可能要在文件中查找特点的信息，或者以某种方式修改文件中的文本。\n",
    "#你可以使用splitlines（）方法将冗长的字符串转化为一系列行，再使用for循环以每次一行的方式检查文件中的各行\n",
    "from pathlib import Path\n",
    "path=Path('pi_digits.txt')\n",
    "contents=path.read_text()\n",
    "lines=contents.splitlines()\n",
    "for line in lines:\n",
    "    print(line)"
   ]
  },
  {
   "cell_type": "code",
   "execution_count": 7,
   "id": "e8519183",
   "metadata": {},
   "outputs": [
    {
     "name": "stdout",
     "output_type": "stream",
     "text": [
      "3.141592653589793238462643383279\n",
      "32\n"
     ]
    }
   ],
   "source": [
    "#10.1.4使用文件中的内容\n",
    "from pathlib import Path\n",
    "path=Path('pi_digits.txt')\n",
    "contents=path.read_text()\n",
    "lines=contents.splitlines()\n",
    "pi_string=''\n",
    "for line in lines:\n",
    "    pi_string+=line\n",
    "print(pi_string)\n",
    "print(len(pi_string))"
   ]
  },
  {
   "cell_type": "code",
   "execution_count": null,
   "id": "6409a81d",
   "metadata": {},
   "outputs": [],
   "source": [
    "#10.1.5包含一百万位的大型文件"
   ]
  },
  {
   "cell_type": "code",
   "execution_count": 4,
   "id": "bf4f1ea0",
   "metadata": {},
   "outputs": [
    {
     "name": "stdout",
     "output_type": "stream",
     "text": [
      "In python you can use the class to describe a really existing thing.\n",
      "In python you can use the function to work some contion up.\n",
      "['In python you can use the class to describe a really existing thing.', 'In python you can use the function to work some contion up.']\n",
      "['In python you can use the class to describe a really existing thing.', 'In python you can use the function to work some contion up.']\n"
     ]
    }
   ],
   "source": [
    "#练习10.1\n",
    "from pathlib import Path\n",
    "path=Path('learning_python.txt')\n",
    "contents=path.read_text()\n",
    "print(contents)\n",
    "lines=contents.splitlines()\n",
    "\n",
    "for line in lines:\n",
    "    print(lines)"
   ]
  },
  {
   "cell_type": "code",
   "execution_count": 11,
   "id": "2f3d8473",
   "metadata": {},
   "outputs": [
    {
     "name": "stdout",
     "output_type": "stream",
     "text": [
      "In python you can use the class to describe a really existing thing.\n",
      "In python you can use the function to work some contion up.\n"
     ]
    }
   ],
   "source": [
    "#练习10.2\n",
    "from pathlib import Path\n",
    "path=Path('learning_python.txt')\n",
    "contents=path.read_text()\n",
    "contents.replace('python','c')\n",
    "print(contents)"
   ]
  },
  {
   "cell_type": "code",
   "execution_count": 13,
   "id": "0ab2602e",
   "metadata": {},
   "outputs": [
    {
     "name": "stdout",
     "output_type": "stream",
     "text": [
      "In python you can use the class to describe a really existing thing.\n",
      "In python you can use the function to work some contion up.\n",
      "In python you can use the class to describe a really existing thing.\n",
      "In python you can use the function to work some contion up.\n"
     ]
    }
   ],
   "source": [
    "#练习10.3\n",
    "from pathlib import Path\n",
    "path=Path('learning_python.txt')\n",
    "contents=path.read_text()\n",
    "for line in contents.splitlines():\n",
    "    print(contents)"
   ]
  },
  {
   "cell_type": "code",
   "execution_count": 14,
   "id": "7cd5683c",
   "metadata": {},
   "outputs": [
    {
     "data": {
      "text/plain": [
       "19"
      ]
     },
     "execution_count": 14,
     "metadata": {},
     "output_type": "execute_result"
    }
   ],
   "source": [
    "#10.2.1写入一行\n",
    "from pathlib import Path\n",
    "path=Path('programming.txt')\n",
    "path.write_text(\"I love programming.\")"
   ]
  },
  {
   "cell_type": "code",
   "execution_count": 16,
   "id": "c93cf7b6",
   "metadata": {},
   "outputs": [
    {
     "data": {
      "text/plain": [
       "78"
      ]
     },
     "execution_count": 16,
     "metadata": {},
     "output_type": "execute_result"
    }
   ],
   "source": [
    "from pathlib import Path\n",
    "contents=\"I love programming.\\n\"\n",
    "contents+=\"I love creating new games.\\n\"\n",
    "contents+=\"I also love working with data.\\n\"\n",
    "path=Path('programming.txt')\n",
    "#在对path对象调用write_text方法时务必谨慎，如果指定的文件已经存在，write——text（将删除其内容，并将指定的内容写入）\n",
    "path.write_text(contents)"
   ]
  },
  {
   "cell_type": "code",
   "execution_count": 2,
   "id": "c5a990c2",
   "metadata": {},
   "outputs": [
    {
     "name": "stdout",
     "output_type": "stream",
     "text": [
      "what is you name?mark\n"
     ]
    },
    {
     "data": {
      "text/plain": [
       "4"
      ]
     },
     "execution_count": 2,
     "metadata": {},
     "output_type": "execute_result"
    }
   ],
   "source": [
    "#练习10.4\n",
    "name=input(\"what is you name?\")\n",
    "from pathlib import Path\n",
    "path=Path('guest.txt')\n",
    "path.write_text(name)"
   ]
  },
  {
   "cell_type": "code",
   "execution_count": 6,
   "id": "f378a5e5",
   "metadata": {},
   "outputs": [
    {
     "name": "stdout",
     "output_type": "stream",
     "text": [
      "what is you name?alice\n",
      "what is you name?mark\n",
      "what is you name?marx\n",
      "what is you name?quit\n"
     ]
    }
   ],
   "source": [
    "#练习10，5\n",
    "name_book=\"\"\n",
    "while True:\n",
    "    name=input(\"what is you name?\")\n",
    "    if name=='quit':\n",
    "        break\n",
    "    else:\n",
    "        name_book+=f\"{name}\\n\"\n",
    "    from pathlib import Path\n",
    "    path=Path('guest_book.txt')\n",
    "    path.write_text(name_book)\n",
    "    "
   ]
  },
  {
   "cell_type": "code",
   "execution_count": 8,
   "id": "db1128e3",
   "metadata": {},
   "outputs": [
    {
     "ename": "ZeroDivisionError",
     "evalue": "division by zero",
     "output_type": "error",
     "traceback": [
      "\u001b[1;31m---------------------------------------------------------------------------\u001b[0m",
      "\u001b[1;31mZeroDivisionError\u001b[0m                         Traceback (most recent call last)",
      "\u001b[1;32m~\\AppData\\Local\\Temp\\ipykernel_17352\\2781551185.py\u001b[0m in \u001b[0;36m<module>\u001b[1;34m\u001b[0m\n\u001b[0;32m      2\u001b[0m \u001b[1;31m#10.3.1处理ZeroDivisionError异常\u001b[0m\u001b[1;33m\u001b[0m\u001b[1;33m\u001b[0m\u001b[0m\n\u001b[0;32m      3\u001b[0m \u001b[1;31m#python无法计算用数除以零，当你这样做时，你会看见这样一个异常\u001b[0m\u001b[1;33m\u001b[0m\u001b[1;33m\u001b[0m\u001b[0m\n\u001b[1;32m----> 4\u001b[1;33m \u001b[0mprint\u001b[0m\u001b[1;33m(\u001b[0m\u001b[1;36m5\u001b[0m\u001b[1;33m/\u001b[0m\u001b[1;36m0\u001b[0m\u001b[1;33m)\u001b[0m\u001b[1;33m\u001b[0m\u001b[1;33m\u001b[0m\u001b[0m\n\u001b[0m",
      "\u001b[1;31mZeroDivisionError\u001b[0m: division by zero"
     ]
    }
   ],
   "source": [
    "#10.3 异常\n",
    "#10.3.1处理ZeroDivisionError异常\n",
    "#python无法计算用数除以零，当你这样做时，你会看见这样一个异常\n",
    "print(5/0)"
   ]
  },
  {
   "cell_type": "code",
   "execution_count": 10,
   "id": "304b43b3",
   "metadata": {},
   "outputs": [
    {
     "name": "stdout",
     "output_type": "stream",
     "text": [
      "You can't divide by zero!\n"
     ]
    }
   ],
   "source": [
    "#10.3.2使用try—except代码块\n",
    "#当你认为可能出现错误时，可以编写一个try—expect代码块来处理可能引发的异常，让python尝试运行特定的代码，并告诉它如果这些代码引发了指定的异常应该怎么办\n",
    "try:\n",
    "    print(5/0)\n",
    "except ZeroDivisionError:\n",
    "    print(\"You can't divide by zero!\")"
   ]
  },
  {
   "cell_type": "code",
   "execution_count": 11,
   "id": "5e0c67ad",
   "metadata": {},
   "outputs": [
    {
     "name": "stdout",
     "output_type": "stream",
     "text": [
      "Give me two numbers,and i will divide them.\n",
      "Enter 'q' to quit\n",
      "\n",
      "First number: 5\n",
      "Second number:0\n"
     ]
    },
    {
     "ename": "ZeroDivisionError",
     "evalue": "division by zero",
     "output_type": "error",
     "traceback": [
      "\u001b[1;31m---------------------------------------------------------------------------\u001b[0m",
      "\u001b[1;31mZeroDivisionError\u001b[0m                         Traceback (most recent call last)",
      "\u001b[1;32m~\\AppData\\Local\\Temp\\ipykernel_17352\\2511133057.py\u001b[0m in \u001b[0;36m<module>\u001b[1;34m\u001b[0m\n\u001b[0;32m     11\u001b[0m     \u001b[1;32mif\u001b[0m \u001b[0msecond_number\u001b[0m\u001b[1;33m==\u001b[0m\u001b[1;34m'q'\u001b[0m\u001b[1;33m:\u001b[0m\u001b[1;33m\u001b[0m\u001b[1;33m\u001b[0m\u001b[0m\n\u001b[0;32m     12\u001b[0m         \u001b[1;32mbreak\u001b[0m\u001b[1;33m\u001b[0m\u001b[1;33m\u001b[0m\u001b[0m\n\u001b[1;32m---> 13\u001b[1;33m     \u001b[0manswer\u001b[0m\u001b[1;33m=\u001b[0m\u001b[0mint\u001b[0m\u001b[1;33m(\u001b[0m\u001b[0mfirst_number\u001b[0m\u001b[1;33m)\u001b[0m\u001b[1;33m/\u001b[0m\u001b[0mint\u001b[0m\u001b[1;33m(\u001b[0m\u001b[0msecond_number\u001b[0m\u001b[1;33m)\u001b[0m\u001b[1;33m\u001b[0m\u001b[1;33m\u001b[0m\u001b[0m\n\u001b[0m\u001b[0;32m     14\u001b[0m     \u001b[0mprint\u001b[0m\u001b[1;33m(\u001b[0m\u001b[0manswer\u001b[0m\u001b[1;33m)\u001b[0m\u001b[1;33m\u001b[0m\u001b[1;33m\u001b[0m\u001b[0m\n",
      "\u001b[1;31mZeroDivisionError\u001b[0m: division by zero"
     ]
    }
   ],
   "source": [
    "#10.3.3使用异常避免崩溃\n",
    "#下面来创建一个只执行除法运算的简单计算器\n",
    "print(\"Give me two numbers,and i will divide them.\")\n",
    "print(\"Enter 'q' to quit\")\n",
    "\n",
    "while True:\n",
    "    first_number= input(\"\\nFirst number: \")\n",
    "    if first_number=='q':\n",
    "        break\n",
    "    second_number=input(\"Second number:\")\n",
    "    if second_number=='q':\n",
    "        break\n",
    "    answer=int(first_number)/int(second_number)\n",
    "    print(answer)"
   ]
  },
  {
   "cell_type": "code",
   "execution_count": 13,
   "id": "6dfd2ca1",
   "metadata": {},
   "outputs": [
    {
     "name": "stdout",
     "output_type": "stream",
     "text": [
      "Give me two numbers,and i will divide them.\n",
      "Enter 'q' to quit\n",
      "\n",
      "First number: 5\n",
      "Second number:0\n",
      "You can't divide by 0!\n",
      "\n",
      "First number: q\n"
     ]
    }
   ],
   "source": [
    "#10.3.4 else代码块\n",
    "#通过将可能引发错误的代码放在try—expect代码块中，可提高程序抵御错误的能力。这个实例还应该包含一个else代码块，只有try代码块成功运行时才需要继续执行的代码都应该放到else代码块中\n",
    "print(\"Give me two numbers,and i will divide them.\")\n",
    "print(\"Enter 'q' to quit\")\n",
    "\n",
    "while True:\n",
    "    first_number= input(\"\\nFirst number: \")\n",
    "    if first_number=='q':\n",
    "        break\n",
    "    second_number=input(\"Second number:\")\n",
    "    if second_number=='q':\n",
    "        break\n",
    "    try:\n",
    "        answer=int(first_number)/int(second_number)\n",
    "    except ZeroDivisionError:\n",
    "        print(\"You can't divide by 0!\")\n",
    "    else:\n",
    "        print(answer)"
   ]
  },
  {
   "cell_type": "code",
   "execution_count": 1,
   "id": "d06b7cf0",
   "metadata": {},
   "outputs": [
    {
     "ename": "FileNotFoundError",
     "evalue": "[Errno 2] No such file or directory: 'alice.txt'",
     "output_type": "error",
     "traceback": [
      "\u001b[1;31m---------------------------------------------------------------------------\u001b[0m",
      "\u001b[1;31mFileNotFoundError\u001b[0m                         Traceback (most recent call last)",
      "\u001b[1;32m~\\AppData\\Local\\Temp\\ipykernel_22084\\2659036517.py\u001b[0m in \u001b[0;36m<module>\u001b[1;34m\u001b[0m\n\u001b[0;32m      2\u001b[0m \u001b[1;32mfrom\u001b[0m \u001b[0mpathlib\u001b[0m \u001b[1;32mimport\u001b[0m \u001b[0mPath\u001b[0m\u001b[1;33m\u001b[0m\u001b[1;33m\u001b[0m\u001b[0m\n\u001b[0;32m      3\u001b[0m \u001b[0mpath\u001b[0m\u001b[1;33m=\u001b[0m\u001b[0mPath\u001b[0m\u001b[1;33m(\u001b[0m\u001b[1;34m'alice.txt'\u001b[0m\u001b[1;33m)\u001b[0m\u001b[1;33m\u001b[0m\u001b[1;33m\u001b[0m\u001b[0m\n\u001b[1;32m----> 4\u001b[1;33m \u001b[0mcontents\u001b[0m\u001b[1;33m=\u001b[0m\u001b[0mpath\u001b[0m\u001b[1;33m.\u001b[0m\u001b[0mread_text\u001b[0m\u001b[1;33m(\u001b[0m\u001b[0mencoding\u001b[0m\u001b[1;33m=\u001b[0m\u001b[1;34m'utf-8'\u001b[0m\u001b[1;33m)\u001b[0m\u001b[1;33m\u001b[0m\u001b[1;33m\u001b[0m\u001b[0m\n\u001b[0m",
      "\u001b[1;32mC:\\ProgramData\\Anaconda3\\lib\\pathlib.py\u001b[0m in \u001b[0;36mread_text\u001b[1;34m(self, encoding, errors)\u001b[0m\n\u001b[0;32m   1264\u001b[0m         \u001b[0mOpen\u001b[0m \u001b[0mthe\u001b[0m \u001b[0mfile\u001b[0m \u001b[1;32min\u001b[0m \u001b[0mtext\u001b[0m \u001b[0mmode\u001b[0m\u001b[1;33m,\u001b[0m \u001b[0mread\u001b[0m \u001b[0mit\u001b[0m\u001b[1;33m,\u001b[0m \u001b[1;32mand\u001b[0m \u001b[0mclose\u001b[0m \u001b[0mthe\u001b[0m \u001b[0mfile\u001b[0m\u001b[1;33m.\u001b[0m\u001b[1;33m\u001b[0m\u001b[1;33m\u001b[0m\u001b[0m\n\u001b[0;32m   1265\u001b[0m         \"\"\"\n\u001b[1;32m-> 1266\u001b[1;33m         \u001b[1;32mwith\u001b[0m \u001b[0mself\u001b[0m\u001b[1;33m.\u001b[0m\u001b[0mopen\u001b[0m\u001b[1;33m(\u001b[0m\u001b[0mmode\u001b[0m\u001b[1;33m=\u001b[0m\u001b[1;34m'r'\u001b[0m\u001b[1;33m,\u001b[0m \u001b[0mencoding\u001b[0m\u001b[1;33m=\u001b[0m\u001b[0mencoding\u001b[0m\u001b[1;33m,\u001b[0m \u001b[0merrors\u001b[0m\u001b[1;33m=\u001b[0m\u001b[0merrors\u001b[0m\u001b[1;33m)\u001b[0m \u001b[1;32mas\u001b[0m \u001b[0mf\u001b[0m\u001b[1;33m:\u001b[0m\u001b[1;33m\u001b[0m\u001b[1;33m\u001b[0m\u001b[0m\n\u001b[0m\u001b[0;32m   1267\u001b[0m             \u001b[1;32mreturn\u001b[0m \u001b[0mf\u001b[0m\u001b[1;33m.\u001b[0m\u001b[0mread\u001b[0m\u001b[1;33m(\u001b[0m\u001b[1;33m)\u001b[0m\u001b[1;33m\u001b[0m\u001b[1;33m\u001b[0m\u001b[0m\n\u001b[0;32m   1268\u001b[0m \u001b[1;33m\u001b[0m\u001b[0m\n",
      "\u001b[1;32mC:\\ProgramData\\Anaconda3\\lib\\pathlib.py\u001b[0m in \u001b[0;36mopen\u001b[1;34m(self, mode, buffering, encoding, errors, newline)\u001b[0m\n\u001b[0;32m   1250\u001b[0m         \u001b[0mthe\u001b[0m \u001b[0mbuilt\u001b[0m\u001b[1;33m-\u001b[0m\u001b[1;32min\u001b[0m \u001b[0mopen\u001b[0m\u001b[1;33m(\u001b[0m\u001b[1;33m)\u001b[0m \u001b[0mfunction\u001b[0m \u001b[0mdoes\u001b[0m\u001b[1;33m.\u001b[0m\u001b[1;33m\u001b[0m\u001b[1;33m\u001b[0m\u001b[0m\n\u001b[0;32m   1251\u001b[0m         \"\"\"\n\u001b[1;32m-> 1252\u001b[1;33m         return io.open(self, mode, buffering, encoding, errors, newline,\n\u001b[0m\u001b[0;32m   1253\u001b[0m                        opener=self._opener)\n\u001b[0;32m   1254\u001b[0m \u001b[1;33m\u001b[0m\u001b[0m\n",
      "\u001b[1;32mC:\\ProgramData\\Anaconda3\\lib\\pathlib.py\u001b[0m in \u001b[0;36m_opener\u001b[1;34m(self, name, flags, mode)\u001b[0m\n\u001b[0;32m   1118\u001b[0m     \u001b[1;32mdef\u001b[0m \u001b[0m_opener\u001b[0m\u001b[1;33m(\u001b[0m\u001b[0mself\u001b[0m\u001b[1;33m,\u001b[0m \u001b[0mname\u001b[0m\u001b[1;33m,\u001b[0m \u001b[0mflags\u001b[0m\u001b[1;33m,\u001b[0m \u001b[0mmode\u001b[0m\u001b[1;33m=\u001b[0m\u001b[1;36m0o666\u001b[0m\u001b[1;33m)\u001b[0m\u001b[1;33m:\u001b[0m\u001b[1;33m\u001b[0m\u001b[1;33m\u001b[0m\u001b[0m\n\u001b[0;32m   1119\u001b[0m         \u001b[1;31m# A stub for the opener argument to built-in open()\u001b[0m\u001b[1;33m\u001b[0m\u001b[1;33m\u001b[0m\u001b[0m\n\u001b[1;32m-> 1120\u001b[1;33m         \u001b[1;32mreturn\u001b[0m \u001b[0mself\u001b[0m\u001b[1;33m.\u001b[0m\u001b[0m_accessor\u001b[0m\u001b[1;33m.\u001b[0m\u001b[0mopen\u001b[0m\u001b[1;33m(\u001b[0m\u001b[0mself\u001b[0m\u001b[1;33m,\u001b[0m \u001b[0mflags\u001b[0m\u001b[1;33m,\u001b[0m \u001b[0mmode\u001b[0m\u001b[1;33m)\u001b[0m\u001b[1;33m\u001b[0m\u001b[1;33m\u001b[0m\u001b[0m\n\u001b[0m\u001b[0;32m   1121\u001b[0m \u001b[1;33m\u001b[0m\u001b[0m\n\u001b[0;32m   1122\u001b[0m     \u001b[1;32mdef\u001b[0m \u001b[0m_raw_open\u001b[0m\u001b[1;33m(\u001b[0m\u001b[0mself\u001b[0m\u001b[1;33m,\u001b[0m \u001b[0mflags\u001b[0m\u001b[1;33m,\u001b[0m \u001b[0mmode\u001b[0m\u001b[1;33m=\u001b[0m\u001b[1;36m0o777\u001b[0m\u001b[1;33m)\u001b[0m\u001b[1;33m:\u001b[0m\u001b[1;33m\u001b[0m\u001b[1;33m\u001b[0m\u001b[0m\n",
      "\u001b[1;31mFileNotFoundError\u001b[0m: [Errno 2] No such file or directory: 'alice.txt'"
     ]
    }
   ],
   "source": [
    "#10.3.4处理FileNotFoundError异常\n",
    "from pathlib import Path\n",
    "path=Path('alice.txt')\n",
    "contents=path.read_text(encoding='utf-8')\n",
    "#这里的traceback"
   ]
  },
  {
   "cell_type": "code",
   "execution_count": 5,
   "id": "8c9dcbb3",
   "metadata": {},
   "outputs": [
    {
     "name": "stdout",
     "output_type": "stream",
     "text": [
      "Sorry,the file alice.txt does not exist.\n"
     ]
    }
   ],
   "source": [
    "from pathlib import Path\n",
    "path=Path('alice.txt')\n",
    "try:\n",
    "    contents=path.read_text(encoding='utf-8')\n",
    "except FileNotFoundError:\n",
    "    print(f\"Sorry,the file {path} does not exist.\")"
   ]
  },
  {
   "cell_type": "code",
   "execution_count": 6,
   "id": "82348db5",
   "metadata": {},
   "outputs": [
    {
     "name": "stdout",
     "output_type": "stream",
     "text": [
      "Sorry,the file alice.txt does not exist.\n"
     ]
    }
   ],
   "source": [
    "#10.3.6分析文本\n",
    "#我们将使用split（）方法，它默认以空白为分隔符将字符拆分成多个部分\n",
    "from pathlib import Path\n",
    "path=Path('alice.txt')\n",
    "try:\n",
    "    contents=path.read_text(encoding='utf-8')\n",
    "except FileNotFoundError:\n",
    "    print(f\"Sorry,the file {path} does not exist.\")\n",
    "else:\n",
    "    #计算文件大概包含多少个单词\n",
    "    words=contents.split()\n",
    "    num_words=len(words)\n",
    "    print(f\"The file {path} has about {num_words}words.\")"
   ]
  },
  {
   "cell_type": "code",
   "execution_count": 6,
   "id": "bca49ea8",
   "metadata": {},
   "outputs": [
    {
     "name": "stdout",
     "output_type": "stream",
     "text": [
      "Sorry,the file alice.txt does not exist.\n"
     ]
    }
   ],
   "source": [
    "#10.3.7使用多个文件\n",
    "#将这个程序的大部分代码移到一个名为count_words的函数中\n",
    "from pathlib import Path\n",
    "def count_words(path):\n",
    "    try:\n",
    "        contents=path.read_text(encoding='utf-8')\n",
    "    except FileNotFoundError:\n",
    "        print(f\"Sorry,the file {path} does not exist.\") \n",
    "    else:\n",
    "        words=contents.split()\n",
    "        num_words=len(words)\n",
    "        print(f\"The file {path} has about {num_words}words.\")\n",
    "path=Path('alice.txt')\n",
    "count_words(path)\n",
    "    "
   ]
  },
  {
   "cell_type": "code",
   "execution_count": 7,
   "id": "0e098757",
   "metadata": {},
   "outputs": [
    {
     "name": "stdout",
     "output_type": "stream",
     "text": [
      "Sorry,the file alice.txt does not exist.\n",
      "Sorry,the file siddhartha.txt does not exist.\n",
      "Sorry,the file moby_dick.txt does not exist.\n"
     ]
    }
   ],
   "source": [
    "from pathlib import Path\n",
    "def count_words(path):\n",
    "    try:\n",
    "        contents=path.read_text(encoding='utf-8')\n",
    "    except FileNotFoundError:\n",
    "        print(f\"Sorry,the file {path} does not exist.\" )\n",
    "    else:\n",
    "        words=contents.split()\n",
    "        num_words=len(words)\n",
    "        print(f\"The file {path} has about {num_words}words.\")\n",
    "filenames=['alice.txt','siddhartha.txt','moby_dick.txt']\n",
    "for filename in filenames:\n",
    "              path=Path(filename)\n",
    "              count_words(path)"
   ]
  },
  {
   "cell_type": "code",
   "execution_count": 8,
   "id": "63dbca76",
   "metadata": {},
   "outputs": [],
   "source": [
    "#10.3.8静默失败\n",
    "#并非每次发现异常都要告诉用户，有的时候我们希望它能保持静默\n",
    "from pathlib import Path\n",
    "def count_words(path):\n",
    "    try:\n",
    "        contents=path.read_text(encoding='utf-8')\n",
    "    except FileNotFoundError:\n",
    "       pass#在这里不选择报告，而是直接跳过报告\n",
    "    else:\n",
    "        words=contents.split()\n",
    "        num_words=len(words)\n",
    "        print(f\"The file {path} has about {num_words}words.\")\n",
    "filenames=['alice.txt','siddhartha.txt','moby_dick.txt']\n",
    "for filename in filenames:\n",
    "              path=Path(filename)\n",
    "              count_words(path)\n",
    "#10.3.9决定报告哪些错误"
   ]
  },
  {
   "cell_type": "code",
   "execution_count": 14,
   "id": "e4bb303e",
   "metadata": {},
   "outputs": [
    {
     "name": "stdout",
     "output_type": "stream",
     "text": [
      "Please give me two numbers,I will add them together.\n",
      "The first number is:w\n",
      "You not give me a number!\n"
     ]
    }
   ],
   "source": [
    "#练习10.6\n",
    "print('Please give me two numbers,I will add them together.')\n",
    "try:\n",
    "    first_number=int(input('The first number is:'))\n",
    "    second_number=int(input('The second number is:'))\n",
    "except ValueError:\n",
    "    print('You not give me a number!')\n",
    "else:\n",
    "    print(first_number+second_number)"
   ]
  },
  {
   "cell_type": "code",
   "execution_count": 13,
   "id": "3964dddb",
   "metadata": {},
   "outputs": [
    {
     "name": "stdout",
     "output_type": "stream",
     "text": [
      "Please give me two numbers,I will add them together.\n",
      "The first number is:wo\n",
      "You not give me a number!\n",
      "The first number is:w\n",
      "You not give me a number!\n",
      "The first number is:1\n",
      "The second number is:2\n",
      "3\n"
     ]
    }
   ],
   "source": [
    "#练习10.7\n",
    "print('Please give me two numbers,I will add them together.')\n",
    "while True:\n",
    "    try:\n",
    "        first_number=int(input('The first number is:'))\n",
    "        second_number=int(input('The second number is:'))\n",
    "    except ValueError:\n",
    "        print('You not give me a number!')\n",
    "    else:\n",
    "        print(first_number+second_number)\n",
    "        break\n"
   ]
  },
  {
   "cell_type": "code",
   "execution_count": 25,
   "id": "93214f0c",
   "metadata": {},
   "outputs": [
    {
     "name": "stdout",
     "output_type": "stream",
     "text": [
      "We can't found this file.\n"
     ]
    }
   ],
   "source": [
    "#练习10.8\n",
    "from pathlib import Path\n",
    "path_cat=Path('cat.txt')\n",
    "path_dog=Path('dog.txt')\n",
    "try:\n",
    "    dog_contents=path_dog.read_text()\n",
    "    cat_contents=path_cat.read_text()\n",
    "    print(f\"the dog's name is:\\n{dog_contents}\")\n",
    "    print(f\"the cat's name is:\\n:{cat_contents}\")\n",
    "except FileNotFoundError:\n",
    "    print(\"We can't found this file.\")"
   ]
  },
  {
   "cell_type": "code",
   "execution_count": 26,
   "id": "ff7ed7b2",
   "metadata": {},
   "outputs": [],
   "source": [
    "#10.9\n",
    "from pathlib import Path\n",
    "path_cat=Path('cat.txt')\n",
    "path_dog=Path('dog.txt')\n",
    "try:\n",
    "    dog_contents=path_dog.read_text()\n",
    "    cat_contents=path_cat.read_text()\n",
    "    print(f\"the dog's name is:\\n{dog_contents}\")\n",
    "    print(f\"the cat's name is:\\n:{cat_contents}\")\n",
    "except FileNotFoundError:\n",
    "   pass"
   ]
  },
  {
   "cell_type": "code",
   "execution_count": 36,
   "id": "f83b066a",
   "metadata": {},
   "outputs": [
    {
     "name": "stdout",
     "output_type": "stream",
     "text": [
      "162\n",
      "204\n"
     ]
    }
   ],
   "source": [
    "#练习10.10\n",
    "from pathlib import Path\n",
    "path=Path(\"exercise_ten.txt\")\n",
    "try:\n",
    "    contents=path.read_text(encoding='utf-8')\n",
    "except FileNotFoundError:\n",
    "    pass\n",
    "else:\n",
    "    #计算文件中有多少个the和‘the ’\n",
    "    number_one=contents.lower().count('the ')\n",
    "    number_two=contents.lower().count('the')\n",
    "    print(number_one)\n",
    "    print(number_two)"
   ]
  },
  {
   "cell_type": "code",
   "execution_count": 38,
   "id": "126cdf78",
   "metadata": {},
   "outputs": [
    {
     "data": {
      "text/plain": [
       "20"
      ]
     },
     "execution_count": 38,
     "metadata": {},
     "output_type": "execute_result"
    }
   ],
   "source": [
    "#10.4 存储数据\n",
    "#10.4.1使用json.dumps()和json.load()\n",
    "#下面先编写一个存储一组数的简短程序，再编写一个将这些数读取到内存中的程序\n",
    "#第一个程序将用json。dump（）来存储，第二个程序将用json.load（）来读取\n",
    "from pathlib import Path\n",
    "import json\n",
    "number=[2,3,4,5,11,13]\n",
    "path=Path('number.json')\n",
    "contents=json.dumps(number)\n",
    "path.write_text(contents)"
   ]
  },
  {
   "cell_type": "code",
   "execution_count": 2,
   "id": "71f58033",
   "metadata": {},
   "outputs": [
    {
     "name": "stdout",
     "output_type": "stream",
     "text": [
      "[2, 3, 4, 5, 11, 13]\n"
     ]
    }
   ],
   "source": [
    "from pathlib import Path\n",
    "import json\n",
    "path=Path('number.json')\n",
    "contents=path.read_text()\n",
    "numbers=json.loads(contents)\n",
    "print(numbers)"
   ]
  },
  {
   "cell_type": "code",
   "execution_count": 3,
   "id": "3e8feafa",
   "metadata": {},
   "outputs": [
    {
     "name": "stdout",
     "output_type": "stream",
     "text": [
      "What is you name?hyl\n",
      "We'll remember you when you come back,hyl!\n"
     ]
    }
   ],
   "source": [
    "#10.4.2保存和读取用户生成的数据\n",
    "#来存储用户的名字\n",
    "from pathlib import Path\n",
    "import json\n",
    "username=input(\"What is you name?\")\n",
    "path=Path('username.json')\n",
    "contents=json.dumps(username)\n",
    "path.write_text(contents)\n",
    "\n",
    "print(f\"We'll remember you when you come back,{username}!\")"
   ]
  },
  {
   "cell_type": "code",
   "execution_count": 6,
   "id": "0f7a7d5c",
   "metadata": {},
   "outputs": [
    {
     "name": "stdout",
     "output_type": "stream",
     "text": [
      "Welcome back,hyl!\n"
     ]
    }
   ],
   "source": [
    "#现在再编写一个程序，向名字已经被存储的用户发出问候\n",
    "from pathlib import Path\n",
    "import json\n",
    "path=Path('username.json')\n",
    "contents=path.read_text()\n",
    "username=json.loads(contents)\n",
    "print(f\"Welcome back,{username}!\")"
   ]
  },
  {
   "cell_type": "code",
   "execution_count": 7,
   "id": "d3ec45ac",
   "metadata": {},
   "outputs": [
    {
     "name": "stdout",
     "output_type": "stream",
     "text": [
      "Welcome back.hyl\n"
     ]
    }
   ],
   "source": [
    "#现在将两个程序合到一起\n",
    "from pathlib import Path\n",
    "import json\n",
    "\n",
    "path=Path('username.json')\n",
    "if path.exists():\n",
    "    contents=path.read_text()\n",
    "    username=json.loads(contents)\n",
    "    print(f\"Welcome back.{username}\")\n",
    "else:\n",
    "    username=input(\"What is you name?\")\n",
    "    path=Path('username.json')\n",
    "    contents=json.dumps(username)\n",
    "    path.write_text(contents)\n",
    "\n",
    "    print(f\"We'll remember you when you come back,{username}!\")"
   ]
  },
  {
   "cell_type": "code",
   "execution_count": 8,
   "id": "e4393f67",
   "metadata": {},
   "outputs": [
    {
     "name": "stdout",
     "output_type": "stream",
     "text": [
      "Welcome back.hyl\n"
     ]
    }
   ],
   "source": [
    "#10.4.3重构\n",
    "#虽然代码能够正常运行，但我们可以将其划分为一系列完成具体工作的函数进行改进\n",
    "#要重构remember_me。py可以将其大部分逻辑放到一个或者多个函数中\n",
    "from pathlib import Path\n",
    "import json\n",
    "\n",
    "def greet_user():\n",
    "    path=Path('username.json')\n",
    "    if path.exists():\n",
    "        contents=path.read_text()\n",
    "        username=json.loads(contents)\n",
    "        print(f\"Welcome back.{username}\")\n",
    "    else:\n",
    "        username=input(\"What is you name?\")\n",
    "        path=Path('username.json')\n",
    "        contents=json.dumps(username)\n",
    "        path.write_text(contents)\n",
    "        print(f\"We'll remember you when you come back,{username}!\")\n",
    "greet_user()"
   ]
  },
  {
   "cell_type": "code",
   "execution_count": 9,
   "id": "a4ece96b",
   "metadata": {},
   "outputs": [
    {
     "name": "stdout",
     "output_type": "stream",
     "text": [
      "Welcome back.hyl\n"
     ]
    }
   ],
   "source": [
    "#下面重构greet_user，不让他执行这么多任务\n",
    "from pathlib import Path\n",
    "import json\n",
    "\n",
    "def get_stored_username(path):\n",
    "    \"\"\"如果存储了用户名，就获取它\"\"\"\n",
    "    if path.exists():\n",
    "        contents=path.read_text()\n",
    "        username=json.loads(contents)\n",
    "        return username\n",
    "    else:\n",
    "        return None\n",
    "\n",
    "def greet_user():\n",
    "    \"\"\"问候用户并指出其姓名\"\"\"\n",
    "    path=Path('username.json')\n",
    "    username=get_stored_username(path)\n",
    "    if username:\n",
    "        print(f\"Welcome back.{username}\")\n",
    "    else:\n",
    "        username=input(\"What is you name?\")\n",
    "        path=Path('username.json')\n",
    "        contents=json.dumps(username)\n",
    "        path.write_text(contents)\n",
    "        print(f\"We'll remember you when you come back,{username}!\")\n",
    "greet_user()"
   ]
  },
  {
   "cell_type": "code",
   "execution_count": 10,
   "id": "c0ec8cf4",
   "metadata": {},
   "outputs": [
    {
     "name": "stdout",
     "output_type": "stream",
     "text": [
      "Welcome back.hyl\n"
     ]
    }
   ],
   "source": [
    "#还需要将另一个代码块提取出来\n",
    "from pathlib import Path\n",
    "import json\n",
    "\n",
    "def get_stored_username(path):\n",
    "    \"\"\"如果存储了用户名，就获取它\"\"\"\n",
    "    if path.exists():\n",
    "        contents=path.read_text()\n",
    "        username=json.loads(contents)\n",
    "        return username\n",
    "    else:\n",
    "        return None\n",
    "def get_new_username(path):\n",
    "    \"\"\"提示用户输入用户名\"\"\"\n",
    "    username=input(\"What is you name?\")\n",
    "    path=Path('username.json')\n",
    "    contents=json.dumps(username)\n",
    "    path.write_text(contents)\n",
    "    return username\n",
    "def greet_user():\n",
    "    \"\"\"问候用户并指出其姓名\"\"\"\n",
    "    path=Path('username.json')\n",
    "    username=get_stored_username(path)\n",
    "    if username:\n",
    "        print(f\"Welcome back.{username}\")\n",
    "    else:\n",
    "        username=get_new_username(path)\n",
    "        print(f\"We'll remember you when you come back,{username}!\")\n",
    "greet_user()"
   ]
  },
  {
   "cell_type": "code",
   "execution_count": 11,
   "id": "d40cb32b",
   "metadata": {},
   "outputs": [
    {
     "name": "stdout",
     "output_type": "stream",
     "text": [
      "What is you favorite number?11\n"
     ]
    },
    {
     "data": {
      "text/plain": [
       "4"
      ]
     },
     "execution_count": 11,
     "metadata": {},
     "output_type": "execute_result"
    }
   ],
   "source": [
    "#练习10.11\n",
    "from pathlib import Path\n",
    "import json\n",
    "number=input(\"What is you favorite number?\")\n",
    "path=Path('number,json')\n",
    "contents=json.dumps(number)\n",
    "path.write_text(contents)"
   ]
  },
  {
   "cell_type": "code",
   "execution_count": 12,
   "id": "5294b6f3",
   "metadata": {},
   "outputs": [
    {
     "name": "stdout",
     "output_type": "stream",
     "text": [
      "I know your favorite number! It is 11\n"
     ]
    }
   ],
   "source": [
    "from pathlib import Path\n",
    "import json\n",
    "path=Path('number,json')\n",
    "contents=path.read_text()\n",
    "number=json.loads(contents)\n",
    "print(f\"I know your favorite number! It is {number}\")"
   ]
  },
  {
   "cell_type": "code",
   "execution_count": 13,
   "id": "3aabc87d",
   "metadata": {},
   "outputs": [
    {
     "name": "stdout",
     "output_type": "stream",
     "text": [
      "I know your favorite number! It is 11\n"
     ]
    }
   ],
   "source": [
    "#练习10.12\n",
    "from pathlib import Path\n",
    "import json\n",
    "\n",
    "path=Path('number,json')\n",
    "if path.exists():\n",
    "    contents=path.read_text()\n",
    "    number=json.loads(contents)\n",
    "    print(f\"I know your favorite number! It is {number}\")\n",
    "else:\n",
    "    number=input(\"What is you favorite number?\")\n",
    "    path=Path('number,json')\n",
    "    contents=json.dumps(number)\n",
    "    path.write_text(contents)"
   ]
  },
  {
   "cell_type": "code",
   "execution_count": 15,
   "id": "5f846b56",
   "metadata": {},
   "outputs": [
    {
     "name": "stdout",
     "output_type": "stream",
     "text": [
      "what is you name?hyl\n",
      "How old are you?20\n",
      "What is you favorite number?11\n",
      "{'name': 'hyl', 'age': '20', 'fdavorite_number': '11'}\n"
     ]
    }
   ],
   "source": [
    "#10.13\n",
    "from pathlib import Path\n",
    "import json\n",
    "user={}\n",
    "path=Path('user')\n",
    "if path.exists():\n",
    "    contents=path.read_text()\n",
    "    user=json.loads(contents)\n",
    "    print(user)\n",
    "else:\n",
    "    username=input(\"what is you name?\")\n",
    "    user_age=input(\"How old are you?\")\n",
    "    favorite_number=input(\"What is you favorite number?\")\n",
    "    user['name']=username\n",
    "    user['age']=user_age\n",
    "    user['fdavorite_number']=favorite_number\n",
    "    path=Path('user.json')\n",
    "    contents=json.dumps(user)\n",
    "    path.write_text(contents)\n",
    "    print(user)"
   ]
  },
  {
   "cell_type": "code",
   "execution_count": 18,
   "id": "fe4b7092",
   "metadata": {},
   "outputs": [
    {
     "name": "stdout",
     "output_type": "stream",
     "text": [
      "This is your name? Please answer 'yes'or 'no'. johnno\n",
      "What is you name?黄彦龙 \n",
      "This is your name? Please answer 'yes'or 'no'. 黄彦龙 yes\n",
      "Welcome back.黄彦龙 \n"
     ]
    }
   ],
   "source": [
    "#10.14\n",
    "from pathlib import Path\n",
    "import json\n",
    "\n",
    "def get_stored_username(path):\n",
    "    \"\"\"如果存储了用户名，就获取它\"\"\"\n",
    "    if path.exists():\n",
    "        contents=path.read_text()\n",
    "        username=json.loads(contents)\n",
    "        return username\n",
    "    else:\n",
    "        return None\n",
    "def get_new_username(path):\n",
    "    \"\"\"提示用户输入用户名\"\"\"\n",
    "    username=input(\"What is you name?\")\n",
    "    path=Path('username.json')\n",
    "    contents=json.dumps(username)\n",
    "    path.write_text(contents)\n",
    "    return username\n",
    "def greet_user():\n",
    "    \"\"\"问候用户并指出其姓名\"\"\"\n",
    "    path=Path('username.json')\n",
    "    username=get_stored_username(path)\n",
    "    if username:\n",
    "        answer=input(f\"This is your name? Please answer 'yes'or 'no'. {username}\")\n",
    "        if answer=='yes':\n",
    "            print(f\"Welcome back.{username}\")\n",
    "        else:\n",
    "            get_new_username(path)\n",
    "            greet_user()\n",
    "    else:\n",
    "        username=get_new_username(path)\n",
    "        print(f\"We'll remember you when you come back,{username}!\")\n",
    "greet_user()"
   ]
  },
  {
   "cell_type": "code",
   "execution_count": null,
   "id": "2dafbb7d",
   "metadata": {},
   "outputs": [],
   "source": []
  }
 ],
 "metadata": {
  "kernelspec": {
   "display_name": "Python 3 (ipykernel)",
   "language": "python",
   "name": "python3"
  },
  "language_info": {
   "codemirror_mode": {
    "name": "ipython",
    "version": 3
   },
   "file_extension": ".py",
   "mimetype": "text/x-python",
   "name": "python",
   "nbconvert_exporter": "python",
   "pygments_lexer": "ipython3",
   "version": "3.9.13"
  }
 },
 "nbformat": 4,
 "nbformat_minor": 5
}
