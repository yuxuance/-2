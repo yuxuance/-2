{
 "cells": [
  {
   "cell_type": "code",
   "execution_count": null,
   "id": "89b523af",
   "metadata": {},
   "outputs": [],
   "source": [
    "# **第11章 测试代码**"
   ]
  },
  {
   "cell_type": "code",
   "execution_count": null,
   "id": "6293f9c8",
   "metadata": {},
   "outputs": [],
   "source": [
    "## **11.1 使用pip安装pytest**"
   ]
  },
  {
   "cell_type": "code",
   "execution_count": null,
   "id": "310fa70d",
   "metadata": {},
   "outputs": [],
   "source": [
    "### **11.1.1 更新pip**\n",
    "#已在终端完成"
   ]
  },
  {
   "cell_type": "code",
   "execution_count": null,
   "id": "8e966ea1",
   "metadata": {},
   "outputs": [],
   "source": [
    "### **11.1.2 安装pytest**\n",
    "#按照命令 pip install\n",
    "#python -m install"
   ]
  },
  {
   "cell_type": "code",
   "execution_count": null,
   "id": "a828afe4",
   "metadata": {},
   "outputs": [],
   "source": [
    "## **11.2 测试函数**"
   ]
  },
  {
   "cell_type": "code",
   "execution_count": 4,
   "id": "c2a59d9d-9bac-4d6e-b886-b2be5f9783a5",
   "metadata": {
    "execution": {
     "iopub.execute_input": "2024-05-31T01:32:07.259692Z",
     "iopub.status.busy": "2024-05-31T01:32:07.259692Z",
     "iopub.status.idle": "2024-05-31T01:32:07.264385Z",
     "shell.execute_reply": "2024-05-31T01:32:07.263369Z",
     "shell.execute_reply.started": "2024-05-31T01:32:07.259692Z"
    }
   },
   "outputs": [],
   "source": [
    "def get_formatted_name(first, last):\n",
    "    \"\"\"Generate a neatly formatted full name.\"\"\"\n",
    "    full_name = f\"{first} {last}\"\n",
    "    return full_name.title()"
   ]
  },
  {
   "cell_type": "code",
   "execution_count": 2,
   "id": "af526b2f-4dde-4f9c-90da-b250d7601d70",
   "metadata": {
    "execution": {
     "iopub.execute_input": "2024-05-31T01:25:01.897232Z",
     "iopub.status.busy": "2024-05-31T01:25:01.896229Z",
     "iopub.status.idle": "2024-05-31T01:25:11.139470Z",
     "shell.execute_reply": "2024-05-31T01:25:11.138462Z",
     "shell.execute_reply.started": "2024-05-31T01:25:01.897232Z"
    }
   },
   "outputs": [
    {
     "name": "stdout",
     "output_type": "stream",
     "text": [
      "Enter 'q' at any time to quit.\n",
      "\n",
      "Please give me a first name:  si\n",
      "Please give me a last name:  wei\n",
      "\tNeatly formatted name: Si Wei.\n",
      "\n",
      "Please give me a first name:  q\n"
     ]
    }
   ],
   "source": [
    "from name_function import get_formatted_name\n",
    "\n",
    "\n",
    "print(\"Enter 'q' at any time to quit.\")\n",
    "while True:\n",
    "    first = input(\"\\nPlease give me a first name: \")\n",
    "    if first == 'q':\n",
    "        break\n",
    "    last = input(\"Please give me a last name: \")\n",
    "    if last == 'q':\n",
    "        break\n",
    "        \n",
    "    formatted_name = get_formatted_name(first, last)\n",
    "    print(f\"\\tNeatly formatted name: {formatted_name}.\")"
   ]
  },
  {
   "cell_type": "code",
   "execution_count": null,
   "id": "d367230c",
   "metadata": {},
   "outputs": [],
   "source": [
    "### **11.2.1 单元测试和测试用例**"
   ]
  },
  {
   "cell_type": "code",
   "execution_count": null,
   "id": "afe93c31",
   "metadata": {},
   "outputs": [],
   "source": [
    "### **11.2.2 可通过的测试**"
   ]
  },
  {
   "cell_type": "code",
   "execution_count": 3,
   "id": "23fa4872-c0ee-4e5a-9462-400eeb895e2f",
   "metadata": {
    "execution": {
     "iopub.execute_input": "2024-05-31T01:28:01.640327Z",
     "iopub.status.busy": "2024-05-31T01:28:01.639062Z",
     "iopub.status.idle": "2024-05-31T01:28:01.644350Z",
     "shell.execute_reply": "2024-05-31T01:28:01.643337Z",
     "shell.execute_reply.started": "2024-05-31T01:28:01.640327Z"
    }
   },
   "outputs": [],
   "source": [
    "from name_function import get_formatted_name\n",
    "\n",
    "\n",
    "def test_first_last_name():\n",
    "    \"\"\"Do names like 'Janis Joplin' work?\"\"\"\n",
    "    formatted_name = get_formatted_name('janis', 'joplin')\n",
    "    assert formatted_name == 'Janis Joplin'"
   ]
  },
  {
   "cell_type": "code",
   "execution_count": null,
   "id": "fc4cc6ef",
   "metadata": {},
   "outputs": [],
   "source": [
    "### **11.2.3 运行测试**"
   ]
  },
  {
   "cell_type": "code",
   "execution_count": null,
   "id": "30f9799b-af1a-47d8-a322-2df091223d54",
   "metadata": {},
   "outputs": [],
   "source": [
    "#在终端窗口运行，并切换到测试文件所在的文件夹"
   ]
  },
  {
   "cell_type": "code",
   "execution_count": null,
   "id": "59f28410",
   "metadata": {},
   "outputs": [],
   "source": [
    "## **11.2.4 未通过的测试**"
   ]
  },
  {
   "cell_type": "code",
   "execution_count": null,
   "id": "357b6462-259e-4af6-98c4-28689101b8f1",
   "metadata": {},
   "outputs": [],
   "source": [
    "def get_formatted_name(first, middle, last):\n",
    "    \"\"\"Generate a neatly formatted full name.\"\"\"\n",
    "    full_name = f\"{first} {middle} {last}\"\n",
    "    return full_name.title()"
   ]
  },
  {
   "cell_type": "code",
   "execution_count": null,
   "id": "6d2e7720",
   "metadata": {},
   "outputs": [],
   "source": [
    "### **11.2.5 在测试为通过时怎么办**"
   ]
  },
  {
   "cell_type": "code",
   "execution_count": 5,
   "id": "eb4cc0c6-ccec-4953-a1f4-08aeb5ff25e3",
   "metadata": {
    "execution": {
     "iopub.execute_input": "2024-05-31T01:33:13.199659Z",
     "iopub.status.busy": "2024-05-31T01:33:13.199659Z",
     "iopub.status.idle": "2024-05-31T01:33:13.203825Z",
     "shell.execute_reply": "2024-05-31T01:33:13.203825Z",
     "shell.execute_reply.started": "2024-05-31T01:33:13.199659Z"
    }
   },
   "outputs": [],
   "source": [
    "def get_formatted_name(first, last, middle=''):\n",
    "    \"\"\"Generate a neatly formatted full name.\"\"\"\n",
    "    if middle:\n",
    "        full_name = f\"{first} {middle} {last}\"\n",
    "    else:\n",
    "        full_name = f\"{first} {last}\"\n",
    "    return full_name.title()"
   ]
  },
  {
   "cell_type": "code",
   "execution_count": null,
   "id": "aea5bc11",
   "metadata": {},
   "outputs": [],
   "source": [
    "### **11.2.6 添加新测试**"
   ]
  },
  {
   "cell_type": "code",
   "execution_count": 6,
   "id": "02bac2c7-d265-475a-9bd6-8d0f6cd7adb4",
   "metadata": {
    "execution": {
     "iopub.execute_input": "2024-05-31T01:34:22.060935Z",
     "iopub.status.busy": "2024-05-31T01:34:22.060935Z",
     "iopub.status.idle": "2024-05-31T01:34:22.065951Z",
     "shell.execute_reply": "2024-05-31T01:34:22.064949Z",
     "shell.execute_reply.started": "2024-05-31T01:34:22.060935Z"
    }
   },
   "outputs": [],
   "source": [
    "from name_function import get_formatted_name\n",
    "\n",
    "\n",
    "def test_first_last_name():\n",
    "    \"\"\"Do names like 'Janis Joplin' work?\"\"\"\n",
    "    formatted_name = get_formatted_name('janis', 'joplin')\n",
    "    assert formatted_name == 'Janis Joplin'\n",
    "\n",
    "def test_first_last_middle_name():\n",
    "    \"\"\"Do names like 'Wolfgang Amadeus Mozart' work?\"\"\"\n",
    "    formatted_name = get_formatted_name(\n",
    "        'wolfgang', 'mozart', 'amadeus')\n",
    "    assert formatted_name == 'Wolfgang Amadeus Mozart'"
   ]
  },
  {
   "cell_type": "code",
   "execution_count": null,
   "id": "deb5f0e3",
   "metadata": {},
   "outputs": [],
   "source": [
    "## **11.3 测试类**"
   ]
  },
  {
   "cell_type": "code",
   "execution_count": null,
   "id": "1af60b57",
   "metadata": {},
   "outputs": [],
   "source": [
    "### **11.3.1 各种断言**"
   ]
  },
  {
   "cell_type": "code",
   "execution_count": null,
   "id": "73f7143f-f138-4356-8cb2-78d2fccfaf4f",
   "metadata": {},
   "outputs": [],
   "source": [
    "assert a == b\n",
    "assert a != b\n",
    "assert a\n",
    "assert not a \n",
    "assert a in list\n",
    "assert a not in list"
   ]
  },
  {
   "cell_type": "code",
   "execution_count": null,
   "id": "f183943a",
   "metadata": {},
   "outputs": [],
   "source": [
    "### **11.3.2 一个要测试的类**"
   ]
  },
  {
   "cell_type": "code",
   "execution_count": 7,
   "id": "32645c4e-b5cf-4dff-82b4-2395bbbbf86c",
   "metadata": {
    "execution": {
     "iopub.execute_input": "2024-05-31T01:37:08.777889Z",
     "iopub.status.busy": "2024-05-31T01:37:08.777889Z",
     "iopub.status.idle": "2024-05-31T01:37:08.783880Z",
     "shell.execute_reply": "2024-05-31T01:37:08.782877Z",
     "shell.execute_reply.started": "2024-05-31T01:37:08.777889Z"
    }
   },
   "outputs": [],
   "source": [
    "class AnonymousSurvey:\n",
    "    \"\"\"Collect anonymous answers to a survey question.\"\"\"\n",
    "\n",
    "    def __init__(self, question):\n",
    "        \"\"\"Store a question, and prepare to store responses.\"\"\"\n",
    "        self.question = question\n",
    "        self.responses = []\n",
    "\n",
    "    def show_question(self):\n",
    "        \"\"\"Show the survey question.\"\"\"\n",
    "        print(self.question)\n",
    "\n",
    "    def store_response(self, new_response):\n",
    "        \"\"\"Store a single response to the survey.\"\"\"\n",
    "        self.responses.append(new_response)\n",
    "        \n",
    "    def show_results(self):\n",
    "        \"\"\"Show all the responses that have been given.\"\"\"\n",
    "        print(\"Survey results:\")\n",
    "        for response in self.responses:\n",
    "            print(f\"- {response}\")"
   ]
  },
  {
   "cell_type": "code",
   "execution_count": 8,
   "id": "732eaf93-0b56-477f-b9ac-62f7a0433d40",
   "metadata": {
    "execution": {
     "iopub.execute_input": "2024-05-31T01:38:22.642183Z",
     "iopub.status.busy": "2024-05-31T01:38:22.642183Z",
     "iopub.status.idle": "2024-05-31T01:38:55.050855Z",
     "shell.execute_reply": "2024-05-31T01:38:55.049853Z",
     "shell.execute_reply.started": "2024-05-31T01:38:22.642183Z"
    }
   },
   "outputs": [
    {
     "name": "stdout",
     "output_type": "stream",
     "text": [
      "What language did you first learn to speak?\n",
      "Enter 'q' at any time to quit.\n",
      "\n",
      "Language:  Chinese\n",
      "Language:  English\n",
      "Language:  q\n",
      "\n",
      "Thank you to everyone who participated in the survey!\n",
      "Survey results:\n",
      "- Chinese\n",
      "- English\n"
     ]
    }
   ],
   "source": [
    "from survey import AnonymousSurvey\n",
    "\n",
    "\n",
    "# Define a question, and make a survey.\n",
    "question = \"What language did you first learn to speak?\"\n",
    "language_survey = AnonymousSurvey(question)\n",
    "\n",
    "# Show the question, and store responses to the question.\n",
    "language_survey.show_question()\n",
    "print(\"Enter 'q' at any time to quit.\\n\")\n",
    "while True:\n",
    "    response = input(\"Language: \")\n",
    "    if response == 'q':\n",
    "        break\n",
    "    language_survey.store_response(response)\n",
    "\n",
    "# Show the survey results.\n",
    "print(\"\\nThank you to everyone who participated in the survey!\")\n",
    "language_survey.show_results()"
   ]
  },
  {
   "cell_type": "code",
   "execution_count": null,
   "id": "b7788b3d",
   "metadata": {},
   "outputs": [],
   "source": [
    "### **11.3.3 测试AnonymousSurvey类**"
   ]
  },
  {
   "cell_type": "code",
   "execution_count": 10,
   "id": "f61448fc-ec85-43bf-8038-e89c43930617",
   "metadata": {
    "execution": {
     "iopub.execute_input": "2024-05-31T01:42:00.735587Z",
     "iopub.status.busy": "2024-05-31T01:42:00.735587Z",
     "iopub.status.idle": "2024-05-31T01:42:00.739853Z",
     "shell.execute_reply": "2024-05-31T01:42:00.739853Z",
     "shell.execute_reply.started": "2024-05-31T01:42:00.735587Z"
    }
   },
   "outputs": [],
   "source": [
    "from survey import AnonymousSurvey\n",
    "\n",
    "def test_store_single_response():\n",
    "    \"\"\"Test that a single response is stored properly.\"\"\"\n",
    "    question = \"What language did you first learn to speak?\"\n",
    "    language_survey.store_response('English')\n",
    "    assert 'English' in language_survey.responses"
   ]
  },
  {
   "cell_type": "code",
   "execution_count": 11,
   "id": "0626155b-85da-4746-be66-9fee86de7973",
   "metadata": {
    "execution": {
     "iopub.execute_input": "2024-05-31T01:44:19.552931Z",
     "iopub.status.busy": "2024-05-31T01:44:19.551930Z",
     "iopub.status.idle": "2024-05-31T01:44:19.558305Z",
     "shell.execute_reply": "2024-05-31T01:44:19.557302Z",
     "shell.execute_reply.started": "2024-05-31T01:44:19.552931Z"
    }
   },
   "outputs": [],
   "source": [
    "from survey import AnonymousSurvey\n",
    "\n",
    "def test_store_single_response():\n",
    "    \"\"\"Test that a single response is stored properly.\"\"\"\n",
    "    question = \"What language did you first learn to speak?\"\n",
    "    language_survey.store_response('English')\n",
    "    assert 'English' in language_survey.responses\n",
    "\n",
    "def test_store_three_responses(language_survey):\n",
    "    \"\"\"Test that three individual responses are stored properly.\"\"\"\n",
    "    question = \"What language did you first learn to speak?\"\n",
    "    language_survey = AnonymousSurvey(question)\n",
    "    responses = ['English', 'Spanish', 'Mandarin']\n",
    "    for response in responses:\n",
    "        language_survey.store_response(response)\n",
    "\n",
    "    for response in responses:\n",
    "        assert response in language_survey.responses"
   ]
  },
  {
   "cell_type": "code",
   "execution_count": null,
   "id": "6a891361",
   "metadata": {},
   "outputs": [],
   "source": [
    "### **11.3.4 使用夹具**"
   ]
  },
  {
   "cell_type": "code",
   "execution_count": 12,
   "id": "47281c00-d733-467c-ae48-30874a8ac91d",
   "metadata": {
    "execution": {
     "iopub.execute_input": "2024-05-31T01:45:10.042624Z",
     "iopub.status.busy": "2024-05-31T01:45:10.042624Z",
     "iopub.status.idle": "2024-05-31T01:45:10.174566Z",
     "shell.execute_reply": "2024-05-31T01:45:10.174566Z",
     "shell.execute_reply.started": "2024-05-31T01:45:10.042624Z"
    }
   },
   "outputs": [],
   "source": [
    "import pytest\n",
    "from survey import AnonymousSurvey\n",
    "\n",
    "\n",
    "@pytest.fixture\n",
    "def language_survey():\n",
    "    \"\"\"A survey that will be available to all test functions.\"\"\"\n",
    "    question = \"What language did you first learn to speak?\"\n",
    "    language_survey = AnonymousSurvey(question)\n",
    "    return language_survey\n",
    "\n",
    "def test_store_single_response(language_survey):\n",
    "    \"\"\"Test that a single response is stored properly.\"\"\"\n",
    "    language_survey.store_response('English')\n",
    "    assert 'English' in language_survey.responses\n",
    "\n",
    "def test_store_three_responses(language_survey):\n",
    "    \"\"\"Test that three individual responses are stored properly.\"\"\"\n",
    "    responses = ['English', 'Spanish', 'Mandarin']\n",
    "    for response in responses:\n",
    "        language_survey.store_response(response)\n",
    "\n",
    "    for response in responses:\n",
    "        assert response in language_survey.responses"
   ]
  },
  {
   "cell_type": "code",
   "execution_count": null,
   "id": "19e9f96b",
   "metadata": {},
   "outputs": [],
   "source": [
    "#练习11.1"
   ]
  },
  {
   "cell_type": "code",
   "execution_count": 13,
   "id": "61af35cb-a1db-4970-bbcd-267800913d9f",
   "metadata": {
    "execution": {
     "iopub.execute_input": "2024-05-31T01:46:53.657294Z",
     "iopub.status.busy": "2024-05-31T01:46:53.656294Z",
     "iopub.status.idle": "2024-05-31T01:46:53.660869Z",
     "shell.execute_reply": "2024-05-31T01:46:53.660295Z",
     "shell.execute_reply.started": "2024-05-31T01:46:53.657294Z"
    }
   },
   "outputs": [],
   "source": [
    "\"\"\"A collection of functions for working with cities.\"\"\"\n",
    "\n",
    "def city_country(city, country):\n",
    "    \"\"\"Return a string like 'Santiago, Chile'.\"\"\"\n",
    "    return f\"{city.title()}, {country.title()}\""
   ]
  },
  {
   "cell_type": "code",
   "execution_count": 15,
   "id": "21c7e5e6-4332-45a2-8a6d-cfa5ed691b89",
   "metadata": {
    "execution": {
     "iopub.execute_input": "2024-05-31T01:47:50.260044Z",
     "iopub.status.busy": "2024-05-31T01:47:50.260044Z",
     "iopub.status.idle": "2024-05-31T01:47:50.265995Z",
     "shell.execute_reply": "2024-05-31T01:47:50.265995Z",
     "shell.execute_reply.started": "2024-05-31T01:47:50.260044Z"
    }
   },
   "outputs": [],
   "source": [
    "from city_functions import city_country\n",
    "\n",
    "def test_city_country():\n",
    "    \"\"\"Does a simple city and country pair work?\"\"\"\n",
    "    santiago_chile = city_country('santiago', 'chile')\n",
    "    assert santiago_chile == 'Santiago, Chile'"
   ]
  },
  {
   "cell_type": "markdown",
   "id": "9fa76a9f-023c-49b7-a121-f14109450f88",
   "metadata": {},
   "source": [
    "## *11.1 人口数量*"
   ]
  },
  {
   "cell_type": "code",
   "execution_count": 16,
   "id": "86ede182-1b78-44ff-a377-45360880702e",
   "metadata": {
    "execution": {
     "iopub.execute_input": "2024-05-31T01:50:20.437642Z",
     "iopub.status.busy": "2024-05-31T01:50:20.436642Z",
     "iopub.status.idle": "2024-05-31T01:50:20.441145Z",
     "shell.execute_reply": "2024-05-31T01:50:20.441145Z",
     "shell.execute_reply.started": "2024-05-31T01:50:20.437642Z"
    }
   },
   "outputs": [],
   "source": [
    "\"\"\"A collection of functions for working with cities.\"\"\"\n",
    "\n",
    "def city_country(city, country, population):\n",
    "    \"\"\"Return a string like 'Santiago, Chile - population 5000000'.\"\"\"\n",
    "    output_string = f\"{city.title()}, {country.title()}\"\n",
    "    output_string += f\" -population {population}\"\n",
    "    return output_string"
   ]
  },
  {
   "cell_type": "code",
   "execution_count": 17,
   "id": "c1ecc6ad-81b4-46bb-b022-c5529d770b1e",
   "metadata": {
    "execution": {
     "iopub.execute_input": "2024-05-31T01:51:01.227896Z",
     "iopub.status.busy": "2024-05-31T01:51:01.226894Z",
     "iopub.status.idle": "2024-05-31T01:51:01.231670Z",
     "shell.execute_reply": "2024-05-31T01:51:01.231670Z",
     "shell.execute_reply.started": "2024-05-31T01:51:01.227896Z"
    }
   },
   "outputs": [],
   "source": [
    "\"\"\"A collection of functions for working with cities.\"\"\"\n",
    "\n",
    "def city_country(city, country, population=0):\n",
    "    \"\"\"Return a string representing a city-country pair.\"\"\"\n",
    "    output_string = f\"{city.title()}, {country.title()}\"\n",
    "    if population:\n",
    "        output_string += f\" - population {population}\"\n",
    "    return output_string"
   ]
  },
  {
   "cell_type": "code",
   "execution_count": 19,
   "id": "ba4b2443-9f8a-4fbb-8aa3-2dde5e06bff4",
   "metadata": {
    "execution": {
     "iopub.execute_input": "2024-05-31T01:52:12.439378Z",
     "iopub.status.busy": "2024-05-31T01:52:12.439378Z",
     "iopub.status.idle": "2024-05-31T01:52:12.445762Z",
     "shell.execute_reply": "2024-05-31T01:52:12.445762Z",
     "shell.execute_reply.started": "2024-05-31T01:52:12.439378Z"
    }
   },
   "outputs": [],
   "source": [
    "from city_functions_pop_optional import city_country\n",
    "\n",
    "def test_city_country():\n",
    "    \"\"\"Does a simple city and country pair work?\"\"\"\n",
    "    santiago_chile = city_country('santiago', 'chile')\n",
    "    assert santiago_chile == 'Santiago, Chile'\n",
    "\n",
    "def test_city_country_population():\n",
    "    \"\"\"Can I include a population argument?\"\"\"\n",
    "    santiago_chile = city_country('santiago', 'chile', population=5_000_000)\n",
    "    assert santiago_chile == 'Santiago, Chile - population 5000000'"
   ]
  },
  {
   "cell_type": "markdown",
   "id": "81b659ea-88d4-4a21-8e7f-fef71d8a3657",
   "metadata": {},
   "source": [
    "## *11.3 雇员*"
   ]
  },
  {
   "cell_type": "code",
   "execution_count": 20,
   "id": "f315e757-abdb-4a55-b073-53789697f88f",
   "metadata": {
    "execution": {
     "iopub.execute_input": "2024-05-31T01:53:06.019175Z",
     "iopub.status.busy": "2024-05-31T01:53:06.019175Z",
     "iopub.status.idle": "2024-05-31T01:53:06.023189Z",
     "shell.execute_reply": "2024-05-31T01:53:06.023189Z",
     "shell.execute_reply.started": "2024-05-31T01:53:06.019175Z"
    }
   },
   "outputs": [],
   "source": [
    "class Employee:\n",
    "    \"\"\"A class to represent an employee.\"\"\"\n",
    "\n",
    "    def __init__(self, f_name, l_name, salary):\n",
    "        \"\"\"Initialize the employee.\"\"\"\n",
    "        self.first = f_name.title()\n",
    "        self.last = l_name.title()\n",
    "        self.salary = salary\n",
    "\n",
    "    def give_raise(self, amount=5000):\n",
    "        \"\"\"Give the employee a raise.\"\"\"\n",
    "        self.salary += amount"
   ]
  },
  {
   "cell_type": "code",
   "execution_count": 22,
   "id": "44efd1ea-3f2f-4264-89cd-d3507aa2f338",
   "metadata": {
    "execution": {
     "iopub.execute_input": "2024-05-31T01:54:05.138712Z",
     "iopub.status.busy": "2024-05-31T01:54:05.138712Z",
     "iopub.status.idle": "2024-05-31T01:54:05.146257Z",
     "shell.execute_reply": "2024-05-31T01:54:05.146257Z",
     "shell.execute_reply.started": "2024-05-31T01:54:05.138712Z"
    }
   },
   "outputs": [],
   "source": [
    "from employee import Employee\n",
    "\n",
    "def test_give_default_raise():\n",
    "    \"\"\"Test that a default raise works correctly.\"\"\"\n",
    "    employee = Employee('eric', 'matthes', 65_000)\n",
    "    employee.give_raise()\n",
    "    assert employee.salary == 70_000\n",
    "\n",
    "def test_give_custom_raise():\n",
    "    \"\"\"Test that a custom raise works correctly.\"\"\"\n",
    "    employee = Employee('eric', 'matthes', 65_000)\n",
    "    employee.give_raise(10000)\n",
    "    assert employee.salary == 75_000\n"
   ]
  },
  {
   "cell_type": "code",
   "execution_count": 23,
   "id": "5b8e34f0-c1b1-4a46-90eb-dbf275b4984d",
   "metadata": {
    "execution": {
     "iopub.execute_input": "2024-05-31T01:54:27.813215Z",
     "iopub.status.busy": "2024-05-31T01:54:27.813215Z",
     "iopub.status.idle": "2024-05-31T01:54:27.818845Z",
     "shell.execute_reply": "2024-05-31T01:54:27.817843Z",
     "shell.execute_reply.started": "2024-05-31T01:54:27.813215Z"
    }
   },
   "outputs": [],
   "source": [
    "import pytest\n",
    "\n",
    "from employee import Employee\n",
    "\n",
    "@pytest.fixture\n",
    "def employee():\n",
    "    \"\"\"An Employee object that will be available to all test functions.\"\"\"\n",
    "    employee = Employee('eric', 'matthes', 65_000)\n",
    "    return employee\n",
    "\n",
    "def test_give_default_raise(employee):\n",
    "    \"\"\"Test that a default raise works correctly.\"\"\"\n",
    "    employee.give_raise()\n",
    "    assert employee.salary == 70_000\n",
    "\n",
    "def test_give_custom_raise(employee):\n",
    "    \"\"\"Test that a custom raise works correctly.\"\"\"\n",
    "    employee.give_raise(10000)\n",
    "    assert employee.salary == 75_000\n"
   ]
  },
  {
   "cell_type": "code",
   "execution_count": null,
   "id": "52e3f3ba-a097-4eeb-a92b-2512538179e9",
   "metadata": {},
   "outputs": [],
   "source": []
  }
 ],
 "metadata": {
  "kernelspec": {
   "display_name": "Python 3 (ipykernel)",
   "language": "python",
   "name": "python3"
  },
  "language_info": {
   "codemirror_mode": {
    "name": "ipython",
    "version": 3
   },
   "file_extension": ".py",
   "mimetype": "text/x-python",
   "name": "python",
   "nbconvert_exporter": "python",
   "pygments_lexer": "ipython3",
   "version": "3.9.13"
  }
 },
 "nbformat": 4,
 "nbformat_minor": 5
}
