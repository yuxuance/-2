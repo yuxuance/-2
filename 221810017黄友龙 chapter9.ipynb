{
 "cells": [
  {
   "cell_type": "markdown",
   "id": "018a3ea9",
   "metadata": {},
   "source": [
    "、、\n",
    "\n",
    "\n",
    "\n",
    "9 类"
   ]
  },
  {
   "cell_type": "markdown",
   "id": "d6b946f4",
   "metadata": {},
   "source": [
    "#9.1创建和使用类"
   ]
  },
  {
   "cell_type": "code",
   "execution_count": 1,
   "id": "41351240",
   "metadata": {},
   "outputs": [],
   "source": [
    "#9.1.1创建Dog类\n",
    "class Dog:\n",
    "    \"\"\"一次模拟小狗的简单尝试\"\"\"\n",
    "    \n",
    "    def _init_(self,name,age):\n",
    "        \"\"\"初始化属性name和age\"\"\"\n",
    "        self.name=name\n",
    "        self.age=age\n",
    "        \n",
    "    def sit(self):\n",
    "        \"\"\"模拟小狗收到命令时坐下\"\"\"\n",
    "        print(f\"{self.name} is now sitting.\")\n",
    "    \n",
    "    def roll_over(self):\n",
    "        \"\"\"模拟收到命令时打滚\"\"\"\n",
    "        print(f\"{self.name} rolled over!\")"
   ]
  },
  {
   "cell_type": "code",
   "execution_count": 2,
   "id": "f5408486",
   "metadata": {},
   "outputs": [
    {
     "name": "stdout",
     "output_type": "stream",
     "text": [
      "My dog's name is Willie.\n",
      "My dog is 6 years old\n"
     ]
    }
   ],
   "source": [
    "#9.1.2根据类创建实例\n",
    "class Dog:\n",
    "    \"\"\"一次模拟小狗的简单尝试\"\"\"\n",
    "    \n",
    "    def __init__(self,name,age):\n",
    "        \"\"\"初始化属性name和age\"\"\"\n",
    "        self.name=name\n",
    "        self.age=age\n",
    "        \n",
    "    def sit(self):\n",
    "        \"\"\"模拟小狗收到命令时坐下\"\"\"\n",
    "        print(f\"{self.name} is now sitting.\")\n",
    "    \n",
    "    def roll_over(self):\n",
    "        \"\"\"模拟收到命令时打滚\"\"\"\n",
    "        print(f\"{self.name} rolled over!\")\n",
    "my_dog=Dog('Willie',6)\n",
    "print(f\"My dog's name is {my_dog.name}.\")\n",
    "print(f\"My dog is {my_dog.age} years old\")"
   ]
  },
  {
   "cell_type": "code",
   "execution_count": 3,
   "id": "c17d73db",
   "metadata": {},
   "outputs": [
    {
     "name": "stdout",
     "output_type": "stream",
     "text": [
      "Willie is now sitting.\n",
      "Willie rolled over!\n"
     ]
    }
   ],
   "source": [
    "#9.1.2根据类创建实例\n",
    "class Dog:\n",
    "    \"\"\"一次模拟小狗的简单尝试\"\"\"\n",
    "    \n",
    "    def __init__(self,name,age):\n",
    "        \"\"\"初始化属性name和age\"\"\"\n",
    "        self.name=name\n",
    "        self.age=age\n",
    "        \n",
    "    def sit(self):\n",
    "        \"\"\"模拟小狗收到命令时坐下\"\"\"\n",
    "        print(f\"{self.name} is now sitting.\")\n",
    "    \n",
    "    def roll_over(self):\n",
    "        \"\"\"模拟收到命令时打滚\"\"\"\n",
    "        print(f\"{self.name} rolled over!\")\n",
    "my_dog=Dog('Willie',6)\n",
    "my_dog.sit()\n",
    "my_dog.roll_over()"
   ]
  },
  {
   "cell_type": "code",
   "execution_count": 4,
   "id": "52d0317f",
   "metadata": {},
   "outputs": [
    {
     "name": "stdout",
     "output_type": "stream",
     "text": [
      "This restaurant's name is caigengxiang,and it prints the chinese dish dish.\n",
      "This restaurant is opening.\n"
     ]
    }
   ],
   "source": [
    "#练习9.1\n",
    "class Restaurant:\n",
    "    \"\"\"一次模拟餐厅的简单尝试\"\"\"\n",
    "    def __init__(self,restaurant_name,cuisine_type):\n",
    "        \"\"\"初始化属性name和type\"\"\"\n",
    "        self.name=restaurant_name\n",
    "        self.type=cuisine_type\n",
    "    def describe_restaurant(self):\n",
    "        \"\"\"输出餐厅信息\"\"\"\n",
    "        print(f\"This restaurant's name is {self.name},and it prints the {self.type} dish.\")\n",
    "    def open_restaurant(self):\n",
    "        \"\"\"指出餐厅正在营业\"\"\"\n",
    "        print(\"This restaurant is opening.\")\n",
    "        \n",
    "restaurant=Restaurant('caigengxiang',\"chinese dish\")\n",
    "restaurant.describe_restaurant()\n",
    "restaurant.open_restaurant()\n",
    "        \n",
    "        "
   ]
  },
  {
   "cell_type": "code",
   "execution_count": 5,
   "id": "595c972f",
   "metadata": {},
   "outputs": [
    {
     "name": "stdout",
     "output_type": "stream",
     "text": [
      "This restaurant's name is caigengxiang,and it prints the chinese dish dish.\n",
      "This restaurant's name is xuanwuhui,and it prints the chinese dish dish.\n",
      "This restaurant's name is jinyuehua,and it prints the chinese dish dish.\n"
     ]
    }
   ],
   "source": [
    "#练习9.2\n",
    "class Restaurant:\n",
    "    \"\"\"一次模拟餐厅的简单尝试\"\"\"\n",
    "    def __init__(self,restaurant_name,cuisine_type):\n",
    "        \"\"\"初始化属性name和type\"\"\"\n",
    "        self.name=restaurant_name\n",
    "        self.type=cuisine_type\n",
    "    def describe_restaurant(self):\n",
    "        \"\"\"输出餐厅信息\"\"\"\n",
    "        print(f\"This restaurant's name is {self.name},and it prints the {self.type} dish.\")\n",
    "    def open_restaurant(self):\n",
    "        \"\"\"指出餐厅正在营业\"\"\"\n",
    "        print(\"This restaurant is opening.\")\n",
    "restaurant=Restaurant('caigengxiang',\"chinese dish\")\n",
    "restaurant.describe_restaurant()\n",
    "restaurant=Restaurant('xuanwuhui',\"chinese dish\")\n",
    "restaurant.describe_restaurant()\n",
    "restaurant=Restaurant('jinyuehua','chinese dish')\n",
    "restaurant.describe_restaurant()"
   ]
  },
  {
   "cell_type": "code",
   "execution_count": 6,
   "id": "61123f55",
   "metadata": {},
   "outputs": [
    {
     "name": "stdout",
     "output_type": "stream",
     "text": [
      "First_name:Karl,last_name:Marx\n",
      "Welcome to you,dear Karl·Marx.\n"
     ]
    }
   ],
   "source": [
    "#练习9.3 用户\n",
    "class User:\n",
    "    \"\"\"一次模拟用户的简单尝试\"\"\"\n",
    "    def __init__(self,first_name,last_name):\n",
    "        \"\"\"初始化用户数据\"\"\"\n",
    "        self.first_name=first_name\n",
    "        self.last_name=last_name\n",
    "    def describe_user(self):\n",
    "        \"\"\"输出用户信息\"\"\"\n",
    "        print(f\"First_name:{self.first_name},last_name:{self.last_name}\")\n",
    "    def greet_user(self):\n",
    "        print(f\"Welcome to you,dear {self.first_name}·{self.last_name}.\")\n",
    "user=User('Karl','Marx')\n",
    "user.describe_user()\n",
    "user.greet_user()"
   ]
  },
  {
   "cell_type": "markdown",
   "id": "332a674a",
   "metadata": {},
   "source": [
    "#9.2 使用类和实例"
   ]
  },
  {
   "cell_type": "code",
   "execution_count": 7,
   "id": "4a7e20df",
   "metadata": {},
   "outputs": [
    {
     "name": "stdout",
     "output_type": "stream",
     "text": [
      "2024 Audi A4\n"
     ]
    }
   ],
   "source": [
    "#9。2.1 Car类\n",
    "class Car:\n",
    "    def __init__(self,make,model,year):\n",
    "        \"\"\"一次模拟汽车的简单尝试\"\"\"\n",
    "        self.make=make\n",
    "        self.model=model\n",
    "        self.year=year\n",
    "    \n",
    "    def get_descriptive_name(self):\n",
    "        \"\"\"返回格式规范的描述性信息\"\"\"\n",
    "        long_name=f\"{self.year} {self.make} {self.model}\"\n",
    "        return long_name.title()\n",
    "\n",
    "my_new_car=Car('audi','a4',2024)\n",
    "print(my_new_car.get_descriptive_name())"
   ]
  },
  {
   "cell_type": "code",
   "execution_count": 8,
   "id": "5aa731cc",
   "metadata": {},
   "outputs": [
    {
     "name": "stdout",
     "output_type": "stream",
     "text": [
      "2024 Auid A4\n",
      "This car has 0miles on it.\n"
     ]
    }
   ],
   "source": [
    "#9.2.2 给属性指定默认值\n",
    "class Car:\n",
    "    \n",
    "    def __init__(self,make,model,year):\n",
    "        \"\"\"初始化描述汽车属性\"\"\"\n",
    "        self.make=make\n",
    "        self.model=model\n",
    "        self.year=year\n",
    "        self.odometer_reading=0\n",
    "    \n",
    "    def get_descriptive_name(self):\n",
    "        \"\"\"返回格式规范的描述性信息\"\"\"\n",
    "        long_name=f\"{self.year} {self.make} {self.model}\"\n",
    "        return long_name.title()\n",
    "       \n",
    "    def read_odometer(self):\n",
    "        \"\"\"打印一条指出汽车行驶里程的消息\"\"\"\n",
    "        print(f\"This car has {self.odometer_reading}miles on it.\")\n",
    "        \n",
    "my_new_car=Car('auid','a4',2024)\n",
    "print(my_new_car.get_descriptive_name())\n",
    "my_new_car.read_odometer()\n",
    "        "
   ]
  },
  {
   "cell_type": "code",
   "execution_count": 9,
   "id": "1ffe734b",
   "metadata": {},
   "outputs": [
    {
     "name": "stdout",
     "output_type": "stream",
     "text": [
      "2024 Auid A4\n",
      "This car has 23miles on it.\n"
     ]
    }
   ],
   "source": [
    "#9.2.3修改属性的值\n",
    "#可以用三种不同的方式修改属性的值，直接通过实例修改，以及通过方法递增，通过方法设置\n",
    "#1.直接修改属性的值\n",
    "class Car:\n",
    "    def __init__(self,make,model,year):\n",
    "        \"\"\"初始化描述汽车属性\"\"\"\n",
    "        self.make=make\n",
    "        self.model=model\n",
    "        self.year=year\n",
    "        self.odometer_reading=0\n",
    "    \n",
    "    def get_descriptive_name(self):\n",
    "        \"\"\"返回格式规范的描述性信息\"\"\"\n",
    "        long_name=f\"{self.year} {self.make} {self.model}\"\n",
    "        return long_name.title()\n",
    "       \n",
    "    def read_odometer(self):\n",
    "        \"\"\"打印一条指出汽车行驶里程的消息\"\"\"\n",
    "        print(f\"This car has {self.odometer_reading}miles on it.\")\n",
    "        \n",
    "my_new_car=Car('auid','a4',2024)\n",
    "print(my_new_car.get_descriptive_name())\n",
    "\n",
    "my_new_car.odometer_reading=23\n",
    "my_new_car.read_odometer()\n",
    "    "
   ]
  },
  {
   "cell_type": "code",
   "execution_count": 10,
   "id": "a6bd902a",
   "metadata": {},
   "outputs": [
    {
     "name": "stdout",
     "output_type": "stream",
     "text": [
      "2024 Auid A4\n",
      "This car has 23 miles on it.\n"
     ]
    }
   ],
   "source": [
    "#2通过方法修改属性的值\n",
    "class Car:\n",
    "    def __init__(self,make,model,year):\n",
    "        \"\"\"初始化描述汽车属性\"\"\"\n",
    "        self.make=make\n",
    "        self.model=model\n",
    "        self.year=year\n",
    "        self.odometer_reading=0\n",
    "    \n",
    "    def get_descriptive_name(self):\n",
    "        \"\"\"返回格式规范的描述性信息\"\"\"\n",
    "        long_name=f\"{self.year} {self.make} {self.model}\"\n",
    "        return long_name.title()\n",
    "       \n",
    "    def read_odometer(self):\n",
    "        \"\"\"打印一条指出汽车行驶里程的消息\"\"\"\n",
    "        print(f\"This car has {self.odometer_reading} miles on it.\")\n",
    "    def update_odometer(self,mileage):\n",
    "        \"\"\"将里程碑读数设置为指定的值\"\"\"\n",
    "        self.odometer_reading=mileage\n",
    "        \n",
    "my_new_car=Car('auid','a4',2024)\n",
    "print(my_new_car.get_descriptive_name())\n",
    "\n",
    "my_new_car.update_odometer(23)\n",
    "my_new_car.read_odometer()"
   ]
  },
  {
   "cell_type": "code",
   "execution_count": 11,
   "id": "8ef20fee",
   "metadata": {},
   "outputs": [
    {
     "name": "stdout",
     "output_type": "stream",
     "text": [
      "2024 Auid A4\n",
      "You can't roll back an odometer!\n",
      "This car has 16 miles on it.\n"
     ]
    }
   ],
   "source": [
    "#还可以对update_odomater()f方法进行扩展，使其在修改里程表读数时做些额外工作。下面来添加一些逻辑，禁止将里程表读数往回调\n",
    "class Car:\n",
    "    def __init__(self,make,model,year):\n",
    "        \"\"\"初始化描述汽车属性\"\"\"\n",
    "        self.make=make\n",
    "        self.model=model\n",
    "        self.year=year\n",
    "        self.odometer_reading=16\n",
    "    \n",
    "    def get_descriptive_name(self):\n",
    "        \"\"\"返回格式规范的描述性信息\"\"\"\n",
    "        long_name=f\"{self.year} {self.make} {self.model}\"\n",
    "        return long_name.title()\n",
    "       \n",
    "    def read_odometer(self):\n",
    "        \"\"\"打印一条指出汽车行驶里程的消息\"\"\"\n",
    "        print(f\"This car has {self.odometer_reading} miles on it.\")\n",
    "    def update_odometer(self,mileage):\n",
    "        \"\"\"将里程表读数设置为指定值，禁止将里程表读数往回调\"\"\"\n",
    "        if mileage>=self.odometer_reading:\n",
    "            self.odometer_reading=mileage\n",
    "        else:\n",
    "            print(\"You can't roll back an odometer!\")\n",
    "my_new_car=Car('auid','a4',2024)\n",
    "print(my_new_car.get_descriptive_name())\n",
    "\n",
    "my_new_car.update_odometer(15)\n",
    "my_new_car.read_odometer()            "
   ]
  },
  {
   "cell_type": "code",
   "execution_count": 12,
   "id": "51d3ec3a",
   "metadata": {},
   "outputs": [
    {
     "name": "stdout",
     "output_type": "stream",
     "text": [
      "2019 Subaru Outback\n",
      "This car has 23500miles on it.\n",
      "This car has 23600miles on it.\n"
     ]
    }
   ],
   "source": [
    "#3.通过方法让属性的值递增\n",
    "class Car:\n",
    "    def __init__(self,make,model,year):\n",
    "        \"\"\"初始化描述汽车属性\"\"\"\n",
    "        self.make=make\n",
    "        self.model=model\n",
    "        self.year=year\n",
    "        self.odometer_reading=0\n",
    "    \n",
    "    def get_descriptive_name(self):\n",
    "        \"\"\"返回格式规范的描述性信息\"\"\"\n",
    "        long_name=f\"{self.year} {self.make} {self.model}\"\n",
    "        return long_name.title()\n",
    "       \n",
    "    def read_odometer(self):\n",
    "        \"\"\"打印一条指出汽车行驶里程的消息\"\"\"\n",
    "        print(f\"This car has {self.odometer_reading}miles on it.\")\n",
    "    def update_odometer(self,mileage):\n",
    "        \"\"\"将里程表读数设置为指定值，禁止将里程表读数往回调\"\"\"\n",
    "        if mileage>=self.odometer_reading:\n",
    "            self.odometer_reading=mileage\n",
    "        else:\n",
    "            print(\"You can't roll back an odometer!\")\n",
    "    def increment_odometer(self,miles):\n",
    "        \"\"\"让里程表读数增加指定的量\"\"\"\n",
    "        self.odometer_reading+=miles\n",
    "my_used_car=Car('subaru','outback',2019)\n",
    "print(my_used_car.get_descriptive_name())\n",
    "\n",
    "my_used_car.update_odometer(23_500)\n",
    "my_used_car.read_odometer()\n",
    "\n",
    "my_used_car.increment_odometer(100)\n",
    "my_used_car.read_odometer()"
   ]
  },
  {
   "cell_type": "code",
   "execution_count": 13,
   "id": "7f7848c6",
   "metadata": {},
   "outputs": [
    {
     "name": "stdout",
     "output_type": "stream",
     "text": [
      "This restaurant's name is caigengxiang,and it prints the chinese dish dish.\n",
      "This restaurant is opening.\n",
      "The number of people we have served is 23.\n"
     ]
    }
   ],
   "source": [
    "#练习9.4\n",
    "class Restaurant:\n",
    "    \"\"\"一次模拟餐厅的简单尝试\"\"\"\n",
    "    def __init__(self,restaurant_name,cuisine_type):\n",
    "        \"\"\"初始化属性name和type\"\"\"\n",
    "        self.name=restaurant_name\n",
    "        self.type=cuisine_type\n",
    "        self.number_served=0\n",
    "    def describe_restaurant(self):\n",
    "        \"\"\"输出餐厅信息\"\"\"\n",
    "        print(f\"This restaurant's name is {self.name},and it prints the {self.type} dish.\")\n",
    "    def open_restaurant(self):\n",
    "        \"\"\"指出餐厅正在营业\"\"\"\n",
    "        print(\"This restaurant is opening.\")\n",
    "    def number_served_restaurant(self):\n",
    "        \"\"\"打印这个餐馆接待了多少人\"\"\"\n",
    "        print(f\"The number of people we have served is {self.number_served}.\")\n",
    "        \n",
    "restaurant=Restaurant('caigengxiang',\"chinese dish\")\n",
    "restaurant.describe_restaurant()\n",
    "restaurant.open_restaurant()\n",
    "restaurant.number_served = 23\n",
    "restaurant.number_served_restaurant()\n",
    "        \n",
    "        "
   ]
  },
  {
   "cell_type": "code",
   "execution_count": 14,
   "id": "85adb123",
   "metadata": {},
   "outputs": [
    {
     "name": "stdout",
     "output_type": "stream",
     "text": [
      "This restaurant's name is caigengxiang,and it prints the chinese dish dish.\n",
      "This restaurant is opening.\n",
      "The number of people we have served is 16.\n"
     ]
    }
   ],
   "source": [
    "class Restaurant:\n",
    "    \"\"\"一次模拟餐厅的简单尝试\"\"\"\n",
    "    def __init__(self,restaurant_name,cuisine_type):\n",
    "        \"\"\"初始化属性name和type\"\"\"\n",
    "        self.name=restaurant_name\n",
    "        self.type=cuisine_type\n",
    "         \n",
    "    def describe_restaurant(self):\n",
    "        \"\"\"输出餐厅信息\"\"\"\n",
    "        print(f\"This restaurant's name is {self.name},and it prints the {self.type} dish.\")\n",
    "    def open_restaurant(self):\n",
    "        \"\"\"指出餐厅正在营业\"\"\"\n",
    "        print(\"This restaurant is opening.\")\n",
    "    def number_served_restaurant(self):\n",
    "        \"\"\"打印这个餐馆接待了多少人\"\"\"\n",
    "        print(f\"The number of people we have served is {self.number_served}.\")\n",
    "    def set_number_served(self,mileage):\n",
    "        self.number_served=mileage\n",
    "        \n",
    "        \n",
    "restaurant=Restaurant('caigengxiang',\"chinese dish\")\n",
    "restaurant.describe_restaurant()\n",
    "restaurant.open_restaurant()\n",
    "restaurant.set_number_served(16)\n",
    "restaurant.number_served_restaurant()\n",
    "        \n",
    "        "
   ]
  },
  {
   "cell_type": "code",
   "execution_count": 15,
   "id": "670783a3",
   "metadata": {},
   "outputs": [
    {
     "name": "stdout",
     "output_type": "stream",
     "text": [
      "This restaurant's name is caigengxiang,and it prints the chinese dish dish.\n",
      "This restaurant is opening.\n",
      "The number of people we have served is 1000.\n",
      "The number of people we have served is 2000.\n"
     ]
    }
   ],
   "source": [
    "class Restaurant:\n",
    "    \"\"\"一次模拟餐厅的简单尝试\"\"\"\n",
    "    def __init__(self,restaurant_name,cuisine_type):\n",
    "        \"\"\"初始化属性name和type\"\"\"\n",
    "        self.name=restaurant_name\n",
    "        self.type=cuisine_type\n",
    "        self.number_served=0\n",
    "    def describe_restaurant(self):\n",
    "        \"\"\"输出餐厅信息\"\"\"\n",
    "        print(f\"This restaurant's name is {self.name},and it prints the {self.type} dish.\")\n",
    "    def open_restaurant(self):\n",
    "        \"\"\"指出餐厅正在营业\"\"\"\n",
    "        print(\"This restaurant is opening.\")\n",
    "    def increment_number_served(self,miles):\n",
    "        \"\"\"让就餐人数增加特定的量\"\"\"\n",
    "        self.number_served+=miles\n",
    "    def number_served_restaurant(self):\n",
    "        \"\"\"打印这个餐馆接待了多少人\"\"\"\n",
    "        print(f\"The number of people we have served is {self.number_served}.\")\n",
    "        \n",
    "restaurant=Restaurant('caigengxiang',\"chinese dish\")\n",
    "restaurant.describe_restaurant()\n",
    "restaurant.open_restaurant()\n",
    "restaurant.increment_number_served(1000)\n",
    "restaurant.number_served_restaurant()\n",
    "restaurant.increment_number_served(1000)\n",
    "restaurant.number_served_restaurant()        \n",
    "        "
   ]
  },
  {
   "cell_type": "code",
   "execution_count": 16,
   "id": "ab746f38",
   "metadata": {},
   "outputs": [
    {
     "name": "stdout",
     "output_type": "stream",
     "text": [
      "Karl`Marx have logined in 5 time.\n",
      "Karl`Marx have logined in 0 time.\n",
      "First_name:Karl,last_name:Marx\n",
      "Welcome to you,dear Karl·Marx.\n"
     ]
    }
   ],
   "source": [
    "#练习9.5 尝试登录的次数\n",
    "class User:\n",
    "    \"\"\"一次模拟用户的简单尝试\"\"\"\n",
    "    def __init__(self,first_name,last_name):\n",
    "        \"\"\"初始化用户数据\"\"\"\n",
    "        self.first_name=first_name\n",
    "        self.last_name=last_name\n",
    "        self.login_attempts=0\n",
    "    def describe_user(self):\n",
    "        \"\"\"输出用户信息\"\"\"\n",
    "        print(f\"First_name:{self.first_name},last_name:{self.last_name}\")\n",
    "    def greet_user(self):\n",
    "        print(f\"Welcome to you,dear {self.first_name}·{self.last_name}.\")\n",
    "    def login_number(self):\n",
    "        \"\"\"指出用户登录了多少次\"\"\"\n",
    "        print(f\"{self.first_name}`{self.last_name} have logined in {self.login_attempts} time.\")\n",
    "    def increment_login_attmpts(self,miles):\n",
    "        \"\"\"增加一个固定的值\"\"\"\n",
    "        self.login_attempts+=miles\n",
    "    def reset_login_attmpts(self,reset_number):\n",
    "        \"\"\"重置增加的值\"\"\"\n",
    "        self.login_attempts=reset_number\n",
    "user=User('Karl','Marx')\n",
    "user.increment_login_attmpts(1)\n",
    "user.increment_login_attmpts(1)\n",
    "user.increment_login_attmpts(1)\n",
    "user.increment_login_attmpts(1)\n",
    "user.increment_login_attmpts(1)\n",
    "user.login_number()\n",
    "\n",
    "user.reset_login_attmpts(0)\n",
    "user.login_number()\n",
    "user.describe_user()\n",
    "user.greet_user()"
   ]
  },
  {
   "cell_type": "code",
   "execution_count": 17,
   "id": "714c62ec",
   "metadata": {},
   "outputs": [
    {
     "name": "stdout",
     "output_type": "stream",
     "text": [
      "2024 Nissan Leaf\n"
     ]
    }
   ],
   "source": [
    "#9.3 继承\n",
    "class Car:\n",
    "    def __init__(self,make,model,year):\n",
    "        \"\"\"初始化描述汽车属性\"\"\"\n",
    "        self.make=make\n",
    "        self.model=model\n",
    "        self.year=year\n",
    "        self.odometer_reading=0\n",
    "    \n",
    "    def get_descriptive_name(self):\n",
    "        \"\"\"返回格式规范的描述性信息\"\"\"\n",
    "        long_name=f\"{self.year} {self.make} {self.model}\"\n",
    "        return long_name.title()\n",
    "       \n",
    "    def read_odometer(self):\n",
    "        \"\"\"打印一条指出汽车行驶里程的消息\"\"\"\n",
    "        print(f\"This car has {self.odometer_reading}miles on it.\")\n",
    "    def update_odometer(self,mileage):\n",
    "        \"\"\"将里程表读数设置为指定值，禁止将里程表读数往回调\"\"\"\n",
    "        if mileage>=self.odometer_reading:\n",
    "            self.odometer_reading=mileage\n",
    "        else:\n",
    "            print(\"You can't roll back an odometer!\")\n",
    "    def increment_odometer(self,miles):\n",
    "        \"\"\"让里程表读数增加指定的量\"\"\"\n",
    "        self.odometer_reading+=miles\n",
    "class ElectricCar(Car):\n",
    "    \"\"\"电动车的独特之处\"\"\"\n",
    "    def __init__(self,make,model,year):\n",
    "        \"\"\"初始化父类的属性\"\"\"\n",
    "        super().__init__(make,model,year)\n",
    "my_leaf=ElectricCar(\"nissan\",\"leaf\",2024)\n",
    "print(my_leaf.get_descriptive_name())"
   ]
  },
  {
   "cell_type": "code",
   "execution_count": 18,
   "id": "3191b073",
   "metadata": {},
   "outputs": [
    {
     "name": "stdout",
     "output_type": "stream",
     "text": [
      "2024 Nissan Leaf\n",
      "This car has a 40-kwh battery.\n"
     ]
    }
   ],
   "source": [
    "#9.3.2给子类定义属性和方法\n",
    "class Car:\n",
    "    def __init__(self,make,model,year):\n",
    "        \"\"\"初始化描述汽车属性\"\"\"\n",
    "        self.make=make\n",
    "        self.model=model\n",
    "        self.year=year\n",
    "        self.odometer_reading=0\n",
    "    \n",
    "    def get_descriptive_name(self):\n",
    "        \"\"\"返回格式规范的描述性信息\"\"\"\n",
    "        long_name=f\"{self.year} {self.make} {self.model}\"\n",
    "        return long_name.title()\n",
    "       \n",
    "    def read_odometer(self):\n",
    "        \"\"\"打印一条指出汽车行驶里程的消息\"\"\"\n",
    "        print(f\"This car has {self.odometer_reading}miles on it.\")\n",
    "    def update_odometer(self,mileage):\n",
    "        \"\"\"将里程表读数设置为指定值，禁止将里程表读数往回调\"\"\"\n",
    "        if mileage>=self.odometer_reading:\n",
    "            self.odometer_reading=mileage\n",
    "        else:\n",
    "            print(\"You can't roll back an odometer!\")\n",
    "    def increment_odometer(self,miles):\n",
    "        \"\"\"让里程表读数增加指定的量\"\"\"\n",
    "        self.odometer_reading+=miles\n",
    "class ElectricCar(Car):\n",
    "    \"\"\"电动车的独特之处\"\"\"\n",
    "    def __init__(self,make,model,year):\n",
    "        \"\"\"初始化父类的属性,再初始化子类的独有属性\"\"\"\n",
    "        super().__init__(make,model,year)\n",
    "        self.battery_size=40\n",
    "    def describe_battery(self):\n",
    "        \"\"\"打印一条描述电池容量的消息\"\"\"\n",
    "        print(f\"This car has a {self.battery_size}-kwh battery.\")\n",
    "my_leaf=ElectricCar(\"nissan\",\"leaf\",2024)\n",
    "print(my_leaf.get_descriptive_name())\n",
    "my_leaf.describe_battery()"
   ]
  },
  {
   "cell_type": "code",
   "execution_count": 19,
   "id": "aa54ac72",
   "metadata": {},
   "outputs": [
    {
     "name": "stdout",
     "output_type": "stream",
     "text": [
      "2024 Nissan Leaf\n",
      "This car has a 40-kwh battery.\n"
     ]
    }
   ],
   "source": [
    "#9.3.3重写父类种的方法\n",
    "#在使用子类模拟的实物的行为时，如果父类中的一些方法不能满足于子类的需求，就可以用下列的办法重写：在子类中定义一个与要重写的父类同名的方法\n",
    "class Car:\n",
    "    def __init__(self,make,model,year):\n",
    "        \"\"\"初始化描述汽车属性\"\"\"\n",
    "        self.make=make\n",
    "        self.model=model\n",
    "        self.year=year\n",
    "        self.odometer_reading=0\n",
    "    \n",
    "    def get_descriptive_name(self):\n",
    "        \"\"\"返回格式规范的描述性信息\"\"\"\n",
    "        long_name=f\"{self.year} {self.make} {self.model}\"\n",
    "        return long_name.title()\n",
    "       \n",
    "    def read_odometer(self):\n",
    "        \"\"\"打印一条指出汽车行驶里程的消息\"\"\"\n",
    "        print(f\"This car has {self.odometer_reading}miles on it.\")\n",
    "    def update_odometer(self,mileage):\n",
    "        \"\"\"将里程表读数设置为指定值，禁止将里程表读数往回调\"\"\"\n",
    "        if mileage>=self.odometer_reading:\n",
    "            self.odometer_reading=mileage\n",
    "        else:\n",
    "            print(\"You can't roll back an odometer!\")\n",
    "    def increment_odometer(self,miles):\n",
    "        \"\"\"让里程表读数增加指定的量\"\"\"\n",
    "        self.odometer_reading+=miles\n",
    "class ElectricCar(Car):\n",
    "    \"\"\"电动车的独特之处\"\"\"\n",
    "    def __init__(self,make,model,year):\n",
    "        \"\"\"初始化父类的属性,再初始化子类的独有属性\"\"\"\n",
    "        super().__init__(make,model,year)\n",
    "        self.battery_size=40\n",
    "    def describe_battery(self):\n",
    "        \"\"\"打印一条描述电池容量的消息\"\"\"\n",
    "        print(f\"This car has a {self.battery_size}-kwh battery.\")\n",
    "    def fill_gass_tank(self):\n",
    "        \"\"\"电动车没有邮箱\"\"\"\n",
    "        print(\"This car doesn't have a gas tank!\")\n",
    "my_leaf=ElectricCar(\"nissan\",\"leaf\",2024)\n",
    "print(my_leaf.get_descriptive_name())\n",
    "my_leaf.describe_battery()"
   ]
  },
  {
   "cell_type": "code",
   "execution_count": 20,
   "id": "c72ddfe6",
   "metadata": {},
   "outputs": [
    {
     "name": "stdout",
     "output_type": "stream",
     "text": [
      "2024 Nissan Leaf\n",
      "This car has a 40-kwh battery.\n",
      "This car can go about 150 miles on a full charge.\n"
     ]
    }
   ],
   "source": [
    "#9.3.4将实例用作属性\n",
    "#在使用代码模拟实物时，你可能会发现自己给类添加了太多细节：属性和方法越来越多，文件越来越长。在这种情况下，可能需要将类的一部分提取出来，作为一个独立的类。将大型的类拆分成多个协同工作的小类，这种方法称为组合。\n",
    "class Car:\n",
    "    def __init__(self,make,model,year):\n",
    "        \"\"\"初始化描述汽车属性\"\"\"\n",
    "        self.make=make\n",
    "        self.model=model\n",
    "        self.year=year\n",
    "        self.odometer_reading=0\n",
    "    \n",
    "    def get_descriptive_name(self):\n",
    "        \"\"\"返回格式规范的描述性信息\"\"\"\n",
    "        long_name=f\"{self.year} {self.make} {self.model}\"\n",
    "        return long_name.title()\n",
    "       \n",
    "    def read_odometer(self):\n",
    "        \"\"\"打印一条指出汽车行驶里程的消息\"\"\"\n",
    "        print(f\"This car has {self.odometer_reading}miles on it.\")\n",
    "    def update_odometer(self,mileage):\n",
    "        \"\"\"将里程表读数设置为指定值，禁止将里程表读数往回调\"\"\"\n",
    "        if mileage>=self.odometer_reading:\n",
    "            self.odometer_reading=mileage\n",
    "        else:\n",
    "            print(\"You can't roll back an odometer!\")\n",
    "    def increment_odometer(self,miles):\n",
    "        \"\"\"让里程表读数增加指定的量\"\"\"\n",
    "        self.odometer_reading+=miles\n",
    "class Battery:\n",
    "    \"\"\"一次模拟电池的简单尝试\"\"\"\n",
    "    def __init__(self,battery_size=40):\n",
    "        \"\"\"初始化电池的属性\"\"\"\n",
    "        self.battery_size=battery_size\n",
    "    def describe_battery(self):\n",
    "        \"\"\"打印一条描述电池容量的消息\"\"\"\n",
    "        print(f\"This car has a {self.battery_size}-kwh battery.\")\n",
    "    def get_range(self):\n",
    "        \"\"\"打印一条消息，指出电池的续航里程\"\"\"\n",
    "        if self.battery_size==40:\n",
    "            range=150\n",
    "        elif self.battery_size==65:\n",
    "            range=225\n",
    "        \n",
    "        print(f\"This car can go about {range} miles on a full charge.\")\n",
    "class ElectricCar(Car):\n",
    "    \"\"\"电动车的独特之处\"\"\"\n",
    "    def __init__(self,make,model,year):\n",
    "        \"\"\"初始化父类的属性,再初始化子类的独有属性\"\"\"\n",
    "        super().__init__(make,model,year)\n",
    "        self.battery=Battery()\n",
    "my_leaf=ElectricCar(\"nissan\",\"leaf\",2024)\n",
    "print(my_leaf.get_descriptive_name())\n",
    "my_leaf.battery.describe_battery()\n",
    "my_leaf.battery.get_range()"
   ]
  },
  {
   "cell_type": "code",
   "execution_count": 21,
   "id": "297aab7f",
   "metadata": {},
   "outputs": [
    {
     "name": "stdout",
     "output_type": "stream",
     "text": [
      "This restaurant's name is caigengxiang,and it prints the chinese dish dish.\n",
      "This restaurant is opening.\n",
      "The number of people we have served is 23.\n",
      "We could provide this ['chocolate', 'starwberry', 'mint'].\n"
     ]
    }
   ],
   "source": [
    "#练习9.6\n",
    "class Restaurant:\n",
    "    \"\"\"一次模拟餐厅的简单尝试\"\"\"\n",
    "    def __init__(self,restaurant_name,cuisine_type):\n",
    "        \"\"\"初始化属性name和type\"\"\"\n",
    "        self.name=restaurant_name\n",
    "        self.type=cuisine_type\n",
    "        self.number_served=0\n",
    "    def describe_restaurant(self):\n",
    "        \"\"\"输出餐厅信息\"\"\"\n",
    "        print(f\"This restaurant's name is {self.name},and it prints the {self.type} dish.\")\n",
    "    def open_restaurant(self):\n",
    "        \"\"\"指出餐厅正在营业\"\"\"\n",
    "        print(\"This restaurant is opening.\")\n",
    "    def number_served_restaurant(self):\n",
    "        \"\"\"打印这个餐馆接待了多少人\"\"\"\n",
    "        print(f\"The number of people we have served is {self.number_served}.\")\n",
    "class IceCreamstand(Restaurant):\n",
    "    \"\"\"冰淇淋的口味\"\"\"\n",
    "    def __init__(self,restaurant_name,cuisine_type):\n",
    "        \"\"\"初始化父类的属性\"\"\"\n",
    "        super().__init__(restaurant_name,cuisine_type)\n",
    "        self.flavors=[\"chocolate\",\"starwberry\",\"mint\"]\n",
    "    def icecream_flavors(self):\n",
    "        \"\"\"打印可以提供的口味\"\"\"\n",
    "        print(f\"We could provide this {self.flavors}.\")\n",
    "        \n",
    "restaurant=Restaurant('caigengxiang',\"chinese dish\")\n",
    "restaurant.describe_restaurant()\n",
    "restaurant.open_restaurant()\n",
    "restaurant.number_served = 23\n",
    "restaurant.number_served_restaurant()\n",
    "icecream=IceCreamstand('sweet','chinese')\n",
    "icecream.icecream_flavors()\n",
    "\n",
    "        \n",
    "        \n"
   ]
  },
  {
   "cell_type": "code",
   "execution_count": 22,
   "id": "a6db089c",
   "metadata": {},
   "outputs": [
    {
     "name": "stdout",
     "output_type": "stream",
     "text": [
      "The admin have this privileges:['can add post', 'can delete post', 'can be user'].\n"
     ]
    }
   ],
   "source": [
    "#练习9.7 \n",
    "class User:\n",
    "    \"\"\"一次模拟用户的简单尝试\"\"\"\n",
    "    def __init__(self,first_name,last_name):\n",
    "        \"\"\"初始化用户数据\"\"\"\n",
    "        self.first_name=first_name\n",
    "        self.last_name=last_name\n",
    "        self.login_attempts=0\n",
    "    def describe_user(self):\n",
    "        \"\"\"输出用户信息\"\"\"\n",
    "        print(f\"First_name:{self.first_name},last_name:{self.last_name}\")\n",
    "    def greet_user(self):\n",
    "        print(f\"Welcome to you,dear {self.first_name}·{self.last_name}.\")\n",
    "    def login_number(self):\n",
    "        \"\"\"指出用户登录了多少次\"\"\"\n",
    "        print(f\"{self.first_name}`{self.last_name} have logined in {self.login_attempts} time.\")\n",
    "    def increment_login_attmpts(self,miles):\n",
    "        \"\"\"增加一个固定的值\"\"\"\n",
    "        self.login_attempts+=miles\n",
    "    def reset_login_attmpts(self,reset_number):\n",
    "        \"\"\"重置增加的值\"\"\"\n",
    "        self.login_attempts=reset_number\n",
    "class Admin(User):\n",
    "    def __init__(self,first_name,last_name):\n",
    "        \"\"\"初始化父类的属性\"\"\"\n",
    "        super().__init__(first_name,last_name)\n",
    "        self.privileges=[\"can add post\",\"can delete post\",\"can be user\"]\n",
    "    def show_privileges(self):\n",
    "        \"\"\"显示管理员权限\"\"\"\n",
    "        print(f\"The admin have this privileges:{self.privileges}.\")\n",
    "admin=Admin('KAILE','MAXE')\n",
    "admin.show_privileges()"
   ]
  },
  {
   "cell_type": "code",
   "execution_count": 23,
   "id": "0acdef54",
   "metadata": {},
   "outputs": [
    {
     "name": "stdout",
     "output_type": "stream",
     "text": [
      "The admin have this privileges:['can add post', 'can delete post', 'can be user'].\n"
     ]
    }
   ],
   "source": [
    "#练习9.8\n",
    "class Privileges:\n",
    "    def __init__(self,privileges=[\"can add post\",\"can delete post\",\"can be user\"]):\n",
    "        self.privileges=privileges\n",
    "    def show_privileges(self):\n",
    "        \"\"\"显示管理员权限\"\"\"\n",
    "        print(f\"The admin have this privileges:{self.privileges}.\")\n",
    "class User:\n",
    "    \"\"\"一次模拟用户的简单尝试\"\"\"\n",
    "    def __init__(self,first_name,last_name):\n",
    "        \"\"\"初始化用户数据\"\"\"\n",
    "        self.first_name=first_name\n",
    "        self.last_name=last_name\n",
    "        self.login_attempts=0\n",
    "    def describe_user(self):\n",
    "        \"\"\"输出用户信息\"\"\"\n",
    "        print(f\"First_name:{self.first_name},last_name:{self.last_name}\")\n",
    "    def greet_user(self):\n",
    "        print(f\"Welcome to you,dear {self.first_name}·{self.last_name}.\")\n",
    "    def login_number(self):\n",
    "        \"\"\"指出用户登录了多少次\"\"\"\n",
    "        print(f\"{self.first_name}`{self.last_name} have logined in {self.login_attempts} time.\")\n",
    "    def increment_login_attmpts(self,miles):\n",
    "        \"\"\"增加一个固定的值\"\"\"\n",
    "        self.login_attempts+=miles\n",
    "    def reset_login_attmpts(self,reset_number):\n",
    "        \"\"\"重置增加的值\"\"\"\n",
    "        self.login_attempts=reset_number\n",
    "class Admin(User):\n",
    "    def __init__(self,first_name,last_name):\n",
    "        \"\"\"初始化父类的属性\"\"\"\n",
    "        super().__init__(first_name,last_name)\n",
    "        self.privileges=Privileges()\n",
    "admin=Admin('KAILE','MAXE')\n",
    "admin.privileges.show_privileges()"
   ]
  },
  {
   "cell_type": "code",
   "execution_count": 24,
   "id": "21b744da",
   "metadata": {},
   "outputs": [
    {
     "name": "stdout",
     "output_type": "stream",
     "text": [
      "2024 Nissan Leaf\n",
      "This car has a 40-kwh battery.\n"
     ]
    }
   ],
   "source": [
    "#9.9\n",
    "class Car:\n",
    "    def __init__(self,make,model,year):\n",
    "        \"\"\"初始化描述汽车属性\"\"\"\n",
    "        self.make=make\n",
    "        self.model=model\n",
    "        self.year=year\n",
    "        self.odometer_reading=0\n",
    "    \n",
    "    def get_descriptive_name(self):\n",
    "        \"\"\"返回格式规范的描述性信息\"\"\"\n",
    "        long_name=f\"{self.year} {self.make} {self.model}\"\n",
    "        return long_name.title()\n",
    "       \n",
    "    def read_odometer(self):\n",
    "        \"\"\"打印一条指出汽车行驶里程的消息\"\"\"\n",
    "        print(f\"This car has {self.odometer_reading}miles on it.\")\n",
    "    def update_odometer(self,mileage):\n",
    "        \"\"\"将里程表读数设置为指定值，禁止将里程表读数往回调\"\"\"\n",
    "        if mileage>=self.odometer_reading:\n",
    "            self.odometer_reading=mileage\n",
    "        else:\n",
    "            print(\"You can't roll back an odometer!\")\n",
    "    def increment_odometer(self,miles):\n",
    "        \"\"\"让里程表读数增加指定的量\"\"\"\n",
    "        self.odometer_reading+=miles\n",
    "class Battery:\n",
    "    \"\"\"一次模拟电池的简单尝试\"\"\"\n",
    "    def __init__(self,battery_size=40):\n",
    "        \"\"\"初始化电池的属性\"\"\"\n",
    "        self.battery_size=battery_size\n",
    "    def upgrade_battery(self):\n",
    "        \"\"\"升级电池\"\"\"\n",
    "        if self.battery_size==65:\n",
    "            self.battery_size=65\n",
    "        else:\n",
    "            self.battery_size=65\n",
    "    def describe_battery(self):\n",
    "        \"\"\"打印一条描述电池容量的消息\"\"\"\n",
    "        print(f\"This car has a {self.battery_size}-kwh battery.\")\n",
    "    def get_range(self):\n",
    "        \"\"\"打印一条消息，指出电池的续航里程\"\"\"\n",
    "        if self.battery_size==40:\n",
    "            range=150\n",
    "        elif self.battery_size==65:\n",
    "            range=225\n",
    "            print(f\"This car can go about {range} miles on a full charge.\")\n",
    "class ElectricCar(Car):\n",
    "    \"\"\"电动车的独特之处\"\"\"\n",
    "    def __init__(self,make,model,year):\n",
    "        \"\"\"初始化父类的属性,再初始化子类的独有属性\"\"\"\n",
    "        super().__init__(make,model,year)\n",
    "        self.battery=Battery()\n",
    "my_leaf=ElectricCar(\"nissan\",\"leaf\",2024)\n",
    "print(my_leaf.get_descriptive_name())\n",
    "my_leaf.battery.describe_battery()\n",
    "my_leaf.battery.get_range()"
   ]
  },
  {
   "cell_type": "markdown",
   "id": "2060d66f",
   "metadata": {},
   "source": [
    "9.4导入类"
   ]
  },
  {
   "cell_type": "code",
   "execution_count": 25,
   "id": "0929ee45",
   "metadata": {},
   "outputs": [
    {
     "name": "stdout",
     "output_type": "stream",
     "text": [
      "2024 Audi A4\n",
      "This car has 23miles on it.\n"
     ]
    }
   ],
   "source": [
    "#9.4.1导入单个类\n",
    "from car import Car\n",
    "my_new_car=Car('audi','a4',2024)\n",
    "print(my_new_car.get_descriptive_name())\n",
    "my_new_car.odometer_reading=23\n",
    "my_new_car.read_odometer()"
   ]
  },
  {
   "cell_type": "code",
   "execution_count": 26,
   "id": "c8a2e9bd",
   "metadata": {},
   "outputs": [
    {
     "ename": "ImportError",
     "evalue": "cannot import name 'ElectricCar' from 'car' (C:\\Users\\lx\\car.py)",
     "output_type": "error",
     "traceback": [
      "\u001b[1;31m---------------------------------------------------------------------------\u001b[0m",
      "\u001b[1;31mImportError\u001b[0m                               Traceback (most recent call last)",
      "\u001b[1;32m~\\AppData\\Local\\Temp\\ipykernel_10372\\3978819402.py\u001b[0m in \u001b[0;36m<module>\u001b[1;34m\u001b[0m\n\u001b[0;32m      1\u001b[0m \u001b[1;31m#9.4.2在一个模块中存储多个类\u001b[0m\u001b[1;33m\u001b[0m\u001b[1;33m\u001b[0m\u001b[0m\n\u001b[1;32m----> 2\u001b[1;33m \u001b[1;32mfrom\u001b[0m \u001b[0mcar\u001b[0m \u001b[1;32mimport\u001b[0m \u001b[0mElectricCar\u001b[0m\u001b[1;33m\u001b[0m\u001b[1;33m\u001b[0m\u001b[0m\n\u001b[0m\u001b[0;32m      3\u001b[0m \u001b[0mmy_leaf\u001b[0m\u001b[1;33m=\u001b[0m\u001b[0mElectricCar\u001b[0m\u001b[1;33m(\u001b[0m\u001b[1;34m'nissan'\u001b[0m\u001b[1;33m,\u001b[0m\u001b[1;34m'leaf'\u001b[0m\u001b[1;33m,\u001b[0m\u001b[1;36m2024\u001b[0m\u001b[1;33m)\u001b[0m\u001b[1;33m\u001b[0m\u001b[1;33m\u001b[0m\u001b[0m\n\u001b[0;32m      4\u001b[0m \u001b[0mprint\u001b[0m\u001b[1;33m(\u001b[0m\u001b[0mmy_leaf\u001b[0m\u001b[1;33m.\u001b[0m\u001b[0mget_descriptive_name\u001b[0m\u001b[1;33m(\u001b[0m\u001b[1;33m)\u001b[0m\u001b[1;33m)\u001b[0m\u001b[1;33m\u001b[0m\u001b[1;33m\u001b[0m\u001b[0m\n\u001b[0;32m      5\u001b[0m \u001b[0mmy_leaf\u001b[0m\u001b[1;33m.\u001b[0m\u001b[0mbattery\u001b[0m\u001b[1;33m.\u001b[0m\u001b[0mdescribe_battery\u001b[0m\u001b[1;33m(\u001b[0m\u001b[1;33m)\u001b[0m\u001b[1;33m\u001b[0m\u001b[1;33m\u001b[0m\u001b[0m\n",
      "\u001b[1;31mImportError\u001b[0m: cannot import name 'ElectricCar' from 'car' (C:\\Users\\lx\\car.py)"
     ]
    }
   ],
   "source": [
    "#9.4.2在一个模块中存储多个类\n",
    "from car import ElectricCar\n",
    "my_leaf=ElectricCar('nissan','leaf',2024)\n",
    "print(my_leaf.get_descriptive_name())\n",
    "my_leaf.battery.describe_battery()\n",
    "my_leaf.battery.get_range()"
   ]
  },
  {
   "cell_type": "code",
   "execution_count": null,
   "id": "1fee3635",
   "metadata": {},
   "outputs": [],
   "source": [
    "#9.4.3从一个模块导入多个类\n",
    "\"\"\"可以根据需要在程序文件中导入任意数量的类。如果要在同一个程序中创建燃油汽车和电动汽车，就需要将CAR类和Electriccar类都导入\"\"\"\n",
    "from car import Car,ElectricCar\n",
    "my_mustang=Car('ford','mustang',2024)\n",
    "print(my_mustang.get_descriptive_name())\n",
    "my_leaf=ElectricCar('nissan','leaf',2024)\n",
    "print(my_leaf.get_descriptive_name())"
   ]
  },
  {
   "cell_type": "code",
   "execution_count": null,
   "id": "c3bf3832",
   "metadata": {},
   "outputs": [],
   "source": [
    "#9.4.4导入整个模块\n",
    "\"\"\"也可以先导入整个模块，再使用点号访问需要的类。\"\"\"\n",
    "import car\n",
    "my_mustang=car.Car('ford','mustang',2024)\n",
    "print(my_mustang.get_descriptive_name())\n",
    "my_leaf=car.ElectricCar('nissan','leaf',2024)\n",
    "print(my_leaf.get_descriptive_name())"
   ]
  },
  {
   "cell_type": "code",
   "execution_count": null,
   "id": "39389f49",
   "metadata": {},
   "outputs": [],
   "source": [
    "#9.4.5导入模块中的所有类\n",
    "\"\"\"不推荐这种导入方式，原因有二。第一，最好只需要看一下文件开头的import语句，就能清楚地知道程序使用了那些类。而这种导入方式没有明确指出使用了模块中的那些类。第二这种导入方式还可能引发名称方面的迷惑\"\"\"\n",
    "#9.4.6在一个模块中导入另一个模块\n",
    "\"\"\"现在可以分别从每个模块中导入类，以根据需要创建任意类型的汽车了\"\"\"\n",
    "from car import Car\n",
    "from electric import ElectricCar\n",
    "my_mustang=Car('ford','mustang',2024)\n",
    "print(my_mustang.get_descriptive_name())\n",
    "my_leaf=ElectricCar('nissan','leaf',2024)\n",
    "print(my_leaf.get_descriptive_name())"
   ]
  },
  {
   "cell_type": "code",
   "execution_count": null,
   "id": "f164bb25",
   "metadata": {},
   "outputs": [],
   "source": [
    "#9.4.7使用别名\n",
    "\"\"\"第八章说过，当使用模块来组织项目代码时，别名能发挥很大作用。在导入类时，也可以给他指定别名\"\"\"\n",
    "\"\"\"假设要在程序中创建大量电动车实例，需要反复输入electriccar，非常繁琐、为了避免这种烦恼，可在import语句中指定一个别名\"\"\"\n",
    "from electric import ElectricCar as EC\n",
    "my_leaf=EC('nissan','leaf',2024)\n",
    "import electric as ec\n",
    "my_leaf=ec.ElectricCar('niddsn','leaf',2024)"
   ]
  },
  {
   "cell_type": "code",
   "execution_count": null,
   "id": "1f5e14cb",
   "metadata": {},
   "outputs": [],
   "source": [
    "#练习9,10\n",
    "from Restaurant import Restaurant\n",
    "restaurant=Restaurant('caigengxiang',\"chinese dish\")\n",
    "restaurant.describe_restaurant()\n",
    "restaurant.open_restaurant()\n",
    "restaurant.number_served = 23\n",
    "restaurant.number_served_restaurant()"
   ]
  },
  {
   "cell_type": "code",
   "execution_count": null,
   "id": "af75b4ca",
   "metadata": {},
   "outputs": [],
   "source": [
    "#练习9.11\n",
    "from user import Admin\n",
    "admin=Admin('KAILE','MAXE')\n",
    "admin.privileges.show_privileges()"
   ]
  },
  {
   "cell_type": "code",
   "execution_count": null,
   "id": "2f74b8d3",
   "metadata": {},
   "outputs": [],
   "source": [
    "#练习9.12\n",
    "from privilege import Admin\n",
    "admin=Admin('KAILE','MAXE')\n",
    "admin.privileges.show_privileges()"
   ]
  },
  {
   "cell_type": "code",
   "execution_count": null,
   "id": "4cdbd2cb",
   "metadata": {},
   "outputs": [],
   "source": [
    "#9,5 Python 标准库\n",
    "from random import randint\n",
    "randint(1,6)"
   ]
  },
  {
   "cell_type": "code",
   "execution_count": null,
   "id": "19c87ac9",
   "metadata": {},
   "outputs": [],
   "source": [
    "from random import choice\n",
    "players=['charles','martina','michael','florence','eli']\n",
    "first_up=choice(players)\n",
    "first_up"
   ]
  },
  {
   "cell_type": "code",
   "execution_count": null,
   "id": "8605c5f6",
   "metadata": {},
   "outputs": [],
   "source": [
    "from random import randint\n",
    "class Die:\n",
    "    def __init__(self,sides=6):\n",
    "        \"\"\"创立一个属性sides默认为6的类\"\"\"\n",
    "        self.sides=sides\n",
    "    def roll_die(self):\n",
    "        \"\"\"打印1和骰子面数之间的随机数\"\"\"\n",
    "        x=randint(1,self.sides)\n",
    "        print(x)\n",
    "die_6=Die()\n",
    "print(\"\\nThe results of a 6-sides die:\")\n",
    "for  i in range(10):\n",
    "    die_6.roll_die()\n",
    "\n",
    "die_10=Die(sides=10)\n",
    "print(\"\\nThe results of a 10-sides die:\")\n",
    "for  i in range(10):\n",
    "    die_10.roll_die() \n",
    "\n",
    "die_20=Die(sides=20)\n",
    "print(\"\\nThe results of a 20-sides die:\")\n",
    "for  i in range(10):\n",
    "    die_20.roll_die()    "
   ]
  },
  {
   "cell_type": "code",
   "execution_count": null,
   "id": "4766e53c",
   "metadata": {},
   "outputs": [],
   "source": [
    "from random import choice\n",
    "lucky=[1,3,5,7,9,11,13,15,17,19,'a','b','c','d','e']\n",
    "winner=[]\n",
    "for i in range(4):\n",
    "    w=choice(lucky)\n",
    "    winner.append(w)\n",
    "print(f\"If you have this number:{winner},you are the winner!\")"
   ]
  },
  {
   "cell_type": "code",
   "execution_count": 3,
   "id": "052cf4cd",
   "metadata": {},
   "outputs": [
    {
     "name": "stdout",
     "output_type": "stream",
     "text": [
      "After 6871circles,you got the big award!\n"
     ]
    }
   ],
   "source": [
    "from random import choice\n",
    "lucky=[1,3,5,7,9,11,13,15,17,19,'a','b','c','d','e']\n",
    "winner=[9,'c',17,13]\n",
    "number=0\n",
    "while True:\n",
    "    my_ticker=[]\n",
    "    number+=1\n",
    "    for i in range(4):\n",
    "        w=choice(lucky)\n",
    "        my_ticker.append(w)\n",
    "    if my_ticker==winner:\n",
    "        print(f'After {number}circles,you got the big award!')\n",
    "        break\n",
    "  "
   ]
  },
  {
   "cell_type": "code",
   "execution_count": null,
   "id": "9935654f",
   "metadata": {},
   "outputs": [],
   "source": [
    "from random import choice\n",
    "lucky=[1,3,5,7,9,11,13,15,17,19,'a','b','c','d','e']\n",
    "winner=[9,'c',17,13]\n",
    "my_ticker=[]\n",
    "number=0\n",
    "while True:\n",
    "    number+=1\n",
    "    f=choice(lucky)\n",
    "    my_ticker.append(f)\n",
    "   \n",
    "    s=choice(lucky)\n",
    "    my_ticker.append(s)\n",
    "    v=choice(lucky)\n",
    "    my_ticker.append(v)\n",
    "    y=choice(lucky)\n",
    "    my_ticker.append(y)\n",
    "    \n",
    "    if my_ticker==winner:\n",
    "        print(f'After {number}circles,you got the big award!')\n",
    "        break\n"
   ]
  },
  {
   "cell_type": "code",
   "execution_count": null,
   "id": "837807bd",
   "metadata": {},
   "outputs": [],
   "source": []
  }
 ],
 "metadata": {
  "kernelspec": {
   "display_name": "Python 3 (ipykernel)",
   "language": "python",
   "name": "python3"
  },
  "language_info": {
   "codemirror_mode": {
    "name": "ipython",
    "version": 3
   },
   "file_extension": ".py",
   "mimetype": "text/x-python",
   "name": "python",
   "nbconvert_exporter": "python",
   "pygments_lexer": "ipython3",
   "version": "3.9.13"
  }
 },
 "nbformat": 4,
 "nbformat_minor": 5
}
