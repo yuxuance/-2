{
 "cells": [
  {
   "cell_type": "markdown",
   "id": "75b99025",
   "metadata": {},
   "source": [
    "5.1一个简单的示例"
   ]
  },
  {
   "cell_type": "code",
   "execution_count": 3,
   "id": "80d445e4",
   "metadata": {},
   "outputs": [
    {
     "name": "stdout",
     "output_type": "stream",
     "text": [
      "Auid\n",
      "BMW\n",
      "Subaru\n",
      "Toyota\n"
     ]
    }
   ],
   "source": [
    "cars=[\"auid\",\"bmw\",\"subaru\",\"toyota\"]\n",
    "for car in cars:\n",
    "    if car ==\"bmw\":\n",
    "        print(car.upper())\n",
    "    else:\n",
    "        print(car.title())"
   ]
  },
  {
   "cell_type": "markdown",
   "id": "b7e5b3bb",
   "metadata": {},
   "source": [
    "#5.2 条件测试"
   ]
  },
  {
   "cell_type": "code",
   "execution_count": 5,
   "id": "50db06e5",
   "metadata": {},
   "outputs": [
    {
     "name": "stdout",
     "output_type": "stream",
     "text": [
      "False\n",
      "True\n"
     ]
    }
   ],
   "source": [
    "car=\"Audi\"\n",
    "print(car==\"audi\")\n",
    "print(car.lower()==\"audi\")"
   ]
  },
  {
   "cell_type": "code",
   "execution_count": 7,
   "id": "22cdcf65",
   "metadata": {},
   "outputs": [
    {
     "data": {
      "text/plain": [
       "True"
      ]
     },
     "execution_count": 7,
     "metadata": {},
     "output_type": "execute_result"
    }
   ],
   "source": [
    "True==1"
   ]
  },
  {
   "cell_type": "code",
   "execution_count": 8,
   "id": "b3a741f4",
   "metadata": {},
   "outputs": [
    {
     "data": {
      "text/plain": [
       "True"
      ]
     },
     "execution_count": 8,
     "metadata": {},
     "output_type": "execute_result"
    }
   ],
   "source": [
    "False==0"
   ]
  },
  {
   "cell_type": "markdown",
   "id": "7756a53d",
   "metadata": {},
   "source": [
    "##5.2条件测试；不等"
   ]
  },
  {
   "cell_type": "code",
   "execution_count": 9,
   "id": "3e25d361",
   "metadata": {},
   "outputs": [
    {
     "name": "stdout",
     "output_type": "stream",
     "text": [
      "True\n",
      "False\n"
     ]
    }
   ],
   "source": [
    "car=\"Auid\"\n",
    "print(car!=\"auid\")\n",
    "print(car.lower()!=\"auid\")"
   ]
  },
  {
   "cell_type": "code",
   "execution_count": 18,
   "id": "5eeb3fbe",
   "metadata": {},
   "outputs": [
    {
     "name": "stdout",
     "output_type": "stream",
     "text": [
      "True\n",
      "False\n"
     ]
    }
   ],
   "source": [
    "age=19\n",
    "print(age<21)\n",
    "\n",
    "      \n",
    "print(age>21)\n",
    "      \n"
   ]
  },
  {
   "cell_type": "code",
   "execution_count": 20,
   "id": "2d240504",
   "metadata": {},
   "outputs": [
    {
     "name": "stdout",
     "output_type": "stream",
     "text": [
      "True\n"
     ]
    }
   ],
   "source": [
    "age_0=18\n",
    "age_1=21\n",
    "print(age_0>=17 and age_1<=21)"
   ]
  },
  {
   "cell_type": "code",
   "execution_count": 21,
   "id": "005d4294",
   "metadata": {},
   "outputs": [
    {
     "name": "stdout",
     "output_type": "stream",
     "text": [
      "True\n",
      "False\n",
      "\n",
      "False\n",
      "True\n"
     ]
    }
   ],
   "source": [
    "requested_toppings=[\"mushrooms\",\"onions\"]\n",
    "print(\"mushrooms\"in requested_toppings)\n",
    "print(\"pepperoni\"in requested_toppings)\n",
    "print()\n",
    "print(\"mushrooms\" not in requested_toppings)\n",
    "print(\"pepperoni\" not in requested_toppings)"
   ]
  },
  {
   "cell_type": "code",
   "execution_count": 22,
   "id": "e7d00c67",
   "metadata": {},
   "outputs": [
    {
     "data": {
      "text/plain": [
       "0.6"
      ]
     },
     "execution_count": 22,
     "metadata": {},
     "output_type": "execute_result"
    }
   ],
   "source": [
    "1+2*(3-4)/5"
   ]
  },
  {
   "cell_type": "code",
   "execution_count": 24,
   "id": "b415d39b",
   "metadata": {},
   "outputs": [
    {
     "name": "stdout",
     "output_type": "stream",
     "text": [
      "[3, 6, 9, 12, 15, 18, 21, 24, 27, 30]\n"
     ]
    }
   ],
   "source": [
    "squares=[value for value in range(3,31,3)]\n",
    "print(squares)"
   ]
  },
  {
   "cell_type": "markdown",
   "id": "767b785a",
   "metadata": {},
   "source": [
    "## 2使用or检查多个条件"
   ]
  },
  {
   "cell_type": "code",
   "execution_count": 7,
   "id": "187db5c4",
   "metadata": {},
   "outputs": [
    {
     "name": "stdout",
     "output_type": "stream",
     "text": [
      "\n"
     ]
    },
    {
     "data": {
      "text/plain": [
       "False"
      ]
     },
     "execution_count": 7,
     "metadata": {},
     "output_type": "execute_result"
    }
   ],
   "source": [
    "age_0=22\n",
    "age_1=18\n",
    "age_0>=21and age_1>=21\n",
    "print()\n",
    "age_0=18\n",
    "age_0>=21or age_1>=21"
   ]
  },
  {
   "cell_type": "markdown",
   "id": "2ffd5095",
   "metadata": {},
   "source": [
    "#5.2.6检查特定的值是否在列表中"
   ]
  },
  {
   "cell_type": "code",
   "execution_count": 11,
   "id": "53cb9fd7",
   "metadata": {},
   "outputs": [
    {
     "data": {
      "text/plain": [
       "False"
      ]
     },
     "execution_count": 11,
     "metadata": {},
     "output_type": "execute_result"
    }
   ],
   "source": [
    "requested_toppings=[\"mushrooms\",\"onions\",\"pineapple\"]\n",
    "'mushrooms' in requested_toppings\n",
    "\n",
    "'pepperoni' in requested_toppings"
   ]
  },
  {
   "cell_type": "code",
   "execution_count": 5,
   "id": "ce024a02",
   "metadata": {},
   "outputs": [
    {
     "data": {
      "text/plain": [
       "True"
      ]
     },
     "execution_count": 5,
     "metadata": {},
     "output_type": "execute_result"
    }
   ],
   "source": [
    "requested_toppings=[\"mushrooms\",\"onions\",\"pineapple\"]\n",
    "'mushrooms' in requested_toppings\n",
    "\n",
    "\n"
   ]
  },
  {
   "cell_type": "code",
   "execution_count": 4,
   "id": "07013621",
   "metadata": {},
   "outputs": [
    {
     "data": {
      "text/plain": [
       "False"
      ]
     },
     "execution_count": 4,
     "metadata": {},
     "output_type": "execute_result"
    }
   ],
   "source": [
    "requested_toppings=[\"mushrooms\",\"onions\",\"pineapple\"]\n",
    "'pepperoni' in requested_toppings"
   ]
  },
  {
   "cell_type": "markdown",
   "id": "21e9cef0",
   "metadata": {},
   "source": [
    "#5.2.7 检查特定的值是否不在表中"
   ]
  },
  {
   "cell_type": "code",
   "execution_count": 13,
   "id": "47e3d0c0",
   "metadata": {},
   "outputs": [
    {
     "name": "stdout",
     "output_type": "stream",
     "text": [
      "Marie,you can post a response if you wish.\n"
     ]
    }
   ],
   "source": [
    "banned_users=['andrew','carolina','david']\n",
    "user= 'marie'\n",
    "if user not in banned_users:\n",
    "    print(f\"{user.title()},you can post a response if you wish.\")"
   ]
  },
  {
   "cell_type": "markdown",
   "id": "28bea895",
   "metadata": {},
   "source": [
    "#5.2.8 布尔表达式"
   ]
  },
  {
   "cell_type": "code",
   "execution_count": null,
   "id": "25bbe132",
   "metadata": {},
   "outputs": [],
   "source": [
    "game_active=True\n",
    "can_edit=False"
   ]
  },
  {
   "cell_type": "markdown",
   "id": "5d1b61bd",
   "metadata": {},
   "source": [
    "#练习5.1"
   ]
  },
  {
   "cell_type": "code",
   "execution_count": 8,
   "id": "eafdd638",
   "metadata": {},
   "outputs": [
    {
     "name": "stdout",
     "output_type": "stream",
     "text": [
      "Is car == 'subaru'? I predict True.\n",
      "True\n",
      "\n",
      "Is car== 'audi'? I predict False.\n",
      "False\n"
     ]
    }
   ],
   "source": [
    "car='subaru'\n",
    "print(\"Is car == 'subaru'? I predict True.\")\n",
    "print(car=='subaru')\n",
    "\n",
    "print(\"\\nIs car== 'audi'? I predict False.\")\n",
    "print(car=='audi')"
   ]
  },
  {
   "cell_type": "markdown",
   "id": "1dc6e0db",
   "metadata": {},
   "source": [
    "#练习5.2"
   ]
  },
  {
   "cell_type": "code",
   "execution_count": 10,
   "id": "ca300f53",
   "metadata": {},
   "outputs": [
    {
     "data": {
      "text/plain": [
       "False"
      ]
     },
     "execution_count": 10,
     "metadata": {},
     "output_type": "execute_result"
    }
   ],
   "source": [
    "'auid'=='subaru'"
   ]
  },
  {
   "cell_type": "code",
   "execution_count": 11,
   "id": "dea5cbec",
   "metadata": {},
   "outputs": [
    {
     "data": {
      "text/plain": [
       "True"
      ]
     },
     "execution_count": 11,
     "metadata": {},
     "output_type": "execute_result"
    }
   ],
   "source": [
    "'auid'!='subaru'"
   ]
  },
  {
   "cell_type": "code",
   "execution_count": 12,
   "id": "bc526e57",
   "metadata": {},
   "outputs": [
    {
     "data": {
      "text/plain": [
       "True"
      ]
     },
     "execution_count": 12,
     "metadata": {},
     "output_type": "execute_result"
    }
   ],
   "source": [
    "car='Auid'\n",
    "car.lower()=='auid'"
   ]
  },
  {
   "cell_type": "code",
   "execution_count": 14,
   "id": "4e298b11",
   "metadata": {},
   "outputs": [
    {
     "data": {
      "text/plain": [
       "True"
      ]
     },
     "execution_count": 14,
     "metadata": {},
     "output_type": "execute_result"
    }
   ],
   "source": [
    "age=24\n",
    "age==24"
   ]
  },
  {
   "cell_type": "code",
   "execution_count": 15,
   "id": "1d0db499",
   "metadata": {},
   "outputs": [
    {
     "data": {
      "text/plain": [
       "True"
      ]
     },
     "execution_count": 15,
     "metadata": {},
     "output_type": "execute_result"
    }
   ],
   "source": [
    "age=24\n",
    "age>21"
   ]
  },
  {
   "cell_type": "code",
   "execution_count": 16,
   "id": "86204e6b",
   "metadata": {},
   "outputs": [
    {
     "data": {
      "text/plain": [
       "False"
      ]
     },
     "execution_count": 16,
     "metadata": {},
     "output_type": "execute_result"
    }
   ],
   "source": [
    "age=24\n",
    "age<21"
   ]
  },
  {
   "cell_type": "code",
   "execution_count": 17,
   "id": "c08ca2c1",
   "metadata": {},
   "outputs": [
    {
     "data": {
      "text/plain": [
       "False"
      ]
     },
     "execution_count": 17,
     "metadata": {},
     "output_type": "execute_result"
    }
   ],
   "source": [
    "age_0=24\n",
    "age_1=32\n",
    "age_0>=21 and age_1<30"
   ]
  },
  {
   "cell_type": "code",
   "execution_count": 18,
   "id": "6bf18465",
   "metadata": {},
   "outputs": [
    {
     "data": {
      "text/plain": [
       "True"
      ]
     },
     "execution_count": 18,
     "metadata": {},
     "output_type": "execute_result"
    }
   ],
   "source": [
    "age_0=24\n",
    "age_1=32\n",
    "age_0>=21 or age_1<30"
   ]
  },
  {
   "cell_type": "code",
   "execution_count": 20,
   "id": "04d98eb9",
   "metadata": {},
   "outputs": [
    {
     "name": "stdout",
     "output_type": "stream",
     "text": [
      "Marie,you can post a reponse if you want.\n"
     ]
    }
   ],
   "source": [
    "banned_users=['andre','caroline','david']\n",
    "user='marie'\n",
    "if user not in banned_users:\n",
    "    print(f\"{user.title()},you can post a reponse if you want.\")"
   ]
  },
  {
   "cell_type": "markdown",
   "id": "af01bdd1",
   "metadata": {},
   "source": [
    "5.3 if条件语句"
   ]
  },
  {
   "cell_type": "code",
   "execution_count": 21,
   "id": "3cae438e",
   "metadata": {},
   "outputs": [
    {
     "name": "stdout",
     "output_type": "stream",
     "text": [
      "You are old enough to vote!\n"
     ]
    }
   ],
   "source": [
    "age=19\n",
    "if age>=18:\n",
    "    print(\"You are old enough to vote!\")"
   ]
  },
  {
   "cell_type": "code",
   "execution_count": 22,
   "id": "56ce9950",
   "metadata": {},
   "outputs": [
    {
     "name": "stdout",
     "output_type": "stream",
     "text": [
      "You are old enough to vote!\n",
      "Have you registered to vote yet?\n"
     ]
    }
   ],
   "source": [
    "age=19\n",
    "if age>=18:\n",
    "    print(\"You are old enough to vote!\")\n",
    "    print(\"Have you registered to vote yet?\")"
   ]
  },
  {
   "cell_type": "code",
   "execution_count": 23,
   "id": "e4a072b3",
   "metadata": {},
   "outputs": [
    {
     "name": "stdout",
     "output_type": "stream",
     "text": [
      "Sorry,you are too young to vote.\n",
      "Please register to vote as soon as you turn 18!\n"
     ]
    }
   ],
   "source": [
    "age=17\n",
    "if age>=18:\n",
    "    print(\"You are old enough to vote!\")\n",
    "    print(\"Have you registered to vote yet?\")\n",
    "else:\n",
    "    print(\"Sorry,you are too young to vote.\")\n",
    "    print(\"Please register to vote as soon as you turn 18!\")"
   ]
  },
  {
   "cell_type": "code",
   "execution_count": 1,
   "id": "b141ad30",
   "metadata": {},
   "outputs": [
    {
     "name": "stdout",
     "output_type": "stream",
     "text": [
      "You admission cost is 25\n"
     ]
    }
   ],
   "source": [
    "age=12\n",
    "if age <4:\n",
    "    print(\"You admission cost is 0\")\n",
    "elif age <18:\n",
    "    print(\"You admission cost is 25\")\n",
    "else:\n",
    "    print(\"You admission cost is 40\")"
   ]
  },
  {
   "cell_type": "code",
   "execution_count": 3,
   "id": "53e0fe36",
   "metadata": {},
   "outputs": [
    {
     "name": "stdout",
     "output_type": "stream",
     "text": [
      "You admission cost is 25\n"
     ]
    }
   ],
   "source": [
    "age=12\n",
    "if age <4:\n",
    "    price=0\n",
    "elif age <18:\n",
    "    price=25\n",
    "else:\n",
    "    price=40\n",
    "print(f\"You admission cost is {price}\")"
   ]
  },
  {
   "cell_type": "code",
   "execution_count": 4,
   "id": "d9cdf238",
   "metadata": {},
   "outputs": [
    {
     "name": "stdout",
     "output_type": "stream",
     "text": [
      "You admission cost is 25\n"
     ]
    }
   ],
   "source": [
    "age=12\n",
    "if age <4:\n",
    "    price=0\n",
    "elif age <18:\n",
    "    price=25\n",
    "elif age <65:\n",
    "    price=40\n",
    "else:\n",
    "    price=20\n",
    "print(f\"You admission cost is {price}\")"
   ]
  },
  {
   "cell_type": "markdown",
   "id": "7eed5461",
   "metadata": {},
   "source": [
    "5.3.5 省略else代码块"
   ]
  },
  {
   "cell_type": "code",
   "execution_count": 5,
   "id": "50006774",
   "metadata": {},
   "outputs": [
    {
     "name": "stdout",
     "output_type": "stream",
     "text": [
      "You admission cost is 25\n"
     ]
    }
   ],
   "source": [
    "age=12\n",
    "if age <4:\n",
    "    price=0\n",
    "elif age <18:\n",
    "    price=25\n",
    "elif age< 65:\n",
    "    price=40\n",
    "elif age>=65:\n",
    "    price=20\n",
    "    \n",
    "print(f\"You admission cost is {price}\")"
   ]
  },
  {
   "cell_type": "markdown",
   "id": "d6ef7ca7",
   "metadata": {},
   "source": [
    "5.3.6 测试多个条件"
   ]
  },
  {
   "cell_type": "code",
   "execution_count": 9,
   "id": "11a37a71",
   "metadata": {},
   "outputs": [
    {
     "name": "stdout",
     "output_type": "stream",
     "text": [
      "Adding mushrooms.\n",
      "Adding extra cheese\n",
      "\n",
      "Fnished making your pizza!\n"
     ]
    }
   ],
   "source": [
    "requested_toppings=['mushrooms','extra cheese']\n",
    "if 'mushrooms' in requested_toppings:\n",
    "    print(\"Adding mushrooms.\")\n",
    "if 'pepperoni'in requested_toppings:\n",
    "    print(\"Adding pepperoni\")\n",
    "if 'extra cheese' in requested_toppings:\n",
    "    print(\"Adding extra cheese\")\n",
    "print(\"\\nFnished making your pizza!\")"
   ]
  },
  {
   "cell_type": "code",
   "execution_count": 8,
   "id": "c66b6e01",
   "metadata": {},
   "outputs": [
    {
     "name": "stdout",
     "output_type": "stream",
     "text": [
      "Adding mushrooms.\n",
      "\n",
      "Fnished making your pizza!\n"
     ]
    }
   ],
   "source": [
    "requested_toppings=['mushrooms','extra cheese']\n",
    "if 'mushrooms' in requested_toppings:\n",
    "    print(\"Adding mushrooms.\")\n",
    "elif 'pepperoni'in requested_toppings:\n",
    "    print(\"Adding pepperoni\")\n",
    "elif 'extra cheese' in requested_toppings:\n",
    "    print(\"Adding extra cheese\")\n",
    "print(\"\\nFnished making your pizza!\")"
   ]
  },
  {
   "cell_type": "markdown",
   "id": "c77db48d",
   "metadata": {},
   "source": [
    "练习5.3"
   ]
  },
  {
   "cell_type": "code",
   "execution_count": 27,
   "id": "9e34bedd",
   "metadata": {},
   "outputs": [
    {
     "name": "stdout",
     "output_type": "stream",
     "text": [
      "The player gets 5 points!\n"
     ]
    }
   ],
   "source": [
    "alien_color=['green','yellow','red']\n",
    "alien='green'\n",
    "if alien in alien_color:\n",
    "    print(\"The player gets 5 points!\")"
   ]
  },
  {
   "cell_type": "code",
   "execution_count": 26,
   "id": "69d010dd",
   "metadata": {},
   "outputs": [],
   "source": [
    "alien_color=['green','yellow','red']\n",
    "alien= 'pink'\n",
    "if alien in alien_color:\n",
    "    print(\"The player gets 5 points!\")"
   ]
  },
  {
   "cell_type": "markdown",
   "id": "a34e3e27",
   "metadata": {},
   "source": [
    "练习5.4"
   ]
  },
  {
   "cell_type": "code",
   "execution_count": 28,
   "id": "36cfc649",
   "metadata": {},
   "outputs": [
    {
     "name": "stdout",
     "output_type": "stream",
     "text": [
      "The player gets 5 points!\n"
     ]
    }
   ],
   "source": [
    "alien_color=['green','yellow','red']\n",
    "alien='green'\n",
    "if alien in alien_color:\n",
    "    point=5\n",
    "else: \n",
    "    point=10\n",
    "print(f\"The player gets {point} points!\")"
   ]
  },
  {
   "cell_type": "code",
   "execution_count": 29,
   "id": "8a8bb6fc",
   "metadata": {},
   "outputs": [
    {
     "name": "stdout",
     "output_type": "stream",
     "text": [
      "The player gets 10 points!\n"
     ]
    }
   ],
   "source": [
    "alien_color=['green','yellow','red']\n",
    "alien='pink'\n",
    "if alien in alien_color:\n",
    "    point=5\n",
    "else: \n",
    "    point=10\n",
    "print(f\"The player gets {point} points!\")"
   ]
  },
  {
   "cell_type": "markdown",
   "id": "de816db7",
   "metadata": {},
   "source": [
    "练习5.5"
   ]
  },
  {
   "cell_type": "code",
   "execution_count": 33,
   "id": "8ae4d57a",
   "metadata": {},
   "outputs": [
    {
     "name": "stdout",
     "output_type": "stream",
     "text": [
      "The player gets 5 points!\n"
     ]
    }
   ],
   "source": [
    "alien_color='green'\n",
    "\n",
    "if alien_color=='green':\n",
    "    point=5\n",
    "elif alien_color=='yellow':\n",
    "    point=10\n",
    "elif alien_color=='red':\n",
    "    point=15\n",
    "print(f\"The player gets {point} points!\")"
   ]
  },
  {
   "cell_type": "code",
   "execution_count": 34,
   "id": "1003f90a",
   "metadata": {},
   "outputs": [
    {
     "name": "stdout",
     "output_type": "stream",
     "text": [
      "The player gets 10 points!\n"
     ]
    }
   ],
   "source": [
    "alien_color='yellow'\n",
    "\n",
    "if alien_color=='green':\n",
    "    point=5\n",
    "elif alien_color=='yellow':\n",
    "    point=10\n",
    "elif alien_color=='red':\n",
    "    point=15\n",
    "print(f\"The player gets {point} points!\")"
   ]
  },
  {
   "cell_type": "code",
   "execution_count": 35,
   "id": "8cb6236b",
   "metadata": {},
   "outputs": [
    {
     "name": "stdout",
     "output_type": "stream",
     "text": [
      "The player gets 15 points!\n"
     ]
    }
   ],
   "source": [
    "alien_color='red'\n",
    "\n",
    "if alien_color=='green':\n",
    "    point=5\n",
    "elif alien_color=='yellow':\n",
    "    point=10\n",
    "elif alien_color=='red':\n",
    "    point=15\n",
    "print(f\"The player gets {point} points!\")"
   ]
  },
  {
   "cell_type": "markdown",
   "id": "e30b7ecf",
   "metadata": {},
   "source": [
    "练习5.6"
   ]
  },
  {
   "cell_type": "code",
   "execution_count": 38,
   "id": "605ba251",
   "metadata": {},
   "outputs": [
    {
     "name": "stdout",
     "output_type": "stream",
     "text": [
      "You are a man!\n"
     ]
    }
   ],
   "source": [
    "age=20\n",
    "if age<2:\n",
    "    age_0='baby'\n",
    "elif age>=2and age<4:\n",
    "    age_0='infant'\n",
    "elif age>=4 and age<13:\n",
    "    age_0='child'\n",
    "elif age>=13 and age<18:\n",
    "    age_0='young person'\n",
    "elif age>=18 and age<65:\n",
    "    age_0='man'\n",
    "else:\n",
    "    age_0='old man'\n",
    "print(f\"You are a {age_0}!\")"
   ]
  },
  {
   "cell_type": "markdown",
   "id": "76014a2d",
   "metadata": {},
   "source": [
    "练习5.7"
   ]
  },
  {
   "cell_type": "code",
   "execution_count": 40,
   "id": "40647098",
   "metadata": {},
   "outputs": [
    {
     "name": "stdout",
     "output_type": "stream",
     "text": [
      "you really like apple!\n",
      "you really like bananas!\n",
      "you really like watermelon!\n"
     ]
    }
   ],
   "source": [
    "favorite_fruits=['apple','banana','watermelon']\n",
    "if 'apple'in favorite_fruits:\n",
    "    print('you really like apple!')\n",
    "if'banana' in favorite_fruits:\n",
    "    print('you really like bananas!')\n",
    "if \"watermelon\"in favorite_fruits:\n",
    "    print('you really like watermelon!')\n",
    "if \"orange\"in favorite_fruits:\n",
    "    print('you really like orange!')\n",
    "if 'pear'in favorite_fruits:\n",
    "    print('you really like pear!')"
   ]
  },
  {
   "cell_type": "markdown",
   "id": "a638c0af",
   "metadata": {},
   "source": [
    "#5.4 使用if语句处理列表"
   ]
  },
  {
   "cell_type": "code",
   "execution_count": 41,
   "id": "8756babc",
   "metadata": {},
   "outputs": [
    {
     "name": "stdout",
     "output_type": "stream",
     "text": [
      "Adding mushrooms.\n",
      "Adding green peppers.\n",
      "Adding extra cheese.\n",
      "\n",
      "Finished making your pizza!\n"
     ]
    }
   ],
   "source": [
    "requested_toppings=['mushrooms','green peppers','extra cheese']\n",
    "for requested_topping in requested_toppings:\n",
    "    print(f\"Adding {requested_topping}.\")\n",
    "print('\\nFinished making your pizza!')"
   ]
  },
  {
   "cell_type": "code",
   "execution_count": 43,
   "id": "76fc65e0",
   "metadata": {},
   "outputs": [
    {
     "name": "stdout",
     "output_type": "stream",
     "text": [
      "Adding mushrooms.\n",
      "Sorry,we are out of green peppers right now.\n",
      "Adding extra cheese.\n",
      "\n",
      "Finished making your pizza!\n"
     ]
    }
   ],
   "source": [
    "requested_toppings=['mushrooms','green peppers','extra cheese']\n",
    "for requested_topping in requested_toppings:\n",
    "    if requested_topping=='green peppers':\n",
    "        print(\"Sorry,we are out of green peppers right now.\")\n",
    "    else:\n",
    "        print(f\"Adding {requested_topping}.\")\n",
    "print('\\nFinished making your pizza!')"
   ]
  },
  {
   "cell_type": "code",
   "execution_count": 51,
   "id": "031e85a9",
   "metadata": {},
   "outputs": [
    {
     "name": "stdout",
     "output_type": "stream",
     "text": [
      "Are you sure you want a plain pizza?\n"
     ]
    }
   ],
   "source": [
    "requested_toppings=[]\n",
    "\n",
    "if requested_toppings:\n",
    "    for requested_topping in requested_toppings:\n",
    "         print(f\"Adding {requested_topping}.\")\n",
    "    print('\\nFinished making your pizza!')\n",
    "else:\n",
    "    print(\"Are you sure you want a plain pizza?\")\n",
    "   \n"
   ]
  },
  {
   "cell_type": "code",
   "execution_count": 57,
   "id": "050c6752",
   "metadata": {},
   "outputs": [
    {
     "name": "stdout",
     "output_type": "stream",
     "text": [
      "Adding mushrooms.\n",
      "Sorry,we dom't have french fries.\n",
      "Adding extra cheese.\n",
      "\n",
      "Finished making your pizza!\n"
     ]
    }
   ],
   "source": [
    "available_toppings=['mushrooms','olives','green peppers','pepperoni','pineapple','extra cheese']\n",
    "requested_toppings=['mushrooms','french fries','extra cheese']\n",
    "for requested_topping in requested_toppings:\n",
    "    if requested_topping in available_toppings:\n",
    "        print(f\"Adding {requested_topping}.\")\n",
    "    else:\n",
    "        print(f\"Sorry,we dom't have {requested_topping}.\")\n",
    "        \n",
    "print(\"\\nFinished making your pizza!\")"
   ]
  },
  {
   "cell_type": "code",
   "execution_count": 61,
   "id": "8840b26e",
   "metadata": {},
   "outputs": [
    {
     "name": "stdout",
     "output_type": "stream",
     "text": [
      "Hello Jaden, thank you for logging in again.\n",
      "Hello Jaden, thank you for logging in again.\n",
      "Hello Jaden, thank you for logging in again.\n",
      "Hello admin,would you like to see a status report?\n",
      "Hello Jaden, thank you for logging in again.\n"
     ]
    }
   ],
   "source": [
    "name=['a','b','c','admin','d']\n",
    "for requested_name in name:\n",
    "    if requested_name == 'admin':\n",
    "        print('Hello admin,would you like to see a status report?')\n",
    "    else:\n",
    "        print('Hello Jaden, thank you for logging in again.' )\n",
    "        \n",
    "        \n",
    "    "
   ]
  },
  {
   "cell_type": "code",
   "execution_count": 66,
   "id": "c359ae58",
   "metadata": {},
   "outputs": [
    {
     "name": "stdout",
     "output_type": "stream",
     "text": [
      "we need to find some users!\n"
     ]
    }
   ],
   "source": [
    "name=[]\n",
    "if name:\n",
    "    for requested_name in name:\n",
    "        if requested_name == 'admin':\n",
    "            print('Hello admin,would you like to see a status report?')\n",
    "        else:\n",
    "            print('Hello Jaden, thank you for logging in again.' )\n",
    "else:\n",
    "    print(\"we need to find some users!\")\n",
    "        "
   ]
  },
  {
   "cell_type": "code",
   "execution_count": 71,
   "id": "730174a9",
   "metadata": {},
   "outputs": [
    {
     "name": "stdout",
     "output_type": "stream",
     "text": [
      "a has been used!\n",
      "please input new neam!\n",
      "a is not been used\n",
      "a is not been used\n",
      "a is not been used\n",
      "a is not been used\n",
      "b is not been used\n",
      "b has been used!\n",
      "please input new neam!\n",
      "b is not been used\n",
      "b is not been used\n",
      "b is not been used\n",
      "x is not been used\n",
      "x is not been used\n",
      "x is not been used\n",
      "x is not been used\n",
      "x is not been used\n",
      "y is not been used\n",
      "y is not been used\n",
      "y is not been used\n",
      "y is not been used\n",
      "y is not been used\n",
      "z is not been used\n",
      "z is not been used\n",
      "z is not been used\n",
      "z is not been used\n",
      "z is not been used\n"
     ]
    }
   ],
   "source": [
    "current_users=['a','b','c','d','e']\n",
    "new_users=['a','b','x','y','z']\n",
    "for users in new_users:\n",
    "    for c_user in current_users:\n",
    "        if users==c_user:\n",
    "            print(f\"{users} has been used!\")\n",
    "            print('please input new neam!')\n",
    "           \n",
    "        else:\n",
    "            users=='a'\n",
    "            print(f\"{users} is not been used\")\n",
    "    "
   ]
  },
  {
   "cell_type": "code",
   "execution_count": null,
   "id": "a23a411b",
   "metadata": {},
   "outputs": [],
   "source": []
  }
 ],
 "metadata": {
  "kernelspec": {
   "display_name": "Python 3 (ipykernel)",
   "language": "python",
   "name": "python3"
  },
  "language_info": {
   "codemirror_mode": {
    "name": "ipython",
    "version": 3
   },
   "file_extension": ".py",
   "mimetype": "text/x-python",
   "name": "python",
   "nbconvert_exporter": "python",
   "pygments_lexer": "ipython3",
   "version": "3.9.13"
  }
 },
 "nbformat": 4,
 "nbformat_minor": 5
}
