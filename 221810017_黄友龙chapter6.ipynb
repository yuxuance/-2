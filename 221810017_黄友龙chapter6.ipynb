{
 "cells": [
  {
   "cell_type": "code",
   "execution_count": null,
   "id": "37a3fcfb",
   "metadata": {},
   "outputs": [],
   "source": []
  },
  {
   "cell_type": "markdown",
   "id": "89d1e539",
   "metadata": {},
   "source": [
    "6.1 一个简单的字典"
   ]
  },
  {
   "cell_type": "code",
   "execution_count": 1,
   "id": "3cb3964d",
   "metadata": {},
   "outputs": [
    {
     "name": "stdout",
     "output_type": "stream",
     "text": [
      "green\n",
      "5\n"
     ]
    }
   ],
   "source": [
    "alien_0={'color':'green','points':5}\n",
    "print(alien_0['color'])\n",
    "print(alien_0['points'])"
   ]
  },
  {
   "cell_type": "markdown",
   "id": "4c9b3c4e",
   "metadata": {},
   "source": [
    "6.2 使用字典"
   ]
  },
  {
   "cell_type": "markdown",
   "id": "a8cc73e3",
   "metadata": {},
   "source": [
    "#6.2.1 访问字典中的值"
   ]
  },
  {
   "cell_type": "code",
   "execution_count": 3,
   "id": "915f371e",
   "metadata": {},
   "outputs": [
    {
     "name": "stdout",
     "output_type": "stream",
     "text": [
      "green\n"
     ]
    }
   ],
   "source": [
    "alien_0={'color':'green'}\n",
    "print(alien_0['color'])"
   ]
  },
  {
   "cell_type": "code",
   "execution_count": 5,
   "id": "20d2cb4c",
   "metadata": {},
   "outputs": [
    {
     "name": "stdout",
     "output_type": "stream",
     "text": [
      "you just earned 5 points!\n"
     ]
    }
   ],
   "source": [
    "alien_0={'color':'green','points':5}\n",
    "new_points=alien_0['points']\n",
    "print(f\"you just earned {new_points} points!\")"
   ]
  },
  {
   "cell_type": "markdown",
   "id": "720e82e1",
   "metadata": {},
   "source": [
    "#6.2.2添加键值对"
   ]
  },
  {
   "cell_type": "code",
   "execution_count": 6,
   "id": "f76cdb9c",
   "metadata": {},
   "outputs": [
    {
     "name": "stdout",
     "output_type": "stream",
     "text": [
      "{'color': 'green', 'points': 5}\n",
      "{'color': 'green', 'points': 5, 'x_position': 0, 'y_position': 25}\n"
     ]
    }
   ],
   "source": [
    "alien_0={'color':'green','points':5}\n",
    "print(alien_0)\n",
    "\n",
    "alien_0[\"x_position\"]=0\n",
    "alien_0[\"y_position\"]=25\n",
    "print(alien_0)"
   ]
  },
  {
   "cell_type": "markdown",
   "id": "df8b042b",
   "metadata": {},
   "source": [
    "#6.2.3创建一个空字典开始"
   ]
  },
  {
   "cell_type": "code",
   "execution_count": 7,
   "id": "d2ed7624",
   "metadata": {},
   "outputs": [
    {
     "name": "stdout",
     "output_type": "stream",
     "text": [
      "{'color': 'green', 'points': 5}\n"
     ]
    }
   ],
   "source": [
    "alien_0={}\n",
    "\n",
    "alien_0['color']='green'\n",
    "alien_0['points']=5\n",
    "\n",
    "print(alien_0)"
   ]
  },
  {
   "cell_type": "markdown",
   "id": "ea48b9f2",
   "metadata": {},
   "source": [
    "#6.2.4修改字典中的值"
   ]
  },
  {
   "cell_type": "code",
   "execution_count": 10,
   "id": "6e424118",
   "metadata": {},
   "outputs": [
    {
     "name": "stdout",
     "output_type": "stream",
     "text": [
      "The alien is green.\n",
      "The alien is now yellow.\n"
     ]
    }
   ],
   "source": [
    "alien_0={'color':'green'}\n",
    "print(f\"The alien is {alien_0['color']}.\")\n",
    "\n",
    "alien_0['color']='yellow'\n",
    "print(f\"The alien is now {alien_0['color']}.\")"
   ]
  },
  {
   "cell_type": "code",
   "execution_count": 4,
   "id": "8a9b1c36",
   "metadata": {},
   "outputs": [
    {
     "name": "stdout",
     "output_type": "stream",
     "text": [
      "Original position:0\n",
      "New position:2\n"
     ]
    }
   ],
   "source": [
    "alien_0={'x_position':0,'y_position':25,'speed':'medium'}\n",
    "print(f\"Original position:{alien_0['x_position']}\")\n",
    "\n",
    "# 向右移动外星人\n",
    "#根据当前速度确定将外星人向右移动多远\n",
    "if alien_0['speed']=='slow':\n",
    "    x_increment=1\n",
    "elif alien_0['speed']=='medium':\n",
    "    x_increment=2\n",
    "else:\n",
    "    #这个外星人移动速度为快\n",
    "    x_increment=3\n",
    "#新位置为旧位置加上移动距离\n",
    "alien_0['x_position']= alien_0['x_position']+x_increment\n",
    "\n",
    "print(f\"New position:{alien_0['x_position']}\")"
   ]
  },
  {
   "cell_type": "code",
   "execution_count": 5,
   "id": "79ee19e3",
   "metadata": {},
   "outputs": [
    {
     "name": "stdout",
     "output_type": "stream",
     "text": [
      "Original position:0\n",
      "New position:3\n"
     ]
    }
   ],
   "source": [
    "alien_0={'x_position':0,'y_position':25,'speed':'medium'}\n",
    "print(f\"Original position:{alien_0['x_position']}\")\n",
    "alien_0['speed']='fast'\n",
    "\n",
    "# 向右移动外星人\n",
    "#根据当前速度确定将外星人向右移动多远\n",
    "if alien_0['speed']=='slow':\n",
    "    x_increment=1\n",
    "elif alien_0['speed']=='medium':\n",
    "    x_increment=2\n",
    "else:\n",
    "    #这个外星人移动速度为快\n",
    "    x_increment=3\n",
    "#新位置为旧位置加上移动距离\n",
    "alien_0['x_position']= alien_0['x_position']+x_increment\n",
    "\n",
    "print(f\"New position:{alien_0['x_position']}\")"
   ]
  },
  {
   "cell_type": "markdown",
   "id": "d232e8b8",
   "metadata": {},
   "source": [
    "#6.2.5删除键值对"
   ]
  },
  {
   "cell_type": "code",
   "execution_count": 7,
   "id": "f80774cc",
   "metadata": {},
   "outputs": [
    {
     "name": "stdout",
     "output_type": "stream",
     "text": [
      "{'color': 'green', 'points': 5}\n",
      "{'color': 'green'}\n"
     ]
    }
   ],
   "source": [
    "alien_0={'color':'green','points':5}\n",
    "print(alien_0)\n",
    "\n",
    "del alien_0['points']\n",
    "print(alien_0)"
   ]
  },
  {
   "cell_type": "markdown",
   "id": "4e20cb14",
   "metadata": {},
   "source": [
    "#6.2.6由类似的对象组成的字典"
   ]
  },
  {
   "cell_type": "code",
   "execution_count": 10,
   "id": "00adb26f",
   "metadata": {},
   "outputs": [
    {
     "name": "stdout",
     "output_type": "stream",
     "text": [
      "Sarah's favorite language is C.\n"
     ]
    }
   ],
   "source": [
    "favorite_languages={'jen':'python','sarch':'C','edward':'rust','phil':'python',}\n",
    "language=favorite_languages['sarch'].title()\n",
    "print(f\"Sarah's favorite language is {language}.\")"
   ]
  },
  {
   "cell_type": "markdown",
   "id": "26451697",
   "metadata": {},
   "source": [
    "#6.2.7使用get（）来访问值"
   ]
  },
  {
   "cell_type": "code",
   "execution_count": 11,
   "id": "c29dfc59",
   "metadata": {},
   "outputs": [
    {
     "ename": "KeyError",
     "evalue": "'points'",
     "output_type": "error",
     "traceback": [
      "\u001b[1;31m---------------------------------------------------------------------------\u001b[0m",
      "\u001b[1;31mKeyError\u001b[0m                                  Traceback (most recent call last)",
      "\u001b[1;32m~\\AppData\\Local\\Temp\\ipykernel_23436\\1439055648.py\u001b[0m in \u001b[0;36m<module>\u001b[1;34m\u001b[0m\n\u001b[0;32m      1\u001b[0m \u001b[0malien_0\u001b[0m\u001b[1;33m=\u001b[0m\u001b[1;33m{\u001b[0m\u001b[1;34m'color'\u001b[0m\u001b[1;33m:\u001b[0m\u001b[1;34m'green'\u001b[0m\u001b[1;33m,\u001b[0m\u001b[1;34m'speed'\u001b[0m\u001b[1;33m:\u001b[0m\u001b[1;34m'slow'\u001b[0m\u001b[1;33m}\u001b[0m\u001b[1;33m\u001b[0m\u001b[1;33m\u001b[0m\u001b[0m\n\u001b[1;32m----> 2\u001b[1;33m \u001b[0mprint\u001b[0m\u001b[1;33m(\u001b[0m\u001b[0malien_0\u001b[0m\u001b[1;33m[\u001b[0m\u001b[1;34m'points'\u001b[0m\u001b[1;33m]\u001b[0m\u001b[1;33m)\u001b[0m\u001b[1;33m\u001b[0m\u001b[1;33m\u001b[0m\u001b[0m\n\u001b[0m",
      "\u001b[1;31mKeyError\u001b[0m: 'points'"
     ]
    }
   ],
   "source": [
    "alien_0={'color':'green','speed':'slow'}\n",
    "print(alien_0['points'])"
   ]
  },
  {
   "cell_type": "code",
   "execution_count": 12,
   "id": "2f420d5c",
   "metadata": {},
   "outputs": [
    {
     "name": "stdout",
     "output_type": "stream",
     "text": [
      "No point value assigned.\n"
     ]
    }
   ],
   "source": [
    "alien_0={'color':'green','speed':'slow'}\n",
    "point_value=alien_0.get('points','No point value assigned.')\n",
    "print(point_value)"
   ]
  },
  {
   "cell_type": "code",
   "execution_count": 17,
   "id": "33ad75e9",
   "metadata": {},
   "outputs": [
    {
     "name": "stdout",
     "output_type": "stream",
     "text": [
      "green\n"
     ]
    }
   ],
   "source": [
    "alien_0={'color':'green','speed':'slow'}\n",
    "point_value=alien_0.get('color',)\n",
    "print(point_value)"
   ]
  },
  {
   "cell_type": "code",
   "execution_count": 14,
   "id": "eaf3f791",
   "metadata": {},
   "outputs": [],
   "source": [
    "#练习6.1"
   ]
  },
  {
   "cell_type": "code",
   "execution_count": 15,
   "id": "3e634513",
   "metadata": {},
   "outputs": [
    {
     "name": "stdout",
     "output_type": "stream",
     "text": [
      "{'first_name': 'karl', 'last_name': 'marx', 'age': 300, 'city': 'London'}\n"
     ]
    }
   ],
   "source": [
    "people={'first_name':'karl','last_name':'marx','age':300,'city':'London'}\n",
    "print(people)"
   ]
  },
  {
   "cell_type": "code",
   "execution_count": 2,
   "id": "3f1eb86f",
   "metadata": {},
   "outputs": [
    {
     "name": "stdout",
     "output_type": "stream",
     "text": [
      "{'john': 3, 'Little Red Riding Hood': 8, 'alice': 16, 'pain': 6, 'black': 1}\n"
     ]
    }
   ],
   "source": [
    "number={'john':3,'Little Red Riding Hood':8,'alice':16,'pain':6,'black':1}\n",
    "print(number)"
   ]
  },
  {
   "cell_type": "code",
   "execution_count": 5,
   "id": "e63d0c75",
   "metadata": {},
   "outputs": [
    {
     "name": "stdout",
     "output_type": "stream",
     "text": [
      "accumulator:累加器\n",
      "algorithm:算法\n",
      "array:数组\n",
      "branch:分支\n"
     ]
    }
   ],
   "source": [
    "vocabulary={'accumulator':'累加器','algorithm':'算法','array':'数组','branch':'分支'}\n",
    "print('accumulator'+':'+vocabulary['accumulator'])\n",
    "print('algorithm'+':'+vocabulary['algorithm'])\n",
    "print('array'+':'+vocabulary['array'])\n",
    "print('branch'+':'+vocabulary['branch'])\n",
    "                             "
   ]
  },
  {
   "cell_type": "code",
   "execution_count": 8,
   "id": "12e18d2d",
   "metadata": {},
   "outputs": [
    {
     "name": "stdout",
     "output_type": "stream",
     "text": [
      "\n",
      "yes:username\n",
      "\n",
      "no:efermi\n",
      "\n",
      "yes:first\n",
      "\n",
      "no:enrico\n",
      "\n",
      "yes:last\n",
      "\n",
      "no:fermi\n"
     ]
    }
   ],
   "source": [
    "user_0={'username':'efermi','first':'enrico','last':'fermi',}\n",
    "for yes,no in user_0.items():\n",
    "    print(f\"\\nyes:{yes}\")\n",
    "    print(f\"\\nno:{no}\")"
   ]
  },
  {
   "cell_type": "code",
   "execution_count": 11,
   "id": "d0fda94b",
   "metadata": {},
   "outputs": [
    {
     "name": "stdout",
     "output_type": "stream",
     "text": [
      "Jen's favorite language is Python.\n",
      "Sarch's favorite language is C.\n",
      "Edward's favorite language is Rust.\n",
      "Phil's favorite language is Python.\n"
     ]
    }
   ],
   "source": [
    "favorite_languages={'jen':'python','sarch':'C','edward':'rust','phil':'python',}\n",
    "for name,language in favorite_languages.items():\n",
    "    print(f\"{name.title()}'s favorite language is {language.title()}.\")"
   ]
  },
  {
   "cell_type": "code",
   "execution_count": 13,
   "id": "316986b3",
   "metadata": {},
   "outputs": [
    {
     "name": "stdout",
     "output_type": "stream",
     "text": [
      "Jen\n",
      "Sarch\n",
      "Edward\n",
      "Phil\n"
     ]
    }
   ],
   "source": [
    "favorite_languages={'jen':'python','sarch':'C','edward':'rust','phil':'python',}\n",
    "for name in favorite_languages.keys():\n",
    "    print(name.title())"
   ]
  },
  {
   "cell_type": "code",
   "execution_count": 14,
   "id": "934c4069",
   "metadata": {},
   "outputs": [
    {
     "name": "stdout",
     "output_type": "stream",
     "text": [
      "Jen\n",
      "Sarch\n",
      "Edward\n",
      "Phil\n"
     ]
    }
   ],
   "source": [
    "favorite_languages={'jen':'python','sarch':'C','edward':'rust','phil':'python',}\n",
    "for name in favorite_languages:\n",
    "    print(name.title())"
   ]
  },
  {
   "cell_type": "code",
   "execution_count": 17,
   "id": "cbd05ac6",
   "metadata": {},
   "outputs": [
    {
     "name": "stdout",
     "output_type": "stream",
     "text": [
      "Hi,Jen\n",
      "Hi,Sarch\n",
      "\tSarch,I see you love C!\n",
      "Hi,Edward\n",
      "Hi,Phil\n",
      "\tPhil,I see you love Python!\n"
     ]
    }
   ],
   "source": [
    "favorite_languages={'jen':'python','sarch':'C','edward':'rust','phil':'python',}\n",
    "friends=['phil','sarch']\n",
    "for name in favorite_languages.keys():\n",
    "    print(f\"Hi,{name.title()}\")\n",
    "    if name in friends:\n",
    "          language=favorite_languages[name].title()\n",
    "          print(f\"\\t{name.title()},I see you love {language}!\")"
   ]
  },
  {
   "cell_type": "code",
   "execution_count": 18,
   "id": "2ccfbd15",
   "metadata": {},
   "outputs": [
    {
     "name": "stdout",
     "output_type": "stream",
     "text": [
      "Hi,Jen\n",
      "Hi,Sarch\n",
      "\tSarch,I see you love C!\n",
      "Hi,Edward\n",
      "Hi,Phil\n",
      "\tPhil,I see you love Python!\n",
      "Erin,please take our poll!\n"
     ]
    }
   ],
   "source": [
    "favorite_languages={'jen':'python','sarch':'C','edward':'rust','phil':'python',}\n",
    "friends=['phil','sarch']\n",
    "for name in favorite_languages.keys():\n",
    "    print(f\"Hi,{name.title()}\")\n",
    "    if name in friends:\n",
    "          language=favorite_languages[name].title()\n",
    "          print(f\"\\t{name.title()},I see you love {language}!\")\n",
    "if'erin' not in favorite_languages.keys():\n",
    "    print('Erin,please take our poll!')"
   ]
  },
  {
   "cell_type": "code",
   "execution_count": 19,
   "id": "d4b938c2",
   "metadata": {},
   "outputs": [
    {
     "name": "stdout",
     "output_type": "stream",
     "text": [
      "Edward,thank you for taking the poll.\n",
      "Jen,thank you for taking the poll.\n",
      "Phil,thank you for taking the poll.\n",
      "Sarch,thank you for taking the poll.\n"
     ]
    }
   ],
   "source": [
    "favorite_languages={'jen':'python','sarch':'C','edward':'rust','phil':'python',}\n",
    "for name in sorted(favorite_languages.keys()):\n",
    "    print(f\"{name.title()},thank you for taking the poll.\")"
   ]
  },
  {
   "cell_type": "code",
   "execution_count": 20,
   "id": "13d0b2c5",
   "metadata": {},
   "outputs": [
    {
     "name": "stdout",
     "output_type": "stream",
     "text": [
      "The following languages have been mentioned:\n",
      "Python\n",
      "C\n",
      "Rust\n",
      "Python\n"
     ]
    }
   ],
   "source": [
    "favorite_languages={'jen':'python','sarch':'C','edward':'rust','phil':'python',}\n",
    "print(\"The following languages have been mentioned:\")\n",
    "for language in favorite_languages.values():\n",
    "    print(language.title())"
   ]
  },
  {
   "cell_type": "code",
   "execution_count": 21,
   "id": "acf44ffe",
   "metadata": {},
   "outputs": [
    {
     "name": "stdout",
     "output_type": "stream",
     "text": [
      "The following languages have been mentioned:\n",
      "Rust\n",
      "C\n",
      "Python\n"
     ]
    }
   ],
   "source": [
    "favorite_languages={'jen':'python','sarch':'C','edward':'rust','phil':'python',}\n",
    "print(\"The following languages have been mentioned:\")\n",
    "for language in set(favorite_languages.values()):\n",
    "    print(language.title())"
   ]
  },
  {
   "cell_type": "markdown",
   "id": "dd919be3",
   "metadata": {},
   "source": [
    "# 练习6.4"
   ]
  },
  {
   "cell_type": "code",
   "execution_count": 24,
   "id": "4962d589",
   "metadata": {},
   "outputs": [
    {
     "name": "stdout",
     "output_type": "stream",
     "text": [
      "accumulator:累加器\n",
      "algorithm:算法\n",
      "array:数组\n",
      "branch:分支\n"
     ]
    }
   ],
   "source": [
    "vocabulary={'accumulator':'累加器','algorithm':'算法','array':'数组','branch':'分支'}\n",
    "for key,value in vocabulary.items():\n",
    "    print(f\"{key}:{value}\")"
   ]
  },
  {
   "cell_type": "code",
   "execution_count": 25,
   "id": "deeafc4f",
   "metadata": {},
   "outputs": [
    {
     "name": "stdout",
     "output_type": "stream",
     "text": [
      "accumulator:累加器\n",
      "algorithm:算法\n",
      "array:数组\n",
      "branch:分支\n",
      "list:列表\n",
      "str:字符串\n",
      "tuple: 元组\n",
      "dict:字典\n",
      "int:整型\n"
     ]
    }
   ],
   "source": [
    "vocabulary={'accumulator':'累加器','algorithm':'算法','array':'数组','branch':'分支','list': '列表',\n",
    "'str':'字符串',\n",
    "'tuple':' 元组',\n",
    "'dict': '字典','int': '整型'}\n",
    "for key,value in vocabulary.items():\n",
    "    print(f\"{key}:{value}\")"
   ]
  },
  {
   "cell_type": "code",
   "execution_count": 28,
   "id": "891c0fa0",
   "metadata": {},
   "outputs": [
    {
     "name": "stdout",
     "output_type": "stream",
     "text": [
      "The Nile run though Egypt.\n",
      "The Changjiang run though China.\n",
      "The Huanghe run though China.\n"
     ]
    }
   ],
   "source": [
    "#河流\n",
    "river={'nile':'egypt','changjiang':'china',\"huanghe\":'china'}\n",
    "for key,value in river.items():\n",
    "    print(f\"The {key.title()} run though {value.title()}.\")"
   ]
  },
  {
   "cell_type": "code",
   "execution_count": 29,
   "id": "9e2db9be",
   "metadata": {},
   "outputs": [
    {
     "name": "stdout",
     "output_type": "stream",
     "text": [
      "The Nile\n",
      "The Changjiang\n",
      "The Huanghe\n"
     ]
    }
   ],
   "source": [
    "river={'nile':'egypt','changjiang':'china',\"huanghe\":'china'}\n",
    "for key in river:\n",
    "    print(f\"The {key.title()}\")"
   ]
  },
  {
   "cell_type": "code",
   "execution_count": 31,
   "id": "a932d9f9",
   "metadata": {},
   "outputs": [
    {
     "name": "stdout",
     "output_type": "stream",
     "text": [
      "The Egypt.\n",
      "The China.\n",
      "The China.\n"
     ]
    }
   ],
   "source": [
    "river={'nile':'egypt','changjiang':'china',\"huanghe\":'china'}\n",
    "for value in river.values():\n",
    "    print(f\"The {value.title()}.\")"
   ]
  },
  {
   "cell_type": "code",
   "execution_count": 14,
   "id": "2b00063e",
   "metadata": {},
   "outputs": [
    {
     "name": "stdout",
     "output_type": "stream",
     "text": [
      "Thank you for your time,Jen\n",
      "Thank you for your time,Sarch\n",
      "Thank you for your time,Edward\n",
      "Thank you for your time,Phil\n",
      "please take part in us,Alice\n",
      "please take part in us,Elk\n"
     ]
    }
   ],
   "source": [
    "#6.6调查\n",
    "favorite_languages={'jen':'python','sarch':'C','edward':'rust','phil':'python',}\n",
    "names=['alice','elk']\n",
    "for name in favorite_languages .keys():\n",
    "    print(f\"Thank you for your time,{name.title()}\")\n",
    "    \n",
    "for name in names:\n",
    "    if name not in favorite_languages:\n",
    "        print(f\"please take part in us,{name.title()}\")"
   ]
  },
  {
   "cell_type": "code",
   "execution_count": 16,
   "id": "d6e4bb66",
   "metadata": {},
   "outputs": [
    {
     "name": "stdout",
     "output_type": "stream",
     "text": [
      "Jen\n",
      "Sarch\n",
      "Edward\n",
      "Phil\n"
     ]
    }
   ],
   "source": [
    "favorite_languages={'jen':'python','sarch':'C','edward':'rust','phil':'python',}\n",
    "for name in favorite_languages.keys():\n",
    "    print(name.title())"
   ]
  },
  {
   "cell_type": "code",
   "execution_count": 17,
   "id": "5d05eaf3",
   "metadata": {},
   "outputs": [
    {
     "name": "stdout",
     "output_type": "stream",
     "text": [
      "{'color': 'green', 'points': 5}\n",
      "{'color': 'yellow', 'points': 10}\n",
      "{'color': 'red', 'point': 15}\n"
     ]
    }
   ],
   "source": [
    "alien_0={'color':'green','points':5}\n",
    "alien_1={'color':'yellow','points':10}\n",
    "alien_2={'color':'red','point':15}\n",
    "aliens=[alien_0,alien_1,alien_2]\n",
    "for alien in aliens:\n",
    "    print(alien)"
   ]
  },
  {
   "cell_type": "code",
   "execution_count": 18,
   "id": "10d1d8bd",
   "metadata": {},
   "outputs": [
    {
     "name": "stdout",
     "output_type": "stream",
     "text": [
      "{'color': 'green', 'points': 5, 'sspeed': 'slow'}\n",
      "{'color': 'green', 'points': 5, 'sspeed': 'slow'}\n",
      "{'color': 'green', 'points': 5, 'sspeed': 'slow'}\n",
      "{'color': 'green', 'points': 5, 'sspeed': 'slow'}\n",
      "{'color': 'green', 'points': 5, 'sspeed': 'slow'}\n",
      "...\n",
      "Total number of aliens:30\n"
     ]
    }
   ],
   "source": [
    "aliens=[]\n",
    "#创建30个绿色外星人\n",
    "for alien_number in range(30):\n",
    "    new_alien={'color':'green','points':5,'sspeed':'slow'}\n",
    "    aliens.append(new_alien)\n",
    "for alien in aliens[:5]:\n",
    "    print(alien)\n",
    "print(\"...\")\n",
    "\n",
    "print(f\"Total number of aliens:{len(aliens)}\")"
   ]
  },
  {
   "cell_type": "code",
   "execution_count": 2,
   "id": "9721ea27",
   "metadata": {},
   "outputs": [
    {
     "name": "stdout",
     "output_type": "stream",
     "text": [
      "{'color': 'yellow', 'points': 10, 'sspeed': 'slow', 'speed': 'medium'}\n",
      "{'color': 'yellow', 'points': 10, 'sspeed': 'slow', 'speed': 'medium'}\n",
      "{'color': 'yellow', 'points': 10, 'sspeed': 'slow', 'speed': 'medium'}\n",
      "{'color': 'green', 'points': 5, 'sspeed': 'slow'}\n",
      "{'color': 'green', 'points': 5, 'sspeed': 'slow'}\n",
      "...\n",
      "Total number of aliens:30\n"
     ]
    }
   ],
   "source": [
    "aliens=[]\n",
    "#创建30个绿色外星人\n",
    "for alien_number in range(30):\n",
    "    new_alien={'color':'green','points':5,'sspeed':'slow'}\n",
    "    aliens.append(new_alien)\n",
    "for alien in aliens[:3]:\n",
    "    if alien['color']=='green':\n",
    "        alien['color']='yellow'\n",
    "        alien['speed']='medium'\n",
    "        alien['points']=10\n",
    "for alien in aliens[:5]:\n",
    "    print(alien)\n",
    "print(\"...\")\n",
    "\n",
    "print(f\"Total number of aliens:{len(aliens)}\")"
   ]
  },
  {
   "cell_type": "code",
   "execution_count": 5,
   "id": "7e90d6c2",
   "metadata": {},
   "outputs": [
    {
     "name": "stdout",
     "output_type": "stream",
     "text": [
      "{'color': 'yellow', 'points': 10, 'sspeed': 'slow', 'speed': 'medium'}\n",
      "{'color': 'yellow', 'points': 10, 'sspeed': 'slow', 'speed': 'medium'}\n",
      "{'color': 'yellow', 'points': 10, 'sspeed': 'slow', 'speed': 'medium'}\n",
      "{'color': 'green', 'points': 5, 'sspeed': 'slow'}\n",
      "{'color': 'green', 'points': 5, 'sspeed': 'slow'}\n",
      "...\n",
      "Total number of aliens:30\n"
     ]
    }
   ],
   "source": [
    "aliens=[]\n",
    "#创建30个绿色外星人\n",
    "for alien_number in range(30):\n",
    "    new_alien={'color':'green','points':5,'sspeed':'slow'}\n",
    "    aliens.append(new_alien)\n",
    "for alien in aliens[:3]:\n",
    "    if alien['color']=='green':\n",
    "        alien['color']='yellow'\n",
    "        alien['speed']='medium'\n",
    "        alien['points']=10\n",
    "    elif alien['color']=='yellow':\n",
    "        alien['color']='red'\n",
    "        alien['speed']='fast'\n",
    "        alien['points']=15\n",
    "for alien in aliens[:5]:\n",
    "    print(alien)\n",
    "print(\"...\")\n",
    "\n",
    "print(f\"Total number of aliens:{len(aliens)}\")"
   ]
  },
  {
   "cell_type": "code",
   "execution_count": 6,
   "id": "750d8292",
   "metadata": {},
   "outputs": [
    {
     "name": "stdout",
     "output_type": "stream",
     "text": [
      "You ordered a thick-crust pizzawith the following toppings:\n",
      "\tmushrooms\n",
      "\textra cheese\n"
     ]
    }
   ],
   "source": [
    "#6.4.2 在字典中存储列表\n",
    "pizza={'crust':'thick','toppings':['mushrooms','extra cheese'],}\n",
    "#概述顾客点的披萨\n",
    "print(f\"You ordered a {pizza['crust']}-crust pizza\"\n",
    "      \"with the following toppings:\")\n",
    "for topping in pizza['toppings']:\n",
    "    print(f\"\\t{topping}\")"
   ]
  },
  {
   "cell_type": "code",
   "execution_count": 3,
   "id": "f4233cc3",
   "metadata": {},
   "outputs": [
    {
     "name": "stdout",
     "output_type": "stream",
     "text": [
      "\n",
      "Jen's favorite languages are:\n",
      "\tPython\n",
      "\tRusst\n",
      "\n",
      "Sarch's favorite languages are:\n",
      "\tC\n",
      "\n",
      "Edward's favorite languages are:\n",
      "\tRust\n",
      "\tGo\n",
      "\n",
      "Phil's favorite languages are:\n",
      "\tPython\n",
      "\tHaskell\n"
     ]
    }
   ],
   "source": [
    "favorite_languages={'jen':['python','russt'],'sarch':'C','edward':['rust','go'],'phil':['python','haskell']}\n",
    "for name,languages in favorite_languages.items():\n",
    "    print(f\"\\n{name.title()}'s favorite languages are:\")\n",
    "    for language in languages:\n",
    "        print(f\"\\t{language.title()}\")\n"
   ]
  },
  {
   "cell_type": "code",
   "execution_count": 6,
   "id": "75b6701f",
   "metadata": {},
   "outputs": [
    {
     "name": "stdout",
     "output_type": "stream",
     "text": [
      "\n",
      "Username:aeinstein\n",
      "\tFull name:Alberteinstein\n",
      "\tLocation:Princeton\n",
      "\n",
      "Username:mcurie\n",
      "\tFull name:Mariecurie\n",
      "\tLocation:Pariss\n"
     ]
    }
   ],
   "source": [
    "users={'aeinstein':{'first':'albert','last':'einstein','location':'princeton',},\n",
    "      'mcurie':{'first':'marie','last':'curie','location':'pariss',},}\n",
    "for username,user_info in users.items():\n",
    "    print(f\"\\nUsername:{username}\")\n",
    "    full_name=f\"{user_info['first']}{user_info['last']}\"\n",
    "    location=user_info['location']\n",
    "    print(f\"\\tFull name:{full_name.title()}\")\n",
    "    print(f\"\\tLocation:{location.title()}\")"
   ]
  },
  {
   "cell_type": "code",
   "execution_count": 8,
   "id": "f1e89bf6",
   "metadata": {},
   "outputs": [
    {
     "name": "stdout",
     "output_type": "stream",
     "text": [
      "{'first_name': 'karl', 'last_name': 'marx', 'age': 300, 'city': 'London'}\n",
      "{'first_name': 'alen', 'last_name': 'walk', 'age': 31, 'city': 'New York'}\n",
      "{'first_name': 'karl', 'last_name': 'marx', 'age': 300, 'city': 'London'}\n"
     ]
    }
   ],
   "source": [
    "#练习6.7 6.8 6.9 6.10 6.11 6.12\n",
    "people_1={'first_name':'karl','last_name':'marx','age':300,'city':'London'}\n",
    "people_2={'first_name':'alen','last_name':'walk','age':31,'city':'New York'}\n",
    "people_3={'first_name':'karl','last_name':'marx','age':300,'city':'London'}\n",
    "peoples=[people_1,people_2,people_3]\n",
    "for people in peoples:\n",
    "    print(people)"
   ]
  },
  {
   "cell_type": "code",
   "execution_count": 10,
   "id": "3c2c21ac",
   "metadata": {},
   "outputs": [
    {
     "name": "stdout",
     "output_type": "stream",
     "text": [
      "[{'master': 'alen', 'type': 'dog'}, {'master': 'alice', 'type': 'cat'}, {'master': 'jack', 'type': 'bird'}]\n",
      "[{'master': 'alen', 'type': 'dog'}, {'master': 'alice', 'type': 'cat'}, {'master': 'jack', 'type': 'bird'}]\n",
      "[{'master': 'alen', 'type': 'dog'}, {'master': 'alice', 'type': 'cat'}, {'master': 'jack', 'type': 'bird'}]\n"
     ]
    }
   ],
   "source": [
    "pet_0={'master':'alen','type':'dog'}\n",
    "pet_1={'master':'alice','type':'cat'}\n",
    "pet_2={'master':'jack','type':'bird'}\n",
    "pets=[pet_0,pet_1,pet_2]\n",
    "for pet in  pets:\n",
    "    print(pets)"
   ]
  },
  {
   "cell_type": "code",
   "execution_count": 15,
   "id": "5c1f289d",
   "metadata": {},
   "outputs": [
    {
     "name": "stdout",
     "output_type": "stream",
     "text": [
      "alice\n",
      "\tBeijing\n",
      "\tSshanghai\n",
      "jack\n",
      "\tCanada\n",
      "\tChina\n",
      "alen\n",
      "\tHome\n",
      "\tBed\n"
     ]
    }
   ],
   "source": [
    "favorite_place={'alice':['beijing','sshanghai'],'jack':['canada','china'],'alen':['home','bed']}\n",
    "for name,places in favorite_place.items():\n",
    "    print(f\"{name}\")\n",
    "    for place in places:\n",
    "        print(f\"\\t{place.title()}\")"
   ]
  },
  {
   "cell_type": "code",
   "execution_count": 17,
   "id": "73a01cb5",
   "metadata": {},
   "outputs": [
    {
     "name": "stdout",
     "output_type": "stream",
     "text": [
      "John\n",
      "\t3\n",
      "\t5\n",
      "\t7\n",
      "Little Red Riding Hood\n",
      "\t8\n",
      "\t9\n",
      "\t10\n",
      "Alice\n",
      "\t11\n",
      "\t12\n",
      "\t13\n",
      "Pain\n",
      "\t14\n",
      "\t15\n",
      "Black\n",
      "\t16\n"
     ]
    }
   ],
   "source": [
    "number={'john':[3,5,7],'Little Red Riding Hood':[8,9,10],'alice':[11,12,13],'pain':[14,15],'black':[16]}\n",
    "for name,numbers in number.items():\n",
    "    print(f\"{name.title()}\")\n",
    "    for number in numbers:\n",
    "        print(f\"\\t{number}\")"
   ]
  },
  {
   "cell_type": "code",
   "execution_count": 21,
   "id": "7b14bc8b",
   "metadata": {},
   "outputs": [
    {
     "name": "stdout",
     "output_type": "stream",
     "text": [
      "london\n",
      "something[country]\n",
      "something[fact]\n",
      "beijing\n",
      "something[country]\n",
      "something[fact]\n",
      "new york\n",
      "something[country]\n",
      "something[fact]\n"
     ]
    }
   ],
   "source": [
    "cities={'london':{'people':'879w','country':'britain','fact':'robber'},\n",
    "        'beijing':{'people':'1000w','country':'china','fact':'big'},\n",
    "        'new york':{'people':'1000w','country':'america','fact':'young'}\n",
    "       }\n",
    "for city,something in cities.items():\n",
    "    print(f\"{city}\")\n",
    "    countrys=f\"something[country]\"\n",
    "    facts=f\"something[fact]\"\n",
    "    print(f\"{countrys}\")\n",
    "    print(f\"{facts}\")"
   ]
  },
  {
   "cell_type": "code",
   "execution_count": null,
   "id": "a6bc8cda",
   "metadata": {},
   "outputs": [],
   "source": []
  }
 ],
 "metadata": {
  "kernelspec": {
   "display_name": "Python 3 (ipykernel)",
   "language": "python",
   "name": "python3"
  },
  "language_info": {
   "codemirror_mode": {
    "name": "ipython",
    "version": 3
   },
   "file_extension": ".py",
   "mimetype": "text/x-python",
   "name": "python",
   "nbconvert_exporter": "python",
   "pygments_lexer": "ipython3",
   "version": "3.9.13"
  }
 },
 "nbformat": 4,
 "nbformat_minor": 5
}
