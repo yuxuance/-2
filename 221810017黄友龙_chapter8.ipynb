{
 "cells": [
  {
   "cell_type": "code",
   "execution_count": 3,
   "id": "40c6a487",
   "metadata": {},
   "outputs": [
    {
     "name": "stdout",
     "output_type": "stream",
     "text": [
      "Hello!\n"
     ]
    }
   ],
   "source": [
    "#8.1 定义函数\n",
    "def greet_user():\n",
    "    \"\"\"显示简单的问候语\"\"\"\n",
    "    print(\"Hello!\")\n",
    "\n",
    "greet_user()"
   ]
  },
  {
   "cell_type": "code",
   "execution_count": 1,
   "id": "a5a83b1b",
   "metadata": {},
   "outputs": [
    {
     "name": "stdout",
     "output_type": "stream",
     "text": [
      "Hello,Jesse\n"
     ]
    }
   ],
   "source": [
    "#8.1.1向函数传递信息\n",
    "def greet_user(username):\n",
    "    \"\"\"显示简单的问候语\"\"\"\n",
    "    print(f\"Hello,{username.title()}\")\n",
    "greet_user('jesse')"
   ]
  },
  {
   "cell_type": "code",
   "execution_count": 2,
   "id": "c143e770",
   "metadata": {},
   "outputs": [
    {
     "name": "stdout",
     "output_type": "stream",
     "text": [
      "This chapter is about function.\n"
     ]
    }
   ],
   "source": [
    "#练习8.1\n",
    "def display_message():\n",
    "    \"\"\"指出本章的主题\"\"\"\n",
    "    print(f\"This chapter is about function.\")\n",
    "display_message()"
   ]
  },
  {
   "cell_type": "code",
   "execution_count": 4,
   "id": "5c6cd77f",
   "metadata": {},
   "outputs": [
    {
     "name": "stdout",
     "output_type": "stream",
     "text": [
      "One of my favorite books is Alice In Wonderland.\n"
     ]
    }
   ],
   "source": [
    "#练习8.2\n",
    "def favorite_book(title):\n",
    "    \"\"\"指出最喜欢的一本书\"\"\"\n",
    "    print(f\"One of my favorite books is {title.title()}.\")\n",
    "favorite_book(\"Alice in Wonderland\")"
   ]
  },
  {
   "cell_type": "code",
   "execution_count": 2,
   "id": "c1f2e3f9",
   "metadata": {},
   "outputs": [
    {
     "name": "stdout",
     "output_type": "stream",
     "text": [
      "\n",
      "I have a hamster.\n",
      "\n",
      " My hamster's name is Harry.\n"
     ]
    }
   ],
   "source": [
    "#8.2传递实参\n",
    "#8.2.1位置实参\n",
    "def describe_pet(animal_type,pet_name):\n",
    "    \"\"\"显示宠物的信息\"\"\"\n",
    "    print(f\"\\nI have a {animal_type}.\")\n",
    "    print(f\"\\n My {animal_type}'s name is {pet_name.title()}.\")\n",
    "describe_pet('hamster','harry')"
   ]
  },
  {
   "cell_type": "code",
   "execution_count": 3,
   "id": "ae0a98c3",
   "metadata": {},
   "outputs": [
    {
     "name": "stdout",
     "output_type": "stream",
     "text": [
      "\n",
      "I have a hamster.\n",
      "\n",
      " My hamster's name is Harry.\n",
      "\n",
      "I have a dog.\n",
      "\n",
      " My dog's name is Willie.\n"
     ]
    }
   ],
   "source": [
    "#1调用函数多次\n",
    "def describe_pet(animal_type,pet_name):\n",
    "    \"\"\"显示宠物的信息\"\"\"\n",
    "    print(f\"\\nI have a {animal_type}.\")\n",
    "    print(f\"\\n My {animal_type}'s name is {pet_name.title()}.\")\n",
    "describe_pet('hamster','harry')\n",
    "describe_pet('dog','willie')"
   ]
  },
  {
   "cell_type": "code",
   "execution_count": 4,
   "id": "e0776d69",
   "metadata": {},
   "outputs": [
    {
     "name": "stdout",
     "output_type": "stream",
     "text": [
      "\n",
      "I have a hamster.\n",
      "\n",
      " My hamster's name is Harry.\n"
     ]
    }
   ],
   "source": [
    "#8.2.2关键字实参 \n",
    "def describe_pet(animal_type,pet_name):\n",
    "    \"\"\"显示宠物的信息\"\"\"\n",
    "    print(f\"\\nI have a {animal_type}.\")\n",
    "    print(f\"\\n My {animal_type}'s name is {pet_name.title()}.\")\n",
    "describe_pet(animal_type='hamster',pet_name='harry')"
   ]
  },
  {
   "cell_type": "code",
   "execution_count": 5,
   "id": "ce3c3773",
   "metadata": {},
   "outputs": [
    {
     "name": "stdout",
     "output_type": "stream",
     "text": [
      "\n",
      "I have a dog.\n",
      "My dog's name is Willie.\n"
     ]
    }
   ],
   "source": [
    "#8.2.3默认值\n",
    "def describe_pet(pet_name,animal_type='dog'):\n",
    "    \"\"\"显示宠物信息\"\"\"\n",
    "    print(f\"\\nI have a {animal_type}.\")\n",
    "    print(f\"My {animal_type}'s name is {pet_name.title()}.\")\n",
    "describe_pet(pet_name='willie')\n"
   ]
  },
  {
   "cell_type": "code",
   "execution_count": null,
   "id": "b2c4f733",
   "metadata": {},
   "outputs": [],
   "source": [
    "#8.2.3等效的函数调用\n",
    "#请看describe_pet（）函数的如下定义，其中给一个形参提供了默认值\n",
    "def describe_pet(pet_name,animal_type='dog'):\n",
    "\n",
    "#下面对这个函数的所有调用都可行\n",
    "\n",
    "#一只名为Willie的小狗\n",
    "describe_pet('willie')\n",
    "describe_pet(pet_name='willie')\n",
    "\n",
    "#一只名为Harry的仓鼠\n",
    "describe_pet('harry','hamster')\n",
    "describe_pet(pet_name='harry',animal_type='hamster')\n",
    "describe_pet(animal_type='hamster',pet_name='harry')\n"
   ]
  },
  {
   "cell_type": "code",
   "execution_count": 6,
   "id": "4a0eccaa",
   "metadata": {},
   "outputs": [
    {
     "ename": "TypeError",
     "evalue": "describe_pet() missing 1 required positional argument: 'pet_name'",
     "output_type": "error",
     "traceback": [
      "\u001b[1;31m---------------------------------------------------------------------------\u001b[0m",
      "\u001b[1;31mTypeError\u001b[0m                                 Traceback (most recent call last)",
      "\u001b[1;32m~\\AppData\\Local\\Temp\\ipykernel_3240\\123537126.py\u001b[0m in \u001b[0;36m<module>\u001b[1;34m\u001b[0m\n\u001b[0;32m      4\u001b[0m     \u001b[0mprint\u001b[0m\u001b[1;33m(\u001b[0m\u001b[1;34mf\"\\nI have a {animal_type}.\"\u001b[0m\u001b[1;33m)\u001b[0m\u001b[1;33m\u001b[0m\u001b[1;33m\u001b[0m\u001b[0m\n\u001b[0;32m      5\u001b[0m     \u001b[0mprint\u001b[0m\u001b[1;33m(\u001b[0m\u001b[1;34mf\"My {animal_type}'s name is {pet_name.title()}.\"\u001b[0m\u001b[1;33m)\u001b[0m\u001b[1;33m\u001b[0m\u001b[1;33m\u001b[0m\u001b[0m\n\u001b[1;32m----> 6\u001b[1;33m \u001b[0mdescribe_pet\u001b[0m\u001b[1;33m(\u001b[0m\u001b[1;33m)\u001b[0m\u001b[1;33m\u001b[0m\u001b[1;33m\u001b[0m\u001b[0m\n\u001b[0m",
      "\u001b[1;31mTypeError\u001b[0m: describe_pet() missing 1 required positional argument: 'pet_name'"
     ]
    }
   ],
   "source": [
    "#8.2.5 避免实参错误\n",
    "def describe_pet(pet_name,animal_type='dog'):\n",
    "    \"\"\"显示宠物信息\"\"\"\n",
    "    print(f\"\\nI have a {animal_type}.\")\n",
    "    print(f\"My {animal_type}'s name is {pet_name.title()}.\")\n",
    "describe_pet()#traceback首先指出问题在什么地方让我们能够回头找到函数调用中的错误\n",
    "#然后指出导致问题的函数调用\n",
    "#最后traceback指出该函数调用缺少两个实参"
   ]
  },
  {
   "cell_type": "code",
   "execution_count": 14,
   "id": "446fd5aa",
   "metadata": {},
   "outputs": [
    {
     "name": "stdout",
     "output_type": "stream",
     "text": [
      "We will make a shit which with xxl size and it will be printed with 'F**K You'.\n"
     ]
    }
   ],
   "source": [
    "#练习8.3\n",
    "def make_shirt(size,word):\n",
    "    print(f\"We will make a shit which with {size} size and it will be printed with '{word.title()}'.\")\n",
    "\n",
    "make_shirt('xxl','f**k you')\n",
    "    "
   ]
  },
  {
   "cell_type": "code",
   "execution_count": 13,
   "id": "b4d1cfa6",
   "metadata": {},
   "outputs": [
    {
     "name": "stdout",
     "output_type": "stream",
     "text": [
      "We will make a shit which with big size and it will be printed with 'I Love Python'.\n",
      "We will make a shit which with medium size and it will be printed with 'I Love Python'.\n",
      "We will make a shit which with small size and it will be printed with 'F**K You'.\n"
     ]
    }
   ],
   "source": [
    "#练习8.4\n",
    "def make_shirt(size,word='I love Python'):\n",
    "    print(f\"We will make a shit which with {size} size and it will be printed with '{word.title()}'.\")\n",
    "make_shirt('big')\n",
    "make_shirt('medium')\n",
    "make_shirt('small','F**K YOU')"
   ]
  },
  {
   "cell_type": "code",
   "execution_count": 15,
   "id": "b0681fa9",
   "metadata": {},
   "outputs": [
    {
     "name": "stdout",
     "output_type": "stream",
     "text": [
      "Shanghai is in China.\n",
      "New York is in America.\n",
      "Beijing is in China.\n"
     ]
    }
   ],
   "source": [
    "#8.5\n",
    "def describe_city(city_name,country_name='China'):\n",
    "    print(f\"{city_name.title()} is in {country_name.title()}.\")\n",
    "describe_city('shanghai')\n",
    "describe_city('New york','America')\n",
    "describe_city('beijing')"
   ]
  },
  {
   "cell_type": "code",
   "execution_count": 16,
   "id": "140164da",
   "metadata": {},
   "outputs": [
    {
     "name": "stdout",
     "output_type": "stream",
     "text": [
      "Jimi Hendrix\n"
     ]
    }
   ],
   "source": [
    "#8.3返回值\n",
    "#8.3.1 返回简单的值\n",
    "def get_formatted_name(first_name,last_name):\n",
    "    \"\"\"返回标准格式的姓名\"\"\"\n",
    "    full_name=f\"{first_name} {last_name}\"\n",
    "    return full_name.title()\n",
    "musician=get_formatted_name('jimi','hendrix')\n",
    "print(musician)"
   ]
  },
  {
   "cell_type": "code",
   "execution_count": 2,
   "id": "f195fa92",
   "metadata": {},
   "outputs": [
    {
     "name": "stdout",
     "output_type": "stream",
     "text": [
      "John Lee Hooker\n"
     ]
    }
   ],
   "source": [
    "#8.3.2让实参变成可选的\n",
    "def get_formatted_name(first_name,middle_name,last_name):\n",
    "    \"\"\"返回标准格式的姓名\"\"\"\n",
    "    full_name=f\"{first_name} {middle_name} {last_name}\"\n",
    "    return full_name.title()\n",
    "musician=get_formatted_name('john','lee','hooker')\n",
    "print(musician)"
   ]
  },
  {
   "cell_type": "code",
   "execution_count": 1,
   "id": "023c1a60",
   "metadata": {},
   "outputs": [
    {
     "name": "stdout",
     "output_type": "stream",
     "text": [
      "Jimi Hendrix\n",
      "John Lee Hooker\n"
     ]
    }
   ],
   "source": [
    "#然而不是所有人都有中间名的\n",
    "def get_formatted_name(first_name,last_name,middle_name=''):\n",
    "    \"\"\"返回标准格式的姓名\"\"\"\n",
    "    if middle_name:\n",
    "        full_name=f\"{first_name} {middle_name} {last_name}\"\n",
    "    else:\n",
    "         full_name=f\"{first_name} {last_name}\"\n",
    "    return full_name.title()\n",
    "musician=get_formatted_name('jimi','hendrix')\n",
    "print(musician)\n",
    "musician=get_formatted_name('john','hooker','lee')\n",
    "print(musician)"
   ]
  },
  {
   "cell_type": "code",
   "execution_count": 2,
   "id": "03490eb4",
   "metadata": {},
   "outputs": [
    {
     "name": "stdout",
     "output_type": "stream",
     "text": [
      "{'first': 'jimi', 'last': 'hendrix'}\n"
     ]
    }
   ],
   "source": [
    "#8.3.3返回字典\n",
    "def build_person(first_name,last_name):\n",
    "    \"\"\"返回一个字典，其中包含有关一个人的信息\"\"\"\n",
    "    person={'first':first_name,'last':last_name}#build_person函数接受名和姓，并将这些值\n",
    "    return person#返回表示人的整个字典\n",
    "musician=build_person('jimi','hendrix')\n",
    "print(musician)#打印这个被返回的值"
   ]
  },
  {
   "cell_type": "code",
   "execution_count": 17,
   "id": "9a621c32",
   "metadata": {},
   "outputs": [
    {
     "name": "stdout",
     "output_type": "stream",
     "text": [
      "{'first': 'jimi', 'last': 'hendrix', 'age': 27}\n"
     ]
    }
   ],
   "source": [
    "def build_person(first_name,last_name,age=None):\n",
    "    \"\"\"返回一个字典，其中包含一个有关人的信息\"\"\"\n",
    "    person = {'first':first_name,'last':last_name}\n",
    "    if age:\n",
    "        person['age']=age\n",
    "    return person\n",
    "musician=build_person('jimi','hendrix',27)\n",
    "print(musician)"
   ]
  },
  {
   "cell_type": "code",
   "execution_count": 10,
   "id": "1b3dc234",
   "metadata": {},
   "outputs": [
    {
     "name": "stdout",
     "output_type": "stream",
     "text": [
      "\n",
      "Please tell me your name:\n",
      "(enter 'q' at any time to quit)\n",
      "First name:john\n",
      "Last name:allen\n",
      "\n",
      "Hello,John Allen!\n",
      "\n",
      "Please tell me your name:\n",
      "(enter 'q' at any time to quit)\n",
      "First name:q\n"
     ]
    }
   ],
   "source": [
    "#8.3.4结合使用函数和while循环\n",
    "def get_formatted_name(first_name,last_name):\n",
    "    \"\"\"返回规范格式的姓名\"\"\"\n",
    "    full_name=f\"{first_name} {last_name}\"\n",
    "    return full_name.title()\n",
    "\n",
    "#这是一个无限循环\n",
    "while True:\n",
    "    print(\"\\nPlease tell me your name:\")\n",
    "    print(\"(enter 'q' at any time to quit)\")\n",
    "    f_name=input('First name:')\n",
    "    if f_name=='q':\n",
    "        break\n",
    "    l_name=input('Last name:')\n",
    "    if l_name=='q':\n",
    "        break\n",
    "    \n",
    "    formatted_name=get_formatted_name(f_name,l_name)\n",
    "    print(f\"\\nHello,{formatted_name}!\")"
   ]
  },
  {
   "cell_type": "code",
   "execution_count": 14,
   "id": "537a0f94",
   "metadata": {},
   "outputs": [
    {
     "name": "stdout",
     "output_type": "stream",
     "text": [
      "'Santigao,Chile.'\n",
      "'Shanghai,China.'\n",
      "'New York,America.'\n"
     ]
    }
   ],
   "source": [
    "#练习8.6\n",
    "def city_country(city,country):\n",
    "    \"\"\"返回一个字符串，其中包括城市和它所属的国家\"\"\"\n",
    "    city_country=f\"'{city},{country}.'\"\n",
    "    return city_country.title()\n",
    "musician=city_country(\"santigao\",\"chile\")\n",
    "print(musician)\n",
    "musician=city_country(\"shanghai\",\"china\")\n",
    "print(musician)\n",
    "musician=city_country(\"new york\",\"america\")\n",
    "print(musician)"
   ]
  },
  {
   "cell_type": "code",
   "execution_count": 26,
   "id": "a67780d6",
   "metadata": {},
   "outputs": [
    {
     "name": "stdout",
     "output_type": "stream",
     "text": [
      "{'singer': 'miku', 'album': 'world on color', 'the number of this album': 12}\n",
      "{'singer': 'miku', 'album': 'king', 'the number of this album': 7}\n",
      "{'singer': 'miku', 'album': 're rising', 'the number of this album': 10}\n"
     ]
    }
   ],
   "source": [
    "#练习8.7\n",
    "def make_album(singer_name,album_name,song_number=None):\n",
    "    \"\"\"返回一个字典，其中包含一个专辑的信息\"\"\"\n",
    "    album={'singer':singer_name,'album': album_name}\n",
    "    if song_number:\n",
    "        album['the number of this album']=song_number\n",
    "    return album\n",
    "musician=make_album(\"miku\",\"world on color\",song_number=12)\n",
    "print(musician)\n",
    "musician=make_album(\"miku\",\"king\",song_number=7)\n",
    "print(musician)\n",
    "musician=make_album(\"miku\",\"re rising\",song_number=10)\n",
    "print(musician)"
   ]
  },
  {
   "cell_type": "code",
   "execution_count": 6,
   "id": "b5e1ff2b",
   "metadata": {},
   "outputs": [
    {
     "name": "stdout",
     "output_type": "stream",
     "text": [
      "\n",
      "Please input the message of album:\n",
      "(enter 'q' at any time to quit)\n",
      "Singer_name miku\n",
      "Album_nameboys\n",
      "The number of this album11\n",
      "{'singer': 'miku', 'album': 'boys', 'the number of this album': '11'}\n",
      "\n",
      "Please input the message of album:\n",
      "(enter 'q' at any time to quit)\n",
      "Singer_name \n",
      "Album_namemiku\n",
      "The number of this albumre rising\n",
      "{'singer': '', 'album': 'miku', 'the number of this album': 're rising'}\n",
      "\n",
      "Please input the message of album:\n",
      "(enter 'q' at any time to quit)\n",
      "Singer_name 12\n",
      "Album_nameq\n"
     ]
    }
   ],
   "source": [
    "#练习8.8\n",
    "#练习8.7\n",
    "def make_album(singer_name,album_name,song_number=None):\n",
    "    \"\"\"返回一个字典，其中包含一个专辑的信息\"\"\"\n",
    "    album={'singer':singer_name,'album': album_name}\n",
    "    if song_number:\n",
    "        album['the number of this album']=song_number\n",
    "    return album\n",
    "while True: \n",
    "    print(\"\\nPlease input the message of album:\")\n",
    "    print(\"(enter 'q' at any time to quit)\")\n",
    "    s_name=input(\"Singer_name \")\n",
    "    if s_name=='q':\n",
    "        break\n",
    "    a_name=input(\"Album_name\")\n",
    "    if a_name=='q':\n",
    "        break\n",
    "    song_number=input(\"The number of this album\")\n",
    "    if song_number=='q':\n",
    "        break\n",
    "    musician=make_album(s_name,a_name,song_number)\n",
    "    print(musician)"
   ]
  },
  {
   "cell_type": "code",
   "execution_count": 8,
   "id": "b59535a5",
   "metadata": {},
   "outputs": [
    {
     "name": "stdout",
     "output_type": "stream",
     "text": [
      "Hello,Hannah\n",
      "Hello,Ty\n",
      "Hello,Margot\n"
     ]
    }
   ],
   "source": [
    "#8.4 传递列表\n",
    "def greet_user(names):\n",
    "    \"\"\"向列表中的每个用户发出简单的问候\"\"\"\n",
    "    for name in names:\n",
    "        msg=f\"Hello,{name.title()}\"\n",
    "        print(msg)\n",
    "usernames=['hannah','ty','margot']\n",
    "greet_user(usernames)"
   ]
  },
  {
   "cell_type": "code",
   "execution_count": 12,
   "id": "c6113447",
   "metadata": {},
   "outputs": [
    {
     "name": "stdout",
     "output_type": "stream",
     "text": [
      "Printing model:dodecahedron\n",
      "Printing model:robot pendant\n",
      "Printing model:phone case\n",
      "\n",
      "The following models have been printed:\n",
      "dodecahedron\n",
      "robot pendant\n",
      "phone case\n"
     ]
    }
   ],
   "source": [
    "#8.4.1在函数中修改列表\n",
    "#首先创建一个列表，其中包含一些要打印的设计\n",
    "unprinted_designs=['phone case','robot pendant','dodecahedron']\n",
    "completed_models=[]\n",
    "#模拟打印每个设计，直到没有未打印的设计为止\n",
    "#打印每个设计后，都将其移动到列表completed_models中\n",
    "while unprinted_designs:\n",
    "    current_design= unprinted_designs.pop()\n",
    "    print(f\"Printing model:{current_design}\")\n",
    "    completed_models.append(current_design)\n",
    "#显示打印好的所有模型\n",
    "print(\"\\nThe following models have been printed:\")\n",
    "for completed_model in completed_models:\n",
    "    print(completed_model)"
   ]
  },
  {
   "cell_type": "code",
   "execution_count": 2,
   "id": "0d0e30de",
   "metadata": {},
   "outputs": [
    {
     "name": "stdout",
     "output_type": "stream",
     "text": [
      "Printing model:dodecahedron\n",
      "Printing model:robot pendant\n",
      "Printing model:phone case\n",
      "\n",
      "The following models have been printed:\n",
      "dodecahedron\n",
      "robot pendant\n",
      "phone case\n"
     ]
    }
   ],
   "source": [
    "#可以重新组织这些代码，编写两个函数，让每一个都做一件具体的工作\n",
    "def print_models(unprinted_designs,completed_models):\n",
    "    \"\"\"模拟打印每个设计，\n",
    "    直到没有未打印的设计为止\n",
    "    打印每个设计后，都将其移到列表completed_models\"\"\"\n",
    "    while unprinted_designs:\n",
    "        current_design= unprinted_designs.pop()\n",
    "        print(f\"Printing model:{current_design}\")\n",
    "        completed_models.append(current_design)\n",
    "def show_completed_models(completed_models):\n",
    "    \"\"\"显示打印好的所有模型\"\"\"\n",
    "    print(\"\\nThe following models have been printed:\")\n",
    "    for completed_model in completed_models:\n",
    "        print(completed_model)\n",
    "unprinted_designs=['phone case','robot pendant','dodecahedron']\n",
    "completed_models=[]\n",
    "print_models(unprinted_designs,completed_models)\n",
    "show_completed_models(completed_models)"
   ]
  },
  {
   "cell_type": "code",
   "execution_count": null,
   "id": "87c6a565",
   "metadata": {},
   "outputs": [],
   "source": [
    "#8.4.2禁止函数修改列表\n",
    "#要将列表的副本传递给函数，可以像下面这样做\n",
    "#function_name(list_name[:])\n",
    "##切片表示法【：】创建列表的副本。在printing_models.py中，如果不想清空未打印的设计列表，可像下面这样调用print——models（）：\n",
    "print_models(unprinted_designs[:],completed_models)"
   ]
  },
  {
   "cell_type": "code",
   "execution_count": 8,
   "id": "fc5123b0",
   "metadata": {},
   "outputs": [
    {
     "name": "stdout",
     "output_type": "stream",
     "text": [
      "hello,john\n",
      "hello,alice\n",
      "hello,jack\n"
     ]
    }
   ],
   "source": [
    "#练习8.9\n",
    "def show_messages(texts):\n",
    "    \"\"\"打印列表中的每一条文本消息消息\"\"\"\n",
    "    for  text in texts:\n",
    "        message=f\"hello,{text}\"\n",
    "        print(message)\n",
    "user_texts=['john','alice','jack']\n",
    "show_messages(user_texts)"
   ]
  },
  {
   "cell_type": "code",
   "execution_count": 7,
   "id": "9af7c8b2",
   "metadata": {},
   "outputs": [
    {
     "name": "stdout",
     "output_type": "stream",
     "text": [
      "hello,john\n",
      "hello,alice\n",
      "hello,jack\n",
      "['jack', 'alice', 'john']\n",
      "[]\n"
     ]
    }
   ],
   "source": [
    "#练习8.10\n",
    "def send_messages(sent_messages,user_texts):\n",
    "    \"\"\"将8.9中打印出来的每条信息转移动sent_messages列表中,并将两个列表都打印出来，验证信息被转移到了正确的列表里\"\"\"\n",
    "    while  user_texts:\n",
    "        printed_messages=user_texts.pop()\n",
    "        sent_messages.append(printed_messages)\n",
    "    print(sent_messages)\n",
    "    print(user_texts)\n",
    "def show_messages(texts):\n",
    "    \"\"\"打印列表中的每一条文本消息消息\"\"\"\n",
    "    for  text in texts:\n",
    "        message=f\"hello,{text}\"\n",
    "        print(message)\n",
    "sent_messages=[]\n",
    "user_texts=['john','alice','jack']\n",
    "\n",
    "show_messages(user_texts)\n",
    "\n",
    "send_messages(sent_messages,user_texts)\n"
   ]
  },
  {
   "cell_type": "code",
   "execution_count": 13,
   "id": "91f6976f",
   "metadata": {},
   "outputs": [
    {
     "name": "stdout",
     "output_type": "stream",
     "text": [
      "hello,john\n",
      "hello,alice\n",
      "hello,jack\n",
      "['john', 'alice', 'jack']\n",
      "['jack', 'alice', 'john']\n"
     ]
    }
   ],
   "source": [
    "#练习8.11\n",
    "def send_messages(sent_messages,user_texts):\n",
    "    \"\"\"将8.9中打印出来的每条信息转移动sent_messages列表中,并将两个列表都打印出来，验证信息被转移到了正确的列表里\"\"\"\n",
    "    while  user_texts:\n",
    "        printed_messages=user_texts.pop()\n",
    "        sent_messages.append(printed_messages)\n",
    "    print(sent_messages)\n",
    "    \n",
    "def show_messages(texts):\n",
    "    \"\"\"打印列表中的每一条文本消息消息\"\"\"\n",
    "    for  text in texts:\n",
    "        message=f\"hello,{text}\"\n",
    "        print(message)\n",
    "    print(user_texts)\n",
    "sent_messages=[]\n",
    "user_texts=['john','alice','jack']\n",
    "\n",
    "show_messages(user_texts)\n",
    "\n",
    "send_messages(sent_messages,user_texts[:])\n"
   ]
  },
  {
   "cell_type": "code",
   "execution_count": 14,
   "id": "66b835f8",
   "metadata": {},
   "outputs": [
    {
     "name": "stdout",
     "output_type": "stream",
     "text": [
      "('pepperoni',)\n",
      "('mushrooms', 'green peppers', 'extra chesse')\n"
     ]
    }
   ],
   "source": [
    "#8.5传递任意数量的实参\n",
    "#有时候你不知道函数需要接受多少个实参，好在python允许函数从调用语句中收集任意数量的实参\n",
    "def make_pizza(*toppings):\n",
    "    \"\"\"打印顾客点的所有配料\"\"\"\n",
    "    print(toppings)\n",
    "\n",
    "make_pizza('pepperoni')\n",
    "make_pizza('mushrooms','green peppers','extra chesse')\n",
    "#形参名*toppings中的星号让Python创建了一个名为toppings的元组，该元祖包含函数收到的所有值"
   ]
  },
  {
   "cell_type": "code",
   "execution_count": 15,
   "id": "ecd02177",
   "metadata": {},
   "outputs": [
    {
     "name": "stdout",
     "output_type": "stream",
     "text": [
      "\n",
      "Making a pizza with the following toppings:\n",
      "-pepperoni\n",
      "\n",
      "Making a pizza with the following toppings:\n",
      "-mushrooms\n",
      "-green peppers\n",
      "-extra chesse\n"
     ]
    }
   ],
   "source": [
    "#现在，可以将函数调用用print（）替换为一个循环，遍历列表并对顾客点的披萨进行描述\n",
    "def make_pizza(*toppings):\n",
    "    \"\"\"概述要制作的比萨\"\"\"\n",
    "    print(\"\\nMaking a pizza with the following toppings:\")\n",
    "    for topping in toppings:\n",
    "        print(f\"-{topping}\")\n",
    "make_pizza('pepperoni')\n",
    "make_pizza('mushrooms','green peppers','extra chesse')       "
   ]
  },
  {
   "cell_type": "code",
   "execution_count": 16,
   "id": "9122c24e",
   "metadata": {},
   "outputs": [
    {
     "name": "stdout",
     "output_type": "stream",
     "text": [
      "\n",
      "making a 16-inch pizza with the following toppings:\n",
      "-pepperoni\n",
      "\n",
      "making a 12-inch pizza with the following toppings:\n",
      "-mushrooms\n",
      "-green peppers\n",
      "-exter cheese\n"
     ]
    }
   ],
   "source": [
    "#8.5.1结合使用位置实参和任意数量的实参\n",
    "#如果要让函数接受不同类型的实参，必须在函数定义中将接受任意数量实参的形参放在最后，python先匹配位置实参和关键字实参，再将余下的实参都收集到最后一个形参中\n",
    "def make_pizza(size,*toppings):\n",
    "    \"\"\"概述要制作的比萨\"\"\"\n",
    "    print(f\"\\nmaking a {size}-inch pizza with the following toppings:\")\n",
    "    for topping in toppings:\n",
    "        print(f\"-{topping}\")\n",
    "        \n",
    "make_pizza(16,'pepperoni')\n",
    "make_pizza(12,'mushrooms','green peppers', 'exter cheese')\n",
    "    "
   ]
  },
  {
   "cell_type": "code",
   "execution_count": 19,
   "id": "eb9163ec",
   "metadata": {},
   "outputs": [
    {
     "name": "stdout",
     "output_type": "stream",
     "text": [
      "{'location': 'princeton', 'field': 'physics', 'first_name': 'albert', 'last_name': 'einstein'}\n"
     ]
    }
   ],
   "source": [
    "#8.5.2使用任意数量的关键字实参\n",
    "#有时候，你需要接受任意数量的实参，但预先不知道传递给函数的会是什么样的信息。在这种情况下，可将函数编写成能够接受任意数量的键值对：调用语句提供了多少就介绍多少。\n",
    "def build_profile(first,last,**user_info):\n",
    "    \"\"\"创建一个字典，其中包含我们知道的有关用户的一切\"\"\"\n",
    "    user_info['first_name']=first\n",
    "    user_info['last_name']=last\n",
    "    return user_info\n",
    "user_profiled=build_profile('albert','einstein',location='princeton',field='physics')\n",
    "print(user_profiled)"
   ]
  },
  {
   "cell_type": "code",
   "execution_count": 20,
   "id": "c0f04f76",
   "metadata": {},
   "outputs": [
    {
     "name": "stdout",
     "output_type": "stream",
     "text": [
      "\n",
      "Making a sandwich with the following food:\n",
      "-tomato\n",
      "\n",
      "Making a sandwich with the following food:\n",
      "-potato\n",
      "-bacon\n",
      "\n",
      "Making a sandwich with the following food:\n",
      "-tomato\n",
      "-bacon\n",
      "-omelette\n"
     ]
    }
   ],
   "source": [
    "#练习8.12\n",
    "def make_sandwich(*foods):\n",
    "    \"\"\"概述要制作的三明治\"\"\"\n",
    "    print(f\"\\nMaking a sandwich with the following food:\")\n",
    "    for food in foods:\n",
    "        print(f\"-{food}\")\n",
    "\n",
    "make_sandwich('tomato')\n",
    "make_sandwich('potato','bacon')\n",
    "make_sandwich('tomato','bacon','omelette')\n",
    "  "
   ]
  },
  {
   "cell_type": "code",
   "execution_count": 21,
   "id": "cf32bb3d",
   "metadata": {},
   "outputs": [
    {
     "name": "stdout",
     "output_type": "stream",
     "text": [
      "{'location': 'NJU', 'field': 'news and spread', 'first_name': '黄', 'last_name': '友龙'}\n"
     ]
    }
   ],
   "source": [
    "#练习8.13\n",
    "def build_profile(first,last,**user_info):\n",
    "    \"\"\"创建一个字典，其中包含我们知道的有关用户的一切\"\"\"\n",
    "    user_info['first_name']=first\n",
    "    user_info['last_name']=last\n",
    "    return user_info\n",
    "user_profiled=build_profile('黄','友龙',location='NJU',field='news and spread')\n",
    "print(user_profiled)"
   ]
  },
  {
   "cell_type": "code",
   "execution_count": 22,
   "id": "bee69758",
   "metadata": {},
   "outputs": [
    {
     "name": "stdout",
     "output_type": "stream",
     "text": [
      "{'color': 'blue', 'tow_package': 'True', 'manufacture': 'subaru', 'model': 'outback'}\n"
     ]
    }
   ],
   "source": [
    "#练习8.14\n",
    "def make_car(manufacture,model,**car_info):\n",
    "    \"\"\"创建一个字典，其中包含我们知道的有关这辆车的一切\"\"\"\n",
    "    car_info['manufacture']=manufacture\n",
    "    car_info['model']=model\n",
    "    return car_info\n",
    "car=make_car('subaru','outback',color='blue',tow_package='True')\n",
    "print(car)"
   ]
  },
  {
   "cell_type": "code",
   "execution_count": null,
   "id": "e7ec4f58",
   "metadata": {},
   "outputs": [],
   "source": [
    "#8.6将函数储存在模块中\n",
    "#使用函数的优点之一是可将代码块与主程序分离，通过给函数指定描述性名称，能让程序容易理解一点。你还可以更进一步，将函数存储在成为模块的独立文件中，再将模块导入import主程序。\n",
    "#8.6.1导入整个模块\n",
    "def make_pizza(size,*toppings):\n",
    "    \"\"\"概述要制作的比萨\"\"\"\n",
    "    print(f\"\\nMaking a {size}-inch pizza with the following toppings:\")\n",
    "    for topping in toppings:\n",
    "        print(f\"-{topping}\")"
   ]
  },
  {
   "cell_type": "code",
   "execution_count": 3,
   "id": "4c6edcc5",
   "metadata": {},
   "outputs": [
    {
     "ename": "ModuleNotFoundError",
     "evalue": "No module named 'pizza'",
     "output_type": "error",
     "traceback": [
      "\u001b[1;31m---------------------------------------------------------------------------\u001b[0m",
      "\u001b[1;31mModuleNotFoundError\u001b[0m                       Traceback (most recent call last)",
      "\u001b[1;32m~\\AppData\\Local\\Temp\\ipykernel_21136\\2153441600.py\u001b[0m in \u001b[0;36m<module>\u001b[1;34m\u001b[0m\n\u001b[1;32m----> 1\u001b[1;33m \u001b[1;32mimport\u001b[0m \u001b[0mpizza\u001b[0m\u001b[1;33m\u001b[0m\u001b[1;33m\u001b[0m\u001b[0m\n\u001b[0m\u001b[0;32m      2\u001b[0m \u001b[0mpizza\u001b[0m\u001b[1;33m.\u001b[0m\u001b[0mmake_pizza\u001b[0m\u001b[1;33m(\u001b[0m\u001b[1;36m16\u001b[0m\u001b[1;33m,\u001b[0m\u001b[1;34m'pepperoni'\u001b[0m\u001b[1;33m)\u001b[0m\u001b[1;33m\u001b[0m\u001b[1;33m\u001b[0m\u001b[0m\n\u001b[0;32m      3\u001b[0m \u001b[0mpizza\u001b[0m\u001b[1;33m.\u001b[0m\u001b[0mmake_pizza\u001b[0m\u001b[1;33m(\u001b[0m\u001b[1;36m12\u001b[0m\u001b[1;33m,\u001b[0m\u001b[1;34m'mushrooms'\u001b[0m\u001b[1;33m,\u001b[0m\u001b[1;34m'green peppers'\u001b[0m\u001b[1;33m,\u001b[0m\u001b[1;34m'extra cheese'\u001b[0m\u001b[1;33m)\u001b[0m\u001b[1;33m\u001b[0m\u001b[1;33m\u001b[0m\u001b[0m\n",
      "\u001b[1;31mModuleNotFoundError\u001b[0m: No module named 'pizza'"
     ]
    }
   ],
   "source": [
    "import pizza\n",
    "pizza.make_pizza(16,'pepperoni')\n",
    "pizza.make_pizza(12,'mushrooms','green peppers','extra cheese')"
   ]
  },
  {
   "cell_type": "code",
   "execution_count": null,
   "id": "7ddbe997",
   "metadata": {},
   "outputs": [],
   "source": []
  }
 ],
 "metadata": {
  "kernelspec": {
   "display_name": "Python 3 (ipykernel)",
   "language": "python",
   "name": "python3"
  },
  "language_info": {
   "codemirror_mode": {
    "name": "ipython",
    "version": 3
   },
   "file_extension": ".py",
   "mimetype": "text/x-python",
   "name": "python",
   "nbconvert_exporter": "python",
   "pygments_lexer": "ipython3",
   "version": "3.9.13"
  }
 },
 "nbformat": 4,
 "nbformat_minor": 5
}
